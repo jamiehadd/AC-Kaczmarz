{
 "cells": [
  {
   "cell_type": "code",
   "execution_count": 1,
   "metadata": {},
   "outputs": [],
   "source": [
    "# Import Libraries\n",
    "import matplotlib.pyplot as plt\n",
    "from networkx import nx\n",
    "import itertools\n",
    "import numpy as np\n",
    "import scipy as sp\n",
    "from numpy.linalg import pinv\n",
    "from numpy.random import randint, normal\n",
    "from networkx.algorithms.clique import find_cliques, enumerate_all_cliques\n",
    "from networkx.algorithms.approximation import maximum_independent_set\n",
    "from networkx.algorithms.operators.unary import complement\n",
    "from scipy import stats"
   ]
  },
  {
   "cell_type": "markdown",
   "metadata": {},
   "source": [
    "# Block RK Functions\n",
    "These are our block RK functions with different varations, but they all return the same items"
   ]
  },
  {
   "cell_type": "code",
   "execution_count": 2,
   "metadata": {},
   "outputs": [],
   "source": [
    "# Standard Block RK\n",
    "# x_list allows us to track evolution of x and its individual components (for \"collapse\" graph?)\n",
    "# Takes in c: initial vector, b: Ax=b (column of zeros), A: incidence matrix, and sol: solution to Ax=b\n",
    "# Also takes in list of lists (Blocks) where each block is a list of rows within the incidence matrix corresponding to\n",
    "# specific subgraphs and N, number of maximum iterations\n",
    "# Returns: final value of x, list of x over iterations, and error over iterations\n",
    "\n",
    "def blockRK(A, sol, b, blocks, N, c):\n",
    "    k = len(blocks)\n",
    "    x = c\n",
    "    x_list = [x]\n",
    "    errors = []\n",
    "    for j in range (1, N+1):\n",
    "        i = randint(k);\n",
    "        x = x + np.linalg.pinv(A[blocks[i],:])@(b[blocks[i]] - A[blocks[i],:]@x)\n",
    "        errors.append(np.linalg.norm(x-sol))\n",
    "        x_list.append(x)\n",
    "    return x, x_list, errors"
   ]
  },
  {
   "cell_type": "code",
   "execution_count": 4,
   "metadata": {},
   "outputs": [],
   "source": [
    "# Corrupted block RK with random link failure (RLF)\n",
    "# Fails on each block randomly from a normal distribution\n",
    "# Independent but not identical probability of failure\n",
    "# Accepts fixed failure probability (Bernoulli)\n",
    "\n",
    "def blockRK_RLF(A, sol, b, blocks, N, c, p=0.3):\n",
    "    k = len(blocks)\n",
    "    x = c\n",
    "    x_list = [x]\n",
    "    errors = []\n",
    "    for j in range (1, N+1):\n",
    "        r = stats.bernoulli.rvs(p, size = 1);\n",
    "        i = randint(k)\n",
    "        if r[0] == 1:\n",
    "            x = x + np.linalg.pinv(A[blocks[i],:])@(b[blocks[i]] - A[blocks[i],:]@x)\n",
    "        errors.append(np.linalg.norm(x-sol))\n",
    "        x_list.append(x)\n",
    "    return x, x_list, errors"
   ]
  },
  {
   "cell_type": "code",
   "execution_count": 5,
   "metadata": {},
   "outputs": [],
   "source": [
    "# Corrupted block RK with one-off random additive noise (Gaussian)\n",
    "# Adds a Gaussian noise vector to b at first\n",
    "\n",
    "def blockRK_AGN(A, sol, b, blocks, N, c, s=0.05, m=0):\n",
    "    k = len(blocks)\n",
    "    x = c\n",
    "    errors = []\n",
    "    x_list = [x]\n",
    "    err = normal(m, s, b.shape)\n",
    "    b = b + err\n",
    "    for j in range (1, N+1):\n",
    "        x = x + np.linalg.pinv(A[blocks[i],:])@(b[blocks[i]] - A[blocks[i],:]@x) + err\n",
    "    errors.append(np.linalg.norm(x-sol))\n",
    "    x_list.append(x)\n",
    "    return x, errors"
   ]
  },
  {
   "cell_type": "code",
   "execution_count": 6,
   "metadata": {},
   "outputs": [],
   "source": [
    "# Corrupted block RK with two modes of failure: ONE-OFF additive gaussian noise and\n",
    "# random link failure\n",
    "\n",
    "def blockRK_cor(A, sol, b, blocks, N, c, p=0.3, m=0, s=0.1):\n",
    "    k = len(blocks)\n",
    "    x = c\n",
    "    errors = []\n",
    "    x_list = []\n",
    "    err = normal(m, s, b.shape)\n",
    "    b = b + err\n",
    "    for j in range (1, N+1):\n",
    "        r = stats.bernoulli.rvs(p, size = 1);\n",
    "        i = randint(k)\n",
    "        if r[0] == 1:\n",
    "            x = x + np.linalg.pinv(A[blocks[i],:])@(b[blocks[i]] - A[blocks[i],:]@x)\n",
    "            errors.append(np.linalg.norm(x-sol))\n",
    "    return x, x_list, errors"
   ]
  },
  {
   "cell_type": "markdown",
   "metadata": {},
   "source": [
    "# Helper Functions\n",
    "These are various helper functions for use; some of them are wrapped and will not be used standalone"
   ]
  },
  {
   "cell_type": "code",
   "execution_count": 7,
   "metadata": {},
   "outputs": [],
   "source": [
    "# Helper Functions for Size\n",
    "\n",
    "# NOT TO BE USED STANDALONE\n",
    "def trivial(x):\n",
    "    if len(x)<=2:\n",
    "        return False\n",
    "    return True"
   ]
  },
  {
   "cell_type": "code",
   "execution_count": 8,
   "metadata": {},
   "outputs": [],
   "source": [
    "# Helper Functions for Size\n",
    "\n",
    "# NOT TO BE USED STANDALONE\n",
    "def max_size(x, n):\n",
    "    if len(x)>n:\n",
    "        return False\n",
    "    return True"
   ]
  },
  {
   "cell_type": "code",
   "execution_count": 9,
   "metadata": {},
   "outputs": [],
   "source": [
    "# Removes all trivial subgraphs and subgraphs that are too big according to some specified maximum size\n",
    "# Takes in a list of lists (list of subgraphs by nodes e.g. [1, 2] is the subgraph with the nodes 1, 2; [2, 4, 5] is the\n",
    "# subgraph with nodes 2, 4 and 5)\n",
    "# If no maximum size is given, only removes trivial cliques\n",
    "\n",
    "def remove_trivial_subgraphs(sgs, n=0):\n",
    "    fil_sg = list(filter(trivial, sgs))\n",
    "    if n == 0:\n",
    "        return fil_sg\n",
    "    else:\n",
    "        fil_sg = list(filter(max_size, fill_sg))\n",
    "        return fil_sg"
   ]
  },
  {
   "cell_type": "code",
   "execution_count": 10,
   "metadata": {},
   "outputs": [],
   "source": [
    "# Helper functions for grabbing row indices for subgraphs\n",
    "\n",
    "# Converts sets of edges into row indices in the incidence matrix\n",
    "def find_subgraph_from_edges(A,edges):\n",
    "    edge_indices = []\n",
    "    for edge in edges:\n",
    "        for i in range(A.shape[0]):\n",
    "            if A[i,edge[0]] != 0 and A[i,edge[1]] != 0:\n",
    "                edge_indices.append(i)\n",
    "    if len(edges) != len(edge_indices):\n",
    "        print(\"Did not find all edges of subgraph in incidence matrix.\")\n",
    "    return edge_indices"
   ]
  },
  {
   "cell_type": "code",
   "execution_count": 11,
   "metadata": {},
   "outputs": [],
   "source": [
    "# Helper functions for grabbing row indices for subgraphs\n",
    "\n",
    "# need to turn list of pnts into edges\n",
    "# use this for enumerate_all_cliques!\n",
    "def find_subgraph_from_pnts(A,pnts):\n",
    "    edge_indices = []\n",
    "    for j in range(len(pnts)-1):\n",
    "        for i in range(A.shape[0]):\n",
    "            if A[i, pnts[j]] != 0 and A[i, pnts[j+1]]:\n",
    "                edge_indices.append(i)\n",
    "            if A[i, pnts[0]] != 0 and A[i, pnts[len(pnts)-1]] !=0:\n",
    "                if i not in edge_indices:\n",
    "                    edge_indices.append(i)\n",
    "    if (len(pnts)) != len(edge_indices):\n",
    "        print(\"Did not find all edges of subgraph in incidence matrix.\")\n",
    "    return edge_indices"
   ]
  },
  {
   "cell_type": "code",
   "execution_count": 12,
   "metadata": {},
   "outputs": [],
   "source": [
    "# Given a list of points, grabs blocks and makes a list\n",
    "\n",
    "def blocks_pnts(A, subgraphs):\n",
    "    blocks = []\n",
    "    for subgraph in subgraphs:\n",
    "        blocks.append(find_subgraph_from_pnts(A, subgraph))\n",
    "    return blocks"
   ]
  },
  {
   "cell_type": "markdown",
   "metadata": {},
   "source": [
    "## Graphing Helper Functions\n",
    "These graph the output of a specific Block RK function"
   ]
  },
  {
   "cell_type": "code",
   "execution_count": 47,
   "metadata": {},
   "outputs": [],
   "source": [
    "# n is number of nodes in graph! \n",
    "\n",
    "def collapse_plt(x_list, n):\n",
    "    l = np.concatenate(x_list, axis=0)\n",
    "    for i in range (n):\n",
    "        plt.plot(range(np.shape(l)[1]), l[i,:])"
   ]
  },
  {
   "cell_type": "code",
   "execution_count": 22,
   "metadata": {},
   "outputs": [],
   "source": [
    "def error_plt(errors):\n",
    "    plt.semilogy(range(np.shape(errors)[0]),errors)"
   ]
  },
  {
   "cell_type": "markdown",
   "metadata": {},
   "source": [
    "## Conditioning Specific Helper Functions\n",
    "These wrap the above functions and apply them to specific conditions: e.g. cliques"
   ]
  },
  {
   "cell_type": "code",
   "execution_count": 24,
   "metadata": {},
   "outputs": [],
   "source": [
    "# Grabs subgraphs that correspond to cliques within a graph\n",
    "# Input: Incidence matrix, graph\n",
    "\n",
    "def blocks_from_cliques(G, A):\n",
    "    cliques = list(enumerate_all_cliques(G))\n",
    "    fill_cliques = remove_trivial_subgraphs(cliques)\n",
    "    blks = blocks_pnts(A, fill_cliques)\n",
    "    return blks"
   ]
  },
  {
   "cell_type": "markdown",
   "metadata": {},
   "source": [
    "# Experiments\n",
    "Run all experiments here"
   ]
  },
  {
   "cell_type": "markdown",
   "metadata": {},
   "source": [
    "### Graph and Problem Set-Up"
   ]
  },
  {
   "cell_type": "code",
   "execution_count": 14,
   "metadata": {},
   "outputs": [],
   "source": [
    "# Initialize Graph\n",
    "n = 10\n",
    "m = 20\n",
    "\n",
    "G = nx.gnm_random_graph(n,m)\n",
    "\n",
    "#Get incidence matrix\n",
    "A = nx.linalg.graphmatrix.incidence_matrix(G)\n",
    "A = sp.sparse.csr_matrix.todense(A).transpose()"
   ]
  },
  {
   "cell_type": "code",
   "execution_count": 15,
   "metadata": {},
   "outputs": [
    {
     "data": {
      "image/png": "[encoded data removed]",
      "text/plain": [
       "<Figure size 432x288 with 1 Axes>"
      ]
     },
     "metadata": {},
     "output_type": "display_data"
    }
   ],
   "source": [
    "# Draw graph\n",
    "nx.draw(G)\n",
    "plt.show()"
   ]
  },
  {
   "cell_type": "code",
   "execution_count": 16,
   "metadata": {},
   "outputs": [
    {
     "data": {
      "text/plain": [
       "<matplotlib.image.AxesImage at 0x1ddc34c6e80>"
      ]
     },
     "execution_count": 16,
     "metadata": {},
     "output_type": "execute_result"
    },
    {
     "data": {
      "image/png": "[encoded data removed]",
      "text/plain": [
       "<Figure size 432x288 with 1 Axes>"
      ]
     },
     "metadata": {
      "needs_background": "light"
     },
     "output_type": "display_data"
    }
   ],
   "source": [
    "# Initialize Incidence Matrix\n",
    "A = nx.linalg.graphmatrix.incidence_matrix(G)\n",
    "A = sp.sparse.csr_matrix.todense(A).transpose()\n",
    "plt.imshow(A)  # their incidence matrix is binary, we need to convert one of the ones to a -1"
   ]
  },
  {
   "cell_type": "code",
   "execution_count": 17,
   "metadata": {},
   "outputs": [
    {
     "data": {
      "text/plain": [
       "<matplotlib.image.AxesImage at 0x1ddc450d340>"
      ]
     },
     "execution_count": 17,
     "metadata": {},
     "output_type": "execute_result"
    },
    {
     "data": {
      "image/png": "[encoded data removed]",
      "text/plain": [
       "<Figure size 432x288 with 1 Axes>"
      ]
     },
     "metadata": {
      "needs_background": "light"
     },
     "output_type": "display_data"
    }
   ],
   "source": [
    "for i in range(np.shape(A)[0]):\n",
    "    negindex = np.where(A[i,:] == 1)\n",
    "    A[i,negindex[1][0]] = -1\n",
    "plt.imshow(A)"
   ]
  },
  {
   "cell_type": "code",
   "execution_count": 18,
   "metadata": {},
   "outputs": [
    {
     "data": {
      "image/png": "[encoded data removed]",
      "text/plain": [
       "<Figure size 432x288 with 1 Axes>"
      ]
     },
     "metadata": {
      "needs_background": "light"
     },
     "output_type": "display_data"
    }
   ],
   "source": [
    "# Fix x, b\n",
    "# Secret initial vector x\n",
    "x = np.random.rand(n,1)\n",
    "plt.imshow(x)\n",
    "# Zero Vector b\n",
    "b = np.zeros((m,1))"
   ]
  },
  {
   "cell_type": "code",
   "execution_count": 20,
   "metadata": {},
   "outputs": [
    {
     "data": {
      "text/plain": [
       "array([[0.69965303],\n",
       "       [0.69965303],\n",
       "       [0.69965303],\n",
       "       [0.69965303],\n",
       "       [0.69965303],\n",
       "       [0.69965303],\n",
       "       [0.69965303],\n",
       "       [0.69965303],\n",
       "       [0.69965303],\n",
       "       [0.69965303]])"
      ]
     },
     "execution_count": 20,
     "metadata": {},
     "output_type": "execute_result"
    }
   ],
   "source": [
    "# Find mean of x\n",
    "xbar = np.mean(x)\n",
    "# Create solution vector (vector with just xbar as values)\n",
    "sol = np.full((n,1), xbar)\n",
    "sol"
   ]
  },
  {
   "cell_type": "markdown",
   "metadata": {},
   "source": [
    "## Testing"
   ]
  },
  {
   "cell_type": "code",
   "execution_count": 25,
   "metadata": {},
   "outputs": [
    {
     "data": {
      "text/plain": [
       "[[0, 1, 3],\n",
       " [1, 2, 9],\n",
       " [6, 8, 18],\n",
       " [6, 7, 17],\n",
       " [7, 8, 19],\n",
       " [13, 14, 16],\n",
       " [15, 16, 19],\n",
       " [17, 18, 19],\n",
       " [6, 7, 18, 19]]"
      ]
     },
     "execution_count": 25,
     "metadata": {},
     "output_type": "execute_result"
    }
   ],
   "source": [
    "# Grab Cliques\n",
    "cliques = blocks_from_cliques(G,A)\n",
    "cliques"
   ]
  },
  {
   "cell_type": "code",
   "execution_count": 32,
   "metadata": {},
   "outputs": [],
   "source": [
    "test_x, test_iter, test_errs = blockRK(A, sol, b, cliques, 50, x)"
   ]
  },
  {
   "cell_type": "code",
   "execution_count": 33,
   "metadata": {},
   "outputs": [
    {
     "data": {
      "image/png": "[encoded data removed]",
      "text/plain": [
       "<Figure size 432x288 with 1 Axes>"
      ]
     },
     "metadata": {
      "needs_background": "light"
     },
     "output_type": "display_data"
    }
   ],
   "source": [
    "error_plt(test_errs)"
   ]
  },
  {
   "cell_type": "code",
   "execution_count": 48,
   "metadata": {},
   "outputs": [
    {
     "data": {
      "image/png": "[encoded data removed]",
      "text/plain": [
       "<Figure size 432x288 with 1 Axes>"
      ]
     },
     "metadata": {
      "needs_background": "light"
     },
     "output_type": "display_data"
    }
   ],
   "source": [
    "collapse_plt(test_iter, n)"
   ]
  },
  {
   "cell_type": "markdown",
   "metadata": {},
   "source": [
    "# Debugging Corner\n",
    "Where bad code goes to die"
   ]
  },
  {
   "cell_type": "code",
   "execution_count": 69,
   "metadata": {},
   "outputs": [
    {
     "name": "stdout",
     "output_type": "stream",
     "text": [
      "range(0, 10) [[0.17476735 0.17476735 0.55350508 0.55350508 0.55350508 0.55350508\n",
      "  0.55350508 0.55350508 0.55350508 0.58510028 0.58510028 0.66588882\n",
      "  0.66588882 0.66588882 0.66588882 0.66588882 0.66588882 0.66588882\n",
      "  0.66588882 0.66588882 0.66588882 0.66588882 0.66588882 0.66588882\n",
      "  0.66588882 0.67086552 0.67086552 0.67086552 0.67331337 0.67331337\n",
      "  0.67331337 0.67331337 0.67331337 0.67331337 0.67331337 0.67331337\n",
      "  0.67331337 0.67331337 0.67331337 0.67331337 0.67632795 0.67632795\n",
      "  0.67632795 0.67821508 0.67821508 0.67821508 0.67821508 0.67821508\n",
      "  0.67821508 0.67821508 0.64801286]]\n",
      "range(0, 10) [[0.83849086 0.83849086 0.55350508 0.55350508 0.55350508 0.55350508\n",
      "  0.55350508 0.55350508 0.55350508 0.58510028 0.58510028 0.58510028\n",
      "  0.58510028 0.58510028 0.58510028 0.58510028 0.58510028 0.58510028\n",
      "  0.58510028 0.58510028 0.58510028 0.58510028 0.58510028 0.58510028\n",
      "  0.58510028 0.58510028 0.58510028 0.58510028 0.58510028 0.58510028\n",
      "  0.58510028 0.58510028 0.58510028 0.58510028 0.58510028 0.58510028\n",
      "  0.58510028 0.58510028 0.58510028 0.58510028 0.58510028 0.58510028\n",
      "  0.58510028 0.58510028 0.58510028 0.58510028 0.58510028 0.58510028\n",
      "  0.58510028 0.58510028 0.64801286]]\n",
      "range(0, 10) [[0.83860381 0.83860381 0.83860381 0.72970746 0.64829068 0.64829068\n",
      "  0.64829068 0.64829068 0.68134019 0.68134019 0.65728021 0.65728021\n",
      "  0.65728021 0.67731555 0.67731555 0.67350664 0.67477628 0.67477628\n",
      "  0.67477628 0.67449413 0.67444711 0.67444711 0.68400481 0.68081891\n",
      "  0.68188088 0.68188088 0.67820909 0.67820909 0.67820909 0.67943302\n",
      "  0.67943302 0.67943302 0.67943302 0.68137974 0.68137974 0.68267756\n",
      "  0.68224495 0.68238916 0.68234109 0.68235711 0.68235711 0.68034739\n",
      "  0.68034739 0.68034739 0.68155927 0.68072322 0.68072322 0.68072322\n",
      "  0.68072322 0.68072322 0.68072322]]\n",
      "range(0, 10) [[0.75528597 0.75528597 0.75528597 0.75528597 0.75528597 0.75528597\n",
      "  0.75528597 0.75528597 0.75528597 0.75528597 0.75528597 0.66588882\n",
      "  0.66588882 0.66588882 0.66588882 0.66588882 0.66588882 0.66588882\n",
      "  0.66588882 0.66588882 0.66588882 0.66588882 0.66588882 0.66588882\n",
      "  0.66588882 0.67086552 0.67086552 0.67086552 0.67331337 0.67331337\n",
      "  0.67331337 0.67331337 0.67331337 0.67331337 0.67331337 0.67331337\n",
      "  0.67331337 0.67331337 0.67331337 0.67331337 0.67632795 0.67632795\n",
      "  0.67632795 0.67821508 0.67821508 0.67821508 0.67821508 0.67821508\n",
      "  0.67821508 0.67821508 0.67821508]]\n",
      "range(0, 10) [[0.94704451 0.94704451 0.94704451 0.94704451 0.94704451 0.94704451\n",
      "  0.94704451 0.94704451 0.94704451 0.94704451 0.94704451 0.94704451\n",
      "  0.94704451 0.94704451 0.94704451 0.94704451 0.94704451 0.94704451\n",
      "  0.94704451 0.94704451 0.94704451 0.94704451 0.94704451 0.94704451\n",
      "  0.94704451 0.94704451 0.94704451 0.94704451 0.94704451 0.94704451\n",
      "  0.94704451 0.94704451 0.94704451 0.94704451 0.94704451 0.94704451\n",
      "  0.94704451 0.94704451 0.94704451 0.94704451 0.94704451 0.94704451\n",
      "  0.94704451 0.94704451 0.94704451 0.94704451 0.94704451 0.94704451\n",
      "  0.94704451 0.94704451 0.94704451]]\n",
      "range(0, 10) [[0.63326588 0.79701348 0.79701348 0.79701348 0.79701348 0.79701348\n",
      "  0.79701348 0.74743922 0.74743922 0.74743922 0.74743922 0.74743922\n",
      "  0.71738622 0.71738622 0.71738622 0.71738622 0.71738622 0.71738622\n",
      "  0.71738622 0.71738622 0.71738622 0.70307318 0.70307318 0.70307318\n",
      "  0.70307318 0.70307318 0.70307318 0.70307318 0.70307318 0.70307318\n",
      "  0.70307318 0.70307318 0.70307318 0.70307318 0.70307318 0.70307318\n",
      "  0.70307318 0.70307318 0.70307318 0.70307318 0.70307318 0.70307318\n",
      "  0.70307318 0.70307318 0.70307318 0.70307318 0.70307318 0.70307318\n",
      "  0.70307318 0.68859524 0.68859524]]\n",
      "range(0, 10) [[0.80317718 0.79701348 0.79701348 0.79701348 0.79701348 0.79701348\n",
      "  0.79701348 0.74743922 0.74743922 0.74743922 0.74743922 0.74743922\n",
      "  0.71738622 0.71738622 0.71738622 0.71738622 0.71738622 0.71738622\n",
      "  0.71738622 0.71738622 0.71738622 0.70307318 0.70307318 0.70307318\n",
      "  0.70307318 0.70307318 0.70307318 0.70307318 0.70307318 0.70307318\n",
      "  0.68527319 0.68527319 0.68527319 0.68527319 0.68527319 0.68527319\n",
      "  0.68527319 0.68527319 0.68527319 0.68527319 0.68527319 0.68527319\n",
      "  0.68198932 0.68198932 0.68198932 0.68198932 0.68198932 0.68198932\n",
      "  0.68198932 0.68859524 0.68859524]]\n",
      "range(0, 10) [[0.40404036 0.40404036 0.40404036 0.40404036 0.64829068 0.64829068\n",
      "  0.64829068 0.64829068 0.68134019 0.68134019 0.65728021 0.65728021\n",
      "  0.65728021 0.67731555 0.67731555 0.67350664 0.67350664 0.67435306\n",
      "  0.67435306 0.67449413 0.67449413 0.67449413 0.68400481 0.68400481\n",
      "  0.68188088 0.68188088 0.67820909 0.67820909 0.67820909 0.67943302\n",
      "  0.67943302 0.67943302 0.67943302 0.68137974 0.68137974 0.68137974\n",
      "  0.68224495 0.68224495 0.68234109 0.68234109 0.68234109 0.68234109\n",
      "  0.68234109 0.68234109 0.68155927 0.68072322 0.68072322 0.68072322\n",
      "  0.68072322 0.68072322 0.68072322]]\n",
      "range(0, 10) [[0.95459739 0.79701348 0.79701348 0.72970746 0.64829068 0.64829068\n",
      "  0.64829068 0.74743922 0.68134019 0.68134019 0.65728021 0.65728021\n",
      "  0.71738622 0.67731555 0.67731555 0.67731555 0.67477628 0.67435306\n",
      "  0.67435306 0.67449413 0.67444711 0.70307318 0.68400481 0.68081891\n",
      "  0.68188088 0.68188088 0.68188088 0.68188088 0.68188088 0.67943302\n",
      "  0.68527319 0.68527319 0.68527319 0.68527319 0.68527319 0.68267756\n",
      "  0.68267756 0.68238916 0.68238916 0.68235711 0.68235711 0.68034739\n",
      "  0.68198932 0.68198932 0.68155927 0.68072322 0.68072322 0.68072322\n",
      "  0.68072322 0.68859524 0.68859524]]\n",
      "range(0, 10) [[0.64725701 0.64725701 0.55350508 0.72970746 0.64829068 0.64829068\n",
      "  0.64829068 0.64829068 0.64829068 0.58510028 0.65728021 0.66588882\n",
      "  0.66588882 0.66588882 0.66588882 0.67350664 0.67477628 0.67435306\n",
      "  0.67435306 0.67435306 0.67444711 0.67444711 0.67444711 0.68081891\n",
      "  0.68081891 0.67086552 0.67820909 0.67820909 0.67331337 0.67331337\n",
      "  0.68527319 0.68527319 0.68527319 0.68137974 0.68137974 0.68267756\n",
      "  0.68224495 0.68238916 0.68234109 0.68235711 0.67632795 0.68034739\n",
      "  0.68198932 0.67821508 0.67821508 0.68072322 0.68072322 0.68072322\n",
      "  0.68072322 0.68072322 0.64801286]]\n"
     ]
    }
   ],
   "source": [
    "for i in range (n):\n",
    "    print(range(np.shape(pls)[0]), pls[i,:])"
   ]
  },
  {
   "cell_type": "code",
   "execution_count": 75,
   "metadata": {},
   "outputs": [
    {
     "data": {
      "text/plain": [
       "(510, 1)"
      ]
     },
     "execution_count": 75,
     "metadata": {},
     "output_type": "execute_result"
    }
   ],
   "source": [
    "pls = np.concatenate(test_iter)\n",
    "np.shape(pls)"
   ]
  },
  {
   "cell_type": "code",
   "execution_count": 66,
   "metadata": {},
   "outputs": [
    {
     "data": {
      "text/plain": [
       "matrix([[0.17476735, 0.17476735, 0.55350508, 0.55350508, 0.55350508,\n",
       "         0.55350508, 0.55350508, 0.55350508, 0.55350508, 0.58510028,\n",
       "         0.58510028, 0.66588882, 0.66588882, 0.66588882, 0.66588882,\n",
       "         0.66588882, 0.66588882, 0.66588882, 0.66588882, 0.66588882,\n",
       "         0.66588882, 0.66588882, 0.66588882, 0.66588882, 0.66588882,\n",
       "         0.67086552, 0.67086552, 0.67086552, 0.67331337, 0.67331337,\n",
       "         0.67331337, 0.67331337, 0.67331337, 0.67331337, 0.67331337,\n",
       "         0.67331337, 0.67331337, 0.67331337, 0.67331337, 0.67331337,\n",
       "         0.67632795, 0.67632795, 0.67632795, 0.67821508, 0.67821508,\n",
       "         0.67821508, 0.67821508, 0.67821508, 0.67821508, 0.67821508,\n",
       "         0.64801286]])"
      ]
     },
     "execution_count": 66,
     "metadata": {},
     "output_type": "execute_result"
    }
   ],
   "source": [
    "pls[0,:]"
   ]
  },
  {
   "cell_type": "code",
   "execution_count": 103,
   "metadata": {},
   "outputs": [],
   "source": [
    "hell = np.concatenate(test_iter[0])\n",
    "hell2 = np.concatenate(bbb)"
   ]
  },
  {
   "cell_type": "code",
   "execution_count": 102,
   "metadata": {},
   "outputs": [
    {
     "data": {
      "text/plain": [
       "array([[0.17476735],\n",
       "       [0.83849086],\n",
       "       [0.83860381],\n",
       "       [0.75528597],\n",
       "       [0.94704451],\n",
       "       [0.79701348],\n",
       "       [0.79701348],\n",
       "       [0.40404036],\n",
       "       [0.79701348],\n",
       "       [0.64725701]])"
      ]
     },
     "execution_count": 102,
     "metadata": {},
     "output_type": "execute_result"
    }
   ],
   "source": [
    "bbb = np.asarray(test_iter[1])\n",
    "bbb"
   ]
  },
  {
   "cell_type": "code",
   "execution_count": 101,
   "metadata": {},
   "outputs": [
    {
     "data": {
      "text/plain": [
       "array([[0.17476735],\n",
       "       [0.83849086],\n",
       "       [0.83860381],\n",
       "       [0.75528597],\n",
       "       [0.94704451],\n",
       "       [0.63326588],\n",
       "       [0.80317718],\n",
       "       [0.40404036],\n",
       "       [0.95459739],\n",
       "       [0.64725701]])"
      ]
     },
     "execution_count": 101,
     "metadata": {},
     "output_type": "execute_result"
    }
   ],
   "source": [
    "test_iter[0]"
   ]
  },
  {
   "cell_type": "code",
   "execution_count": 104,
   "metadata": {},
   "outputs": [
    {
     "data": {
      "text/plain": [
       "array([[0.17476735, 0.83849086, 0.83860381, 0.75528597, 0.94704451,\n",
       "        0.63326588, 0.80317718, 0.40404036, 0.95459739, 0.64725701],\n",
       "       [0.17476735, 0.83849086, 0.83860381, 0.75528597, 0.94704451,\n",
       "        0.79701348, 0.79701348, 0.40404036, 0.79701348, 0.64725701]])"
      ]
     },
     "execution_count": 104,
     "metadata": {},
     "output_type": "execute_result"
    }
   ],
   "source": [
    "uwu = np.stack((hell, hell2))\n",
    "uwu"
   ]
  },
  {
   "cell_type": "code",
   "execution_count": null,
   "metadata": {},
   "outputs": [],
   "source": []
  }
 ],
 "metadata": {
  "kernelspec": {
   "display_name": "Python 3",
   "language": "python",
   "name": "python3"
  },
  "language_info": {
   "codemirror_mode": {
    "name": "ipython",
    "version": 3
   },
   "file_extension": ".py",
   "mimetype": "text/x-python",
   "name": "python",
   "nbconvert_exporter": "python",
   "pygments_lexer": "ipython3",
   "version": "3.8.3"
  }
 },
 "nbformat": 4,
 "nbformat_minor": 4
}
