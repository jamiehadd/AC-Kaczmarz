{
 "cells": [
  {
   "cell_type": "code",
   "execution_count": 2,
   "metadata": {},
   "outputs": [],
   "source": [
    "# Import Libraries\n",
    "import matplotlib.pyplot as plt\n",
    "from networkx import nx\n",
    "import itertools\n",
    "import numpy as np\n",
    "import scipy as sp\n",
    "from numpy.linalg import pinv\n",
    "from numpy.random import randint\n",
    "from networkx.algorithms.clique import find_cliques, enumerate_all_cliques\n",
    "from networkx.algorithms.approximation import maximum_independent_set"
   ]
  },
  {
   "cell_type": "code",
   "execution_count": 6,
   "metadata": {},
   "outputs": [],
   "source": [
    "# Initialize Graph\n",
    "n = 10\n",
    "m = 20\n",
    "\n",
    "G = nx.gnm_random_graph(n,m)\n",
    "\n",
    "#Get incidence matrix\n",
    "A = nx.linalg.graphmatrix.incidence_matrix(G)\n",
    "A = sp.sparse.csr_matrix.todense(A).transpose()"
   ]
  },
  {
   "cell_type": "code",
   "execution_count": 7,
   "metadata": {},
   "outputs": [
    {
     "data": {
      "image/png": "[encoded data removed]",
      "text/plain": [
       "<Figure size 432x288 with 1 Axes>"
      ]
     },
     "metadata": {},
     "output_type": "display_data"
    }
   ],
   "source": [
    "# Draw graph\n",
    "nx.draw(G)\n",
    "plt.show()"
   ]
  },
  {
   "cell_type": "code",
   "execution_count": 100,
   "metadata": {},
   "outputs": [
    {
     "data": {
      "text/plain": [
       "(20, 10)"
      ]
     },
     "execution_count": 100,
     "metadata": {},
     "output_type": "execute_result"
    }
   ],
   "source": [
    "A.shape"
   ]
  },
  {
   "cell_type": "code",
   "execution_count": 53,
   "metadata": {},
   "outputs": [],
   "source": [
    "# Converts sets of edges into row indices in the incidence matrix\n",
    "def find_subgraph_from_edges(A,edges):\n",
    "    edge_indices = []\n",
    "    for edge in edges:\n",
    "        for i in range(A.shape[0]):\n",
    "            if A[i,edge[0]] != 0 and A[i,edge[1]] != 0:\n",
    "                edge_indices.append(i)\n",
    "    if len(edges) != len(edge_indices):\n",
    "        print(\"Did not find all edges of subgraph in incidence matrix.\")\n",
    "    return edge_indices"
   ]
  },
  {
   "cell_type": "code",
   "execution_count": 69,
   "metadata": {},
   "outputs": [],
   "source": [
    "# need to turn list of pnts into edges\n",
    "# use this for enumerate_all_cliques!\n",
    "def find_subgraph_from_pnts(A,pnts):\n",
    "    edge_indices = []\n",
    "    for j in range(len(pnts)-1):\n",
    "        for i in range(A.shape[0]):\n",
    "            if A[i, pnts[j]] != 0 and A[i, pnts[j+1]]:\n",
    "                edge_indices.append(i)\n",
    "            if A[i, pnts[0]] != 0 and A[i, pnts[len(pnts)-1]] !=0:\n",
    "                if i not in edge_indices:\n",
    "                    edge_indices.append(i)\n",
    "    if (len(pnts)) != len(edge_indices):\n",
    "        print(\"Did not find all edges of subgraph in incidence matrix.\")\n",
    "    return edge_indices"
   ]
  },
  {
   "cell_type": "code",
   "execution_count": 85,
   "metadata": {},
   "outputs": [
    {
     "data": {
      "text/plain": [
       "[[0],\n",
       " [1],\n",
       " [2],\n",
       " [3],\n",
       " [4],\n",
       " [5],\n",
       " [6],\n",
       " [7],\n",
       " [8],\n",
       " [9],\n",
       " [0, 1],\n",
       " [0, 2],\n",
       " [0, 5],\n",
       " [1, 2],\n",
       " [1, 4],\n",
       " [1, 7],\n",
       " [1, 8],\n",
       " [1, 9],\n",
       " [2, 4],\n",
       " [2, 5],\n",
       " [2, 6],\n",
       " [2, 8],\n",
       " [2, 9],\n",
       " [3, 5],\n",
       " [3, 7],\n",
       " [3, 9],\n",
       " [4, 7],\n",
       " [6, 9],\n",
       " [7, 8],\n",
       " [8, 9],\n",
       " [0, 1, 2],\n",
       " [0, 2, 5],\n",
       " [1, 2, 4],\n",
       " [1, 2, 8],\n",
       " [1, 2, 9],\n",
       " [1, 4, 7],\n",
       " [1, 7, 8],\n",
       " [1, 8, 9],\n",
       " [2, 6, 9],\n",
       " [2, 8, 9],\n",
       " [1, 2, 8, 9]]"
      ]
     },
     "execution_count": 85,
     "metadata": {},
     "output_type": "execute_result"
    }
   ],
   "source": [
    "# Test find_subgraph function\n",
    "cliques = list(enumerate_all_cliques(G)) # this is a generator!\n",
    "cliques"
   ]
  },
  {
   "cell_type": "code",
   "execution_count": 93,
   "metadata": {},
   "outputs": [],
   "source": [
    "# Remove trivial cliques, i.e. cliques with n<= 2:\n",
    "def trivial(x):\n",
    "    if len(x)<=2:\n",
    "        return False\n",
    "    return True"
   ]
  },
  {
   "cell_type": "code",
   "execution_count": 94,
   "metadata": {},
   "outputs": [],
   "source": [
    "# Remove trivial cliques, i.e. cliques with n<= 2:\n",
    "def remove_trivial_cliques(cliques):\n",
    "    fil_cliques = list(filter(trivial, cliques))\n",
    "    return fil_cliques"
   ]
  },
  {
   "cell_type": "code",
   "execution_count": 98,
   "metadata": {},
   "outputs": [],
   "source": [
    "def blocks(A, subgraphs):\n",
    "    blocks = []\n",
    "    for subgraph in subgraphs:\n",
    "        blocks.append(find_subgraph_from_pnts(A, subgraph))\n",
    "    return blocks"
   ]
  },
  {
   "cell_type": "code",
   "execution_count": 106,
   "metadata": {},
   "outputs": [],
   "source": [
    "fil_cliques = remove_trivial_cliques(cliques)\n",
    "blk = blocks(A, fil_cliques)"
   ]
  },
  {
   "cell_type": "code",
   "execution_count": 108,
   "metadata": {},
   "outputs": [],
   "source": [
    "# Block RK\n",
    "def blockRK(A, sol, b, blocks, N, c):\n",
    "    k = len(blocks)\n",
    "    x = c\n",
    "    errors = []\n",
    "    for j in range (1, N+1):\n",
    "        i = randint(k);\n",
    "        x = x + np.linalg.pinv(A[blocks[i],:])@(b[blocks[i]] - A[blocks[i],:]@x)\n",
    "        errors.append(np.linalg.norm(x-sol))\n",
    "    return x, errors"
   ]
  },
  {
   "cell_type": "code",
   "execution_count": 104,
   "metadata": {},
   "outputs": [
    {
     "data": {
      "text/plain": [
       "<matplotlib.image.AxesImage at 0x26d7b773e50>"
      ]
     },
     "execution_count": 104,
     "metadata": {},
     "output_type": "execute_result"
    },
    {
     "data": {
      "image/png": "[encoded data removed]",
      "text/plain": [
       "<Figure size 432x288 with 1 Axes>"
      ]
     },
     "metadata": {
      "needs_background": "light"
     },
     "output_type": "display_data"
    }
   ],
   "source": [
    "# Test Block RK algorithm with cliques\n",
    "for i in range(np.shape(A)[0]):\n",
    "    negindex = np.where(A[i,:] == 1)\n",
    "    A[i,negindex[1][0]] = -1\n",
    "plt.imshow(A)"
   ]
  },
  {
   "cell_type": "code",
   "execution_count": 105,
   "metadata": {},
   "outputs": [
    {
     "data": {
      "text/plain": [
       "0.43451973981208003"
      ]
     },
     "execution_count": 105,
     "metadata": {},
     "output_type": "execute_result"
    },
    {
     "data": {
      "image/png": "[encoded data removed]",
      "text/plain": [
       "<Figure size 432x288 with 1 Axes>"
      ]
     },
     "metadata": {
      "needs_background": "light"
     },
     "output_type": "display_data"
    }
   ],
   "source": [
    "x = np.random.rand(n,1)\n",
    "plt.imshow(x)\n",
    "b = np.zeros((m,1))\n",
    "xbar = np.mean(x)\n",
    "xbar"
   ]
  },
  {
   "cell_type": "code",
   "execution_count": 109,
   "metadata": {},
   "outputs": [
    {
     "data": {
      "text/plain": [
       "(matrix([[0.],\n",
       "         [0.],\n",
       "         [0.],\n",
       "         [0.],\n",
       "         [0.],\n",
       "         [0.],\n",
       "         [0.],\n",
       "         [0.],\n",
       "         [0.],\n",
       "         [0.]]),\n",
       " [1.5912449988423223,\n",
       "  1.5912449988423223,\n",
       "  1.5912449988423223,\n",
       "  1.5912449988423223,\n",
       "  1.5912449988423223,\n",
       "  1.5912449988423223,\n",
       "  1.5912449988423223,\n",
       "  1.5912449988423223,\n",
       "  1.5912449988423223,\n",
       "  1.5912449988423223])"
      ]
     },
     "execution_count": 109,
     "metadata": {},
     "output_type": "execute_result"
    }
   ],
   "source": [
    "blockRK(A, x, b, blk, 10, np.zeros([n,1]))"
   ]
  },
  {
   "cell_type": "code",
   "execution_count": null,
   "metadata": {},
   "outputs": [],
   "source": []
  }
 ],
 "metadata": {
  "kernelspec": {
   "display_name": "Python 3",
   "language": "python",
   "name": "python3"
  },
  "language_info": {
   "codemirror_mode": {
    "name": "ipython",
    "version": 3
   },
   "file_extension": ".py",
   "mimetype": "text/x-python",
   "name": "python",
   "nbconvert_exporter": "python",
   "pygments_lexer": "ipython3",
   "version": "3.8.3"
  }
 },
 "nbformat": 4,
 "nbformat_minor": 4
}
