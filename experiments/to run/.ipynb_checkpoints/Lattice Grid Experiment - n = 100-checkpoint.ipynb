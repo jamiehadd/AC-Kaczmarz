{
 "cells": [
  {
   "cell_type": "code",
   "execution_count": 1,
   "metadata": {},
   "outputs": [],
   "source": [
    "# Import Libraries\n",
    "import matplotlib.pyplot as plt\n",
    "import networkx as nx\n",
    "import itertools\n",
    "import numpy as np\n",
    "import scipy as sp\n",
    "from numpy.linalg import pinv\n",
    "from numpy.random import randint, normal\n",
    "from networkx.algorithms.clique import find_cliques, enumerate_all_cliques, make_max_clique_graph, graph_number_of_cliques\n",
    "from networkx.generators.lattice import grid_graph\n",
    "from networkx.algorithms.matching import maximal_matching\n",
    "from networkx.algorithms.operators.unary import complement\n",
    "from networkx.generators.random_graphs import erdos_renyi_graph #CHANGE THIS IMPORT TO INCLUDE OTHER GRAPH TYPES\n",
    "from networkx.linalg.algebraicconnectivity import algebraic_connectivity\n",
    "from scipy import stats\n",
    "import itertools as it\n",
    "from collections import Counter"
   ]
  },
  {
   "cell_type": "code",
   "execution_count": 6,
   "metadata": {},
   "outputs": [],
   "source": [
    "import os\n",
    "import sys\n",
    "sys.path.insert(0, os.path.abspath('../modules'))\n",
    "import block_RK as ac"
   ]
  },
  {
   "cell_type": "code",
   "execution_count": 5,
   "metadata": {},
   "outputs": [],
   "source": [
    "# Adjust plot size\n",
    "plt.rcParams[\"figure.figsize\"] = (8, 8)"
   ]
  },
  {
   "cell_type": "markdown",
   "metadata": {},
   "source": [
    "# Lattice Grid Experiment"
   ]
  },
  {
   "cell_type": "markdown",
   "metadata": {},
   "source": [
    "### experimental set-up"
   ]
  },
  {
   "cell_type": "code",
   "execution_count": 15,
   "metadata": {},
   "outputs": [],
   "source": [
    "# Initialize Graph\n",
    "i = 50\n",
    "n = i**2\n",
    "G = grid_graph([i, i])\n",
    "m = len(G.edges())"
   ]
  },
  {
   "cell_type": "code",
   "execution_count": 16,
   "metadata": {},
   "outputs": [],
   "source": [
    "# Initialize Incidence Matrix\n",
    "A = nx.linalg.graphmatrix.incidence_matrix(G)\n",
    "A = sp.sparse.csr_matrix.todense(A).transpose()\n",
    "# their incidence matrix is binary, we need to convert one of the ones to a -1\n",
    "for i in range(np.shape(A)[0]):\n",
    "    negindex = np.where(A[i,:] == 1)\n",
    "    A[i,negindex[1][0]] = -1"
   ]
  },
  {
   "cell_type": "code",
   "execution_count": 17,
   "metadata": {},
   "outputs": [],
   "source": [
    "# Fix x, b\n",
    "# Secret initial vector x\n",
    "x = np.random.rand(n,1)\n",
    "# Zero Vector b\n",
    "b = np.zeros((m,1))\n",
    "# Find mean of x\n",
    "xbar = np.mean(x)\n",
    "# Create solution vector (vector with just xbar as values)\n",
    "sol = np.full((n,1), xbar)"
   ]
  },
  {
   "cell_type": "markdown",
   "metadata": {},
   "source": [
    "### Path gossip"
   ]
  },
  {
   "cell_type": "code",
   "execution_count": null,
   "metadata": {},
   "outputs": [],
   "source": [
    "# Path Gossip with l = 100\n",
    "N = 100\n",
    "l = 20\n",
    "paths, testx, x_list, errs = ac.blockRK_path(A, G, sol, b, N, x, l)"
   ]
  },
  {
   "cell_type": "code",
   "execution_count": null,
   "metadata": {},
   "outputs": [],
   "source": [
    "ac.collapse_plt(x_list, n, N)\n",
    "plt.show()\n",
    "plt.savefig(\"plots/ER_p02_path_collapse.svg\", format='svg')"
   ]
  },
  {
   "cell_type": "code",
   "execution_count": null,
   "metadata": {},
   "outputs": [],
   "source": [
    "ac.error_plt(errs, G, paths, sol, N, rate='path')\n",
    "plt.show()\n",
    "plt.savefig(\"plots/ER_p02_path_error.svg\", format='svg')"
   ]
  },
  {
   "cell_type": "markdown",
   "metadata": {},
   "source": [
    "### IES gossip"
   ]
  },
  {
   "cell_type": "code",
   "execution_count": 19,
   "metadata": {},
   "outputs": [
    {
     "ename": "ValueError",
     "evalue": "The truth value of an array with more than one element is ambiguous. Use a.any() or a.all()",
     "output_type": "error",
     "traceback": [
      "\u001b[1;31m---------------------------------------------------------------------------\u001b[0m",
      "\u001b[1;31mValueError\u001b[0m                                Traceback (most recent call last)",
      "\u001b[1;32m<ipython-input-19-5517e794f472>\u001b[0m in \u001b[0;36m<module>\u001b[1;34m\u001b[0m\n\u001b[0;32m      1\u001b[0m \u001b[0mN\u001b[0m \u001b[1;33m=\u001b[0m \u001b[1;36m200\u001b[0m\u001b[1;33m\u001b[0m\u001b[1;33m\u001b[0m\u001b[0m\n\u001b[1;32m----> 2\u001b[1;33m \u001b[0mies\u001b[0m \u001b[1;33m=\u001b[0m \u001b[0mac\u001b[0m\u001b[1;33m.\u001b[0m\u001b[0mblocks_from_ies\u001b[0m\u001b[1;33m(\u001b[0m\u001b[0mG\u001b[0m\u001b[1;33m,\u001b[0m \u001b[0mA\u001b[0m\u001b[1;33m)\u001b[0m\u001b[1;33m\u001b[0m\u001b[1;33m\u001b[0m\u001b[0m\n\u001b[0m\u001b[0;32m      3\u001b[0m \u001b[0mtest_x\u001b[0m\u001b[1;33m,\u001b[0m \u001b[0mxlist\u001b[0m\u001b[1;33m,\u001b[0m \u001b[0merrs\u001b[0m \u001b[1;33m=\u001b[0m \u001b[0mac\u001b[0m\u001b[1;33m.\u001b[0m\u001b[0mblockRK\u001b[0m\u001b[1;33m(\u001b[0m\u001b[0mA\u001b[0m\u001b[1;33m,\u001b[0m \u001b[0msol\u001b[0m\u001b[1;33m,\u001b[0m \u001b[0mb\u001b[0m\u001b[1;33m,\u001b[0m \u001b[0mies\u001b[0m\u001b[1;33m,\u001b[0m \u001b[0mN\u001b[0m\u001b[1;33m,\u001b[0m \u001b[0mx\u001b[0m\u001b[1;33m)\u001b[0m\u001b[1;33m\u001b[0m\u001b[1;33m\u001b[0m\u001b[0m\n",
      "\u001b[1;32m~\\Documents\\ac\\AC-Kaczmarz\\modules\\block_RK.py\u001b[0m in \u001b[0;36mblocks_from_ies\u001b[1;34m(G, A)\u001b[0m\n",
      "\u001b[1;32m~\\Documents\\ac\\AC-Kaczmarz\\modules\\block_RK.py\u001b[0m in \u001b[0;36mblocks_edge\u001b[1;34m(A, subgraphs)\u001b[0m\n",
      "\u001b[1;32m~\\Documents\\ac\\AC-Kaczmarz\\modules\\block_RK.py\u001b[0m in \u001b[0;36mfind_subgraph_from_edges\u001b[1;34m(A, edges)\u001b[0m\n",
      "\u001b[1;31mValueError\u001b[0m: The truth value of an array with more than one element is ambiguous. Use a.any() or a.all()"
     ]
    }
   ],
   "source": [
    "N = 200\n",
    "ies = ac.blocks_from_ies(G, A)\n",
    "test_x, xlist, errs = ac.blockRK(A, sol, b, ies, N, x)"
   ]
  },
  {
   "cell_type": "code",
   "execution_count": null,
   "metadata": {},
   "outputs": [],
   "source": [
    "ac.collapse_plt(xlist, n, N)\n",
    "plt.show()\n",
    "plt.savefig(\"plots/ER_p02_ies_collapse.svg\", format='svg')"
   ]
  },
  {
   "cell_type": "code",
   "execution_count": null,
   "metadata": {},
   "outputs": [],
   "source": [
    "ac.error_plt(errs, G, ies, sol, N, rate='ies')\n",
    "plt.show()\n",
    "plt.savefig(\"plots/ER_p02_ies_error.svg\", format='svg')"
   ]
  },
  {
   "cell_type": "markdown",
   "metadata": {},
   "source": [
    "### clique gossip"
   ]
  },
  {
   "cell_type": "code",
   "execution_count": 22,
   "metadata": {},
   "outputs": [
    {
     "ename": "ValueError",
     "evalue": "The truth value of an array with more than one element is ambiguous. Use a.any() or a.all()",
     "output_type": "error",
     "traceback": [
      "\u001b[1;31m---------------------------------------------------------------------------\u001b[0m",
      "\u001b[1;31mValueError\u001b[0m                                Traceback (most recent call last)",
      "\u001b[1;32m<ipython-input-22-97e7c7f76761>\u001b[0m in \u001b[0;36m<module>\u001b[1;34m\u001b[0m\n\u001b[0;32m      1\u001b[0m \u001b[1;31m# upper bound\u001b[0m\u001b[1;33m\u001b[0m\u001b[1;33m\u001b[0m\u001b[1;33m\u001b[0m\u001b[0m\n\u001b[0;32m      2\u001b[0m \u001b[0mN\u001b[0m \u001b[1;33m=\u001b[0m \u001b[1;36m500\u001b[0m\u001b[1;33m\u001b[0m\u001b[1;33m\u001b[0m\u001b[0m\n\u001b[1;32m----> 3\u001b[1;33m \u001b[0mcliques\u001b[0m \u001b[1;33m=\u001b[0m \u001b[0mac\u001b[0m\u001b[1;33m.\u001b[0m\u001b[0mclique_edge_cover\u001b[0m\u001b[1;33m(\u001b[0m\u001b[0mG\u001b[0m\u001b[1;33m,\u001b[0m \u001b[0mA\u001b[0m\u001b[1;33m)\u001b[0m\u001b[1;33m\u001b[0m\u001b[1;33m\u001b[0m\u001b[0m\n\u001b[0m\u001b[0;32m      4\u001b[0m \u001b[0mtest_x\u001b[0m\u001b[1;33m,\u001b[0m \u001b[0mxlist\u001b[0m\u001b[1;33m,\u001b[0m \u001b[0merrs\u001b[0m \u001b[1;33m=\u001b[0m \u001b[0mac\u001b[0m\u001b[1;33m.\u001b[0m\u001b[0mblockRK\u001b[0m\u001b[1;33m(\u001b[0m\u001b[0mA\u001b[0m\u001b[1;33m,\u001b[0m \u001b[0msol\u001b[0m\u001b[1;33m,\u001b[0m \u001b[0mb\u001b[0m\u001b[1;33m,\u001b[0m \u001b[0mcliques\u001b[0m\u001b[1;33m,\u001b[0m \u001b[0mN\u001b[0m\u001b[1;33m,\u001b[0m \u001b[0mx\u001b[0m\u001b[1;33m)\u001b[0m\u001b[1;33m\u001b[0m\u001b[1;33m\u001b[0m\u001b[0m\n",
      "\u001b[1;32m~\\Documents\\ac\\AC-Kaczmarz\\modules\\block_RK.py\u001b[0m in \u001b[0;36mclique_edge_cover\u001b[1;34m(G, A, bound)\u001b[0m\n",
      "\u001b[1;32m~\\Documents\\ac\\AC-Kaczmarz\\modules\\block_RK.py\u001b[0m in \u001b[0;36mblocks_edge\u001b[1;34m(A, subgraphs)\u001b[0m\n",
      "\u001b[1;32m~\\Documents\\ac\\AC-Kaczmarz\\modules\\block_RK.py\u001b[0m in \u001b[0;36mfind_subgraph_from_edges\u001b[1;34m(A, edges)\u001b[0m\n",
      "\u001b[1;31mValueError\u001b[0m: The truth value of an array with more than one element is ambiguous. Use a.any() or a.all()"
     ]
    }
   ],
   "source": [
    "# upper bound\n",
    "N = 500\n",
    "cliques = ac.clique_edge_cover(G, A)\n",
    "test_x, xlist, errs = ac.blockRK(A, sol, b, cliques, N, x)"
   ]
  },
  {
   "cell_type": "code",
   "execution_count": null,
   "metadata": {},
   "outputs": [],
   "source": [
    "ac.collapse_plt(xlist, n, N)\n",
    "plt.show()\n",
    "plt.savefig(\"plots/ER_p02_clique_collapse.svg\", format='svg')"
   ]
  },
  {
   "cell_type": "code",
   "execution_count": null,
   "metadata": {},
   "outputs": [],
   "source": [
    "ac.error_plt(errs, G, cliques, sol, N,  rate='cliques')\n",
    "plt.show()\n",
    "plt.savefig(\"plots/ER_p02_clique_error.svg\", format='svg')"
   ]
  },
  {
   "cell_type": "markdown",
   "metadata": {},
   "source": [
    "### randomly selected blocks"
   ]
  },
  {
   "cell_type": "code",
   "execution_count": null,
   "metadata": {},
   "outputs": [],
   "source": [
    "N = 200\n",
    "s = 40\n",
    "bn = 500\n",
    "blocks = ac.random_blocks(A, s, bn) # parameters are: incidence matrix, size of blocks, number of blocks\n",
    "test4, list4, err4 = ac.blockRK(A, sol, b, blocks, N, x)"
   ]
  },
  {
   "cell_type": "code",
   "execution_count": null,
   "metadata": {},
   "outputs": [],
   "source": [
    "ac.collapse_plt(list4, n, N)\n",
    "plt.show()\n",
    "plt.savefig(\"plots/ER_p02_arbi_collapse.svg\", format='svg')"
   ]
  },
  {
   "cell_type": "code",
   "execution_count": null,
   "metadata": {},
   "outputs": [],
   "source": [
    "bound, r, sq = ac.error_plt(err4, G, blocks, sol, N, rate='arbi')\n",
    "plt.show()\n",
    "plt.savefig(\"plots/ER_p02_arbi_error.svg\", format='svg')"
   ]
  }
 ],
 "metadata": {
  "kernelspec": {
   "display_name": "Python 3",
   "language": "python",
   "name": "python3"
  },
  "language_info": {
   "codemirror_mode": {
    "name": "ipython",
    "version": 3
   },
   "file_extension": ".py",
   "mimetype": "text/x-python",
   "name": "python",
   "nbconvert_exporter": "python",
   "pygments_lexer": "ipython3",
   "version": "3.8.3"
  }
 },
 "nbformat": 4,
 "nbformat_minor": 5
}
