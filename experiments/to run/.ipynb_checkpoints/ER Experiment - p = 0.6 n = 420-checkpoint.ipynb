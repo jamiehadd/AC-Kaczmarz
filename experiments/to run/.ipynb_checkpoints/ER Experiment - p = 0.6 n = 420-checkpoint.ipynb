{
 "cells": [
  {
   "cell_type": "code",
   "execution_count": null,
   "id": "b950d710",
   "metadata": {},
   "outputs": [],
   "source": [
    "# Import Libraries\n",
    "import matplotlib.pyplot as plt\n",
    "import networkx as nx\n",
    "import itertools\n",
    "import numpy as np\n",
    "import scipy as sp\n",
    "from numpy.linalg import pinv\n",
    "from numpy.random import randint, normal\n",
    "from networkx.algorithms.clique import find_cliques, enumerate_all_cliques, make_max_clique_graph, graph_number_of_cliques\n",
    "from networkx.algorithms.matching import maximal_matching\n",
    "from networkx.algorithms.operators.unary import complement\n",
    "from networkx.generators.random_graphs import erdos_renyi_graph #CHANGE THIS IMPORT TO INCLUDE OTHER GRAPH TYPES\n",
    "from networkx.linalg.algebraicconnectivity import algebraic_connectivity\n",
    "from scipy import stats\n",
    "import itertools as it\n",
    "from collections import Counter"
   ]
  },
  {
   "cell_type": "code",
   "execution_count": null,
   "id": "fc1dfb22",
   "metadata": {},
   "outputs": [],
   "source": [
    "import os\n",
    "import sys\n",
    "sys.path.insert(0, os.path.abspath('../modules'))\n",
    "import block_RK as ac"
   ]
  },
  {
   "cell_type": "code",
   "execution_count": null,
   "id": "7ce2d987",
   "metadata": {},
   "outputs": [],
   "source": [
    "# Adjust plot size\n",
    "plt.rcParams[\"figure.figsize\"] = (8, 8)"
   ]
  },
  {
   "cell_type": "markdown",
   "id": "c709aea3",
   "metadata": {},
   "source": [
    "# ER Experiments"
   ]
  },
  {
   "cell_type": "markdown",
   "id": "25478f8c",
   "metadata": {},
   "source": [
    "### experimental set-up"
   ]
  },
  {
   "cell_type": "code",
   "execution_count": null,
   "id": "e2bc28ef",
   "metadata": {},
   "outputs": [],
   "source": [
    "# Initialize Graph\n",
    "n = 420\n",
    "p = 0.6\n",
    "G = erdos_renyi_graph(n, p)\n",
    "m = len(G.edges())"
   ]
  },
  {
   "cell_type": "code",
   "execution_count": null,
   "id": "97310004",
   "metadata": {},
   "outputs": [],
   "source": [
    "# Initialize Incidence Matrix\n",
    "A = nx.linalg.graphmatrix.incidence_matrix(G)\n",
    "A = sp.sparse.csr_matrix.todense(A).transpose()\n",
    "# their incidence matrix is binary, we need to convert one of the ones to a -1\n",
    "for i in range(np.shape(A)[0]):\n",
    "    negindex = np.where(A[i,:] == 1)\n",
    "    A[i,negindex[1][0]] = -1"
   ]
  },
  {
   "cell_type": "code",
   "execution_count": null,
   "id": "ef73f63b",
   "metadata": {},
   "outputs": [],
   "source": [
    "# Fix x, b\n",
    "# Secret initial vector x\n",
    "x = np.random.rand(n,1)\n",
    "# Zero Vector b\n",
    "b = np.zeros((m,1))\n",
    "# Find mean of x\n",
    "xbar = np.mean(x)\n",
    "# Create solution vector (vector with just xbar as values)\n",
    "sol = np.full((n,1), xbar)"
   ]
  },
  {
   "cell_type": "markdown",
   "id": "47c882cf",
   "metadata": {},
   "source": [
    "### Path gossip"
   ]
  },
  {
   "cell_type": "code",
   "execution_count": null,
   "id": "9809c792",
   "metadata": {},
   "outputs": [],
   "source": [
    "# Path Gossip with l = 100\n",
    "N = 1000\n",
    "l = 100\n",
    "paths, testx, x_list, errs = ac.blockRK_path(A, G, sol, b, N, x, l)"
   ]
  },
  {
   "cell_type": "code",
   "execution_count": null,
   "id": "85863096",
   "metadata": {},
   "outputs": [],
   "source": [
    "ac.collapse_plt(x_list, n, N)\n",
    "plt.show()\n",
    "plt.savefig(\"plots/ER_p06_path_collapse.svg\", format='svg')"
   ]
  },
  {
   "cell_type": "code",
   "execution_count": null,
   "id": "465bfd49",
   "metadata": {},
   "outputs": [],
   "source": [
    "ac.error_plt(errs, G, paths, sol, N, rate='path')\n",
    "plt.show()\n",
    "plt.savefig(\"plots/ER_p06_path_error.svg\", format='svg')"
   ]
  },
  {
   "cell_type": "markdown",
   "id": "0c753f65",
   "metadata": {},
   "source": [
    "### IES gossip"
   ]
  },
  {
   "cell_type": "code",
   "execution_count": null,
   "id": "62a5b8d4",
   "metadata": {},
   "outputs": [],
   "source": [
    "N = 200\n",
    "ies = ac.blocks_from_ies(G, A)\n",
    "test_x, xlist, errs = ac.blockRK(A, sol, b, ies, N, x)"
   ]
  },
  {
   "cell_type": "code",
   "execution_count": null,
   "id": "f8dddfcc",
   "metadata": {},
   "outputs": [],
   "source": [
    "ac.collapse_plt(xlist, n, N)\n",
    "plt.show()\n",
    "plt.savefig(\"plots/ER_p06_ies_collapse.svg\", format='svg')"
   ]
  },
  {
   "cell_type": "code",
   "execution_count": null,
   "id": "75c226a7",
   "metadata": {},
   "outputs": [],
   "source": [
    "ac.error_plt(errs, G, ies, sol, N, rate='ies')\n",
    "plt.show()\n",
    "plt.savefig(\"plots/ER_p06_ies_error.svg\", format='svg')"
   ]
  },
  {
   "cell_type": "markdown",
   "id": "013a12f9",
   "metadata": {},
   "source": [
    "### clique gossip"
   ]
  },
  {
   "cell_type": "code",
   "execution_count": null,
   "id": "5e60f225",
   "metadata": {},
   "outputs": [],
   "source": [
    "# upper bound\n",
    "bound = 50\n",
    "N = 500\n",
    "cliques = ac.clique_edge_cover(G, A, bound)\n",
    "test_x, xlist, errs = ac.blockRK(A, sol, b, cliques, N, x)"
   ]
  },
  {
   "cell_type": "code",
   "execution_count": null,
   "id": "2ce4f793",
   "metadata": {},
   "outputs": [],
   "source": [
    "ac.collapse_plt(xlist, n, N)\n",
    "plt.show()\n",
    "plt.savefig(\"plots/ER_p06_clique_collapse.svg\", format='svg')"
   ]
  },
  {
   "cell_type": "code",
   "execution_count": null,
   "id": "406b3065",
   "metadata": {},
   "outputs": [],
   "source": [
    "ac.error_plt(errs, G, cliques, sol, N, rate='cliques')\n",
    "plt.show()\n",
    "plt.savefig(\"plots/ER_p06_clique_error.svg\", format='svg')"
   ]
  },
  {
   "cell_type": "markdown",
   "id": "69e5c0a5",
   "metadata": {},
   "source": [
    "### random"
   ]
  },
  {
   "cell_type": "code",
   "execution_count": null,
   "id": "3a3fd5db",
   "metadata": {},
   "outputs": [],
   "source": [
    "N = 200\n",
    "s = 25\n",
    "bn = 3s00\n",
    "blocks = ac.random_blocks(A, s, bn) # parameters are: incidence matrix, size of blocks, number of blocks\n",
    "test4, list4, err4 = ac.blockRK(A, sol, b, blocks, N, x)"
   ]
  },
  {
   "cell_type": "code",
   "execution_count": null,
   "id": "b5f7e174",
   "metadata": {},
   "outputs": [],
   "source": [
    "ac.collapse_plt(list4, n, N)\n",
    "plt.show()\n",
    "plt.savefig(\"plots/ER_p06_arbi_collapse.svg\", format='svg')"
   ]
  },
  {
   "cell_type": "code",
   "execution_count": null,
   "id": "cb1f33a7",
   "metadata": {},
   "outputs": [],
   "source": [
    "bound, r, sq = ac.error_plt(err4, G, blocks, sol, N, rate='arbi')\n",
    "plt.show()\n",
    "plt.savefig(\"plots/ER_p06_arbi_error.svg\", format='svg')"
   ]
  }
 ],
 "metadata": {
  "kernelspec": {
   "display_name": "Python 3 (ipykernel)",
   "language": "python",
   "name": "python3"
  },
  "language_info": {
   "codemirror_mode": {
    "name": "ipython",
    "version": 3
   },
   "file_extension": ".py",
   "mimetype": "text/x-python",
   "name": "python",
   "nbconvert_exporter": "python",
   "pygments_lexer": "ipython3",
   "version": "3.7.3"
  }
 },
 "nbformat": 4,
 "nbformat_minor": 5
}
