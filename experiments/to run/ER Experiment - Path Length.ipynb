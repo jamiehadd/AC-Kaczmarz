{
 "cells": [
  {
   "cell_type": "code",
   "execution_count": null,
   "id": "b950d710",
   "metadata": {},
   "outputs": [],
   "source": [
    "# Import Libraries\n",
    "import matplotlib.pyplot as plt\n",
    "import networkx as nx\n",
    "import itertools\n",
    "import numpy as np\n",
    "import scipy as sp\n",
    "from numpy.linalg import pinv\n",
    "from numpy.random import randint, normal\n",
    "from networkx.algorithms.clique import find_cliques, enumerate_all_cliques, make_max_clique_graph, graph_number_of_cliques\n",
    "from networkx.algorithms.matching import maximal_matching\n",
    "from networkx.algorithms.operators.unary import complement\n",
    "from networkx.generators.random_graphs import erdos_renyi_graph #CHANGE THIS IMPORT TO INCLUDE OTHER GRAPH TYPES\n",
    "from networkx.linalg.algebraicconnectivity import algebraic_connectivity\n",
    "from scipy import stats\n",
    "import itertools as it\n",
    "from collections import Counter"
   ]
  },
  {
   "cell_type": "code",
   "execution_count": null,
   "id": "fc1dfb22",
   "metadata": {},
   "outputs": [],
   "source": [
    "import os\n",
    "import sys\n",
    "sys.path.insert(0, os.path.abspath('../modules'))\n",
    "import block_RK as ac"
   ]
  },
  {
   "cell_type": "code",
   "execution_count": null,
   "id": "7ce2d987",
   "metadata": {},
   "outputs": [],
   "source": [
    "# Adjust plot size\n",
    "plt.rcParams[\"figure.figsize\"] = (8, 8)"
   ]
  },
  {
   "cell_type": "markdown",
   "id": "c709aea3",
   "metadata": {},
   "source": [
    "# ER Experiments"
   ]
  },
  {
   "cell_type": "markdown",
   "id": "25478f8c",
   "metadata": {},
   "source": [
    "### graph set up"
   ]
  },
  {
   "cell_type": "code",
   "execution_count": null,
   "id": "e2bc28ef",
   "metadata": {},
   "outputs": [],
   "source": [
    "# Initialize Graph\n",
    "n = 200\n",
    "p = 0.6\n",
    "G = erdos_renyi_graph(n, p)\n",
    "m = len(G.edges())"
   ]
  },
  {
   "cell_type": "code",
   "execution_count": null,
   "id": "97310004",
   "metadata": {},
   "outputs": [],
   "source": [
    "# Initialize Incidence Matrix\n",
    "A = nx.linalg.graphmatrix.incidence_matrix(G)\n",
    "A = sp.sparse.csr_matrix.todense(A).transpose()\n",
    "# their incidence matrix is binary, we need to convert one of the ones to a -1\n",
    "for i in range(np.shape(A)[0]):\n",
    "    negindex = np.where(A[i,:] == 1)\n",
    "    A[i,negindex[1][0]] = -1"
   ]
  },
  {
   "cell_type": "code",
   "execution_count": null,
   "id": "ef73f63b",
   "metadata": {},
   "outputs": [],
   "source": [
    "# Fix x, b\n",
    "# Secret initial vector x\n",
    "x = np.random.rand(n,1)\n",
    "# Zero Vector b\n",
    "b = np.zeros((m,1))\n",
    "# Find mean of x\n",
    "xbar = np.mean(x)\n",
    "# Create solution vector (vector with just xbar as values)\n",
    "sol = np.full((n,1), xbar)"
   ]
  },
  {
   "cell_type": "markdown",
   "id": "44d13f01",
   "metadata": {},
   "source": [
    "### l = 25"
   ]
  },
  {
   "cell_type": "code",
   "execution_count": null,
   "id": "a03e23d5",
   "metadata": {},
   "outputs": [],
   "source": [
    "N = 400\n",
    "l = 25\n",
    "paths0, test_x0, x_list0, errs0 = ac.blockRK_path(A, G, sol, b, N, x, l)"
   ]
  },
  {
   "cell_type": "code",
   "execution_count": null,
   "id": "0413f64d",
   "metadata": {},
   "outputs": [],
   "source": [
    "ac.collapse_plt(x_list0, n, N)\n",
    "plt.show()\n",
    "plt.savefig(\"plots/ER_L50_path_collapse.svg\", format='svg')"
   ]
  },
  {
   "cell_type": "code",
   "execution_count": null,
   "id": "ad5935fa",
   "metadata": {},
   "outputs": [],
   "source": [
    "bound25, r25, err25 = ac.error_plt(errs0, G, paths0, sol, N, 'path')\n",
    "plt.show()\n",
    "plt.savefig(\"plots/ER_L50_path_error.svg\", format='svg')"
   ]
  },
  {
   "cell_type": "markdown",
   "id": "2940bf69",
   "metadata": {},
   "source": [
    "### l = 50"
   ]
  },
  {
   "cell_type": "code",
   "execution_count": null,
   "id": "9809c792",
   "metadata": {},
   "outputs": [],
   "source": [
    "N = 400\n",
    "l = 50\n",
    "paths, test_x, x_list, errs = ac.blockRK_path(A, G, sol, b, N, x, l)"
   ]
  },
  {
   "cell_type": "code",
   "execution_count": null,
   "id": "85863096",
   "metadata": {},
   "outputs": [],
   "source": [
    "ac.collapse_plt(x_list, n, N)\n",
    "plt.show()\n",
    "plt.savefig(\"plots/ER_L50_path_collapse.svg\", format='svg')"
   ]
  },
  {
   "cell_type": "code",
   "execution_count": null,
   "id": "465bfd49",
   "metadata": {},
   "outputs": [],
   "source": [
    "bound50, r50, err50 = ac.error_plt(errs, G, paths, sol, N, 'path')\n",
    "plt.show()\n",
    "plt.savefig(\"plots/ER_L50_path_error.svg\", format='svg')"
   ]
  },
  {
   "cell_type": "markdown",
   "id": "0c753f65",
   "metadata": {},
   "source": [
    "### l = 100"
   ]
  },
  {
   "cell_type": "code",
   "execution_count": null,
   "id": "62a5b8d4",
   "metadata": {},
   "outputs": [],
   "source": [
    "N = 400\n",
    "l = 100\n",
    "paths2, x2, xlist2, errs2 = ac.blockRK_path(A, G, sol, b, N, x, l)"
   ]
  },
  {
   "cell_type": "code",
   "execution_count": null,
   "id": "f8dddfcc",
   "metadata": {},
   "outputs": [],
   "source": [
    "ac.collapse_plt(xlist2, n, N)\n",
    "plt.show()\n",
    "plt.savefig(\"plots/ER_L100_path_collapse.svg\", format='svg')"
   ]
  },
  {
   "cell_type": "code",
   "execution_count": null,
   "id": "75c226a7",
   "metadata": {},
   "outputs": [],
   "source": [
    "bound100, r100, err100 = ac.error_plt(errs2, G, paths2, sol, N, 'path')\n",
    "plt.show()\n",
    "plt.savefig(\"plots/ER_L100_path_error.svg\", format='svg')"
   ]
  },
  {
   "cell_type": "markdown",
   "id": "013a12f9",
   "metadata": {},
   "source": [
    "### l = 150"
   ]
  },
  {
   "cell_type": "code",
   "execution_count": null,
   "id": "5e60f225",
   "metadata": {},
   "outputs": [],
   "source": [
    "N = 400\n",
    "l = 150\n",
    "paths3, x3, xlist3, errs3 = ac.blockRK_path(A, G, sol, b, N, x, l)"
   ]
  },
  {
   "cell_type": "code",
   "execution_count": null,
   "id": "2ce4f793",
   "metadata": {},
   "outputs": [],
   "source": [
    "ac.collapse_plt(xlist3, n, N)\n",
    "plt.show()\n",
    "plt.savefig(\"plots/ER_L150_path_collapse.svg\", format='svg')"
   ]
  },
  {
   "cell_type": "code",
   "execution_count": null,
   "id": "406b3065",
   "metadata": {},
   "outputs": [],
   "source": [
    "bound150, r150, err150 = ac.error_plt(errs3, G, paths3, sol, N, 'path')\n",
    "plt.show()\n",
    "plt.savefig(\"plots/ER_L150_path_error.svg\", format='svg')"
   ]
  },
  {
   "cell_type": "markdown",
   "id": "8a2ef032",
   "metadata": {},
   "source": [
    "### path length vs constant"
   ]
  },
  {
   "cell_type": "code",
   "execution_count": null,
   "id": "49e41f47",
   "metadata": {},
   "outputs": [],
   "source": [
    "r_list = [(25, r25), (50, r50), (100, r100), (150, r150)]"
   ]
  },
  {
   "cell_type": "code",
   "execution_count": null,
   "id": "0a070411",
   "metadata": {},
   "outputs": [],
   "source": [
    "plt.scatter(*zip(*r_list))\n",
    "plt.legend(prop={'size': 15})\n",
    "plt.xlabel('Path Length', fontsize=15)\n",
    "plt.ylabel(r'Rate Constant', fontsize=15)\n",
    "plt.xticks(fontsize=15)\n",
    "plt.yticks(fontsize=15)\n",
    "plt.show()\n",
    "plt.savefig(\"plots/ER_path_rate.svg\", format='svg')"
   ]
  }
 ],
 "metadata": {
  "kernelspec": {
   "display_name": "Python 3 (ipykernel)",
   "language": "python",
   "name": "python3"
  },
  "language_info": {
   "codemirror_mode": {
    "name": "ipython",
    "version": 3
   },
   "file_extension": ".py",
   "mimetype": "text/x-python",
   "name": "python",
   "nbconvert_exporter": "python",
   "pygments_lexer": "ipython3",
   "version": "3.7.3"
  }
 },
 "nbformat": 4,
 "nbformat_minor": 5
}
