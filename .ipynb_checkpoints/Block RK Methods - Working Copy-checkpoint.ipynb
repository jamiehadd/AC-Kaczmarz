{
 "cells": [
  {
   "cell_type": "code",
   "execution_count": 2,
   "metadata": {},
   "outputs": [],
   "source": [
    "# Import Libraries\n",
    "import matplotlib.pyplot as plt\n",
    "from networkx import nx\n",
    "import itertools\n",
    "import numpy as np\n",
    "import scipy as sp\n",
    "from numpy.linalg import pinv\n",
    "from numpy.random import randint, normal\n",
    "from networkx.algorithms.clique import find_cliques, enumerate_all_cliques\n",
    "from networkx.algorithms.approximation import maximum_independent_set\n",
    "from networkx.algorithms.operators.unary import complement\n",
    "from scipy import stats"
   ]
  },
  {
   "cell_type": "markdown",
   "metadata": {},
   "source": [
    "# Block RK Functions\n",
    "These are our block RK functions with different varations, but they all return the same items"
   ]
  },
  {
   "cell_type": "code",
   "execution_count": 38,
   "metadata": {},
   "outputs": [],
   "source": [
    "# Standard Block RK\n",
    "# x_list allows us to track evolution of x and its individual components (for \"collapse\" graph?)\n",
    "# Takes in c: initial vector, b: Ax=b (column of zeros), A: incidence matrix, and sol: solution to Ax=b\n",
    "# Also takes in list of lists (Blocks) where each block is a list of rows within the incidence matrix corresponding to\n",
    "# specific subgraphs and N, number of maximum iterations\n",
    "# Returns: final value of x, list of x over iterations, and error over iterations\n",
    "\n",
    "def blockRK(A, sol, b, blocks, N, c):\n",
    "    k = len(blocks)\n",
    "    x = c\n",
    "    x_list = [x]\n",
    "    errors = []\n",
    "    for j in range (1, N+1):\n",
    "        i = randint(k);\n",
    "        x = x + np.linalg.pinv(A[blocks[i],:])@(b[blocks[i]] - A[blocks[i],:]@x)\n",
    "        errors.append(np.linalg.norm(x-sol))\n",
    "        x_list.append(np.asarray(x))\n",
    "    return x, x_list, errors"
   ]
  },
  {
   "cell_type": "code",
   "execution_count": 4,
   "metadata": {},
   "outputs": [],
   "source": [
    "# Corrupted block RK with random link failure (RLF)\n",
    "# Fails on each block randomly from a normal distribution\n",
    "# Independent but not identical probability of failure\n",
    "# Accepts fixed failure probability (Bernoulli)\n",
    "\n",
    "def blockRK_RLF(A, sol, b, blocks, N, c, p=0.3):\n",
    "    k = len(blocks)\n",
    "    x = c\n",
    "    x_list = [x]\n",
    "    errors = []\n",
    "    for j in range (1, N+1):\n",
    "        r = stats.bernoulli.rvs(p, size = 1);\n",
    "        i = randint(k)\n",
    "        if r[0] == 1:\n",
    "            x = x + np.linalg.pinv(A[blocks[i],:])@(b[blocks[i]] - A[blocks[i],:]@x)\n",
    "        errors.append(np.linalg.norm(x-sol))\n",
    "        x_list.append(x)\n",
    "    return x, x_list, errors"
   ]
  },
  {
   "cell_type": "code",
   "execution_count": 5,
   "metadata": {},
   "outputs": [],
   "source": [
    "# Corrupted block RK with one-off random additive noise (Gaussian)\n",
    "# Adds a Gaussian noise vector to b at first\n",
    "\n",
    "def blockRK_AGN(A, sol, b, blocks, N, c, s=0.05, m=0):\n",
    "    k = len(blocks)\n",
    "    x = c\n",
    "    errors = []\n",
    "    x_list = [x]\n",
    "    err = normal(m, s, b.shape)\n",
    "    b = b + err\n",
    "    for j in range (1, N+1):\n",
    "        x = x + np.linalg.pinv(A[blocks[i],:])@(b[blocks[i]] - A[blocks[i],:]@x) + err\n",
    "    errors.append(np.linalg.norm(x-sol))\n",
    "    x_list.append(x)\n",
    "    return x, errors"
   ]
  },
  {
   "cell_type": "code",
   "execution_count": 6,
   "metadata": {},
   "outputs": [],
   "source": [
    "# Corrupted block RK with two modes of failure: ONE-OFF additive gaussian noise and\n",
    "# random link failure\n",
    "\n",
    "def blockRK_cor(A, sol, b, blocks, N, c, p=0.3, m=0, s=0.1):\n",
    "    k = len(blocks)\n",
    "    x = c\n",
    "    errors = []\n",
    "    x_list = []\n",
    "    err = normal(m, s, b.shape)\n",
    "    b = b + err\n",
    "    for j in range (1, N+1):\n",
    "        r = stats.bernoulli.rvs(p, size = 1);\n",
    "        i = randint(k)\n",
    "        if r[0] == 1:\n",
    "            x = x + np.linalg.pinv(A[blocks[i],:])@(b[blocks[i]] - A[blocks[i],:]@x)\n",
    "            errors.append(np.linalg.norm(x-sol))\n",
    "    return x, x_list, errors"
   ]
  },
  {
   "cell_type": "markdown",
   "metadata": {},
   "source": [
    "# Helper Functions\n",
    "These are various helper functions for use; some of them are wrapped and will not be used standalone"
   ]
  },
  {
   "cell_type": "code",
   "execution_count": 7,
   "metadata": {},
   "outputs": [],
   "source": [
    "# Helper Functions for Size\n",
    "\n",
    "# NOT TO BE USED STANDALONE\n",
    "def trivial(x):\n",
    "    if len(x)<=2:\n",
    "        return False\n",
    "    return True"
   ]
  },
  {
   "cell_type": "code",
   "execution_count": 8,
   "metadata": {},
   "outputs": [],
   "source": [
    "# Helper Functions for Size\n",
    "\n",
    "# NOT TO BE USED STANDALONE\n",
    "def max_size(x, n):\n",
    "    if len(x)>n:\n",
    "        return False\n",
    "    return True"
   ]
  },
  {
   "cell_type": "code",
   "execution_count": 9,
   "metadata": {},
   "outputs": [],
   "source": [
    "# Removes all trivial subgraphs and subgraphs that are too big according to some specified maximum size\n",
    "# Takes in a list of lists (list of subgraphs by nodes e.g. [1, 2] is the subgraph with the nodes 1, 2; [2, 4, 5] is the\n",
    "# subgraph with nodes 2, 4 and 5)\n",
    "# If no maximum size is given, only removes trivial cliques\n",
    "\n",
    "def remove_trivial_subgraphs(sgs, n=0):\n",
    "    fil_sg = list(filter(trivial, sgs))\n",
    "    if n == 0:\n",
    "        return fil_sg\n",
    "    else:\n",
    "        fil_sg = list(filter(max_size, fill_sg))\n",
    "        return fil_sg"
   ]
  },
  {
   "cell_type": "code",
   "execution_count": 10,
   "metadata": {},
   "outputs": [],
   "source": [
    "# Helper functions for grabbing row indices for subgraphs\n",
    "\n",
    "# Converts sets of edges into row indices in the incidence matrix\n",
    "def find_subgraph_from_edges(A,edges):\n",
    "    edge_indices = []\n",
    "    for edge in edges:\n",
    "        for i in range(A.shape[0]):\n",
    "            if A[i,edge[0]] != 0 and A[i,edge[1]] != 0:\n",
    "                edge_indices.append(i)\n",
    "    if len(edges) != len(edge_indices):\n",
    "        print(\"Did not find all edges of subgraph in incidence matrix.\")\n",
    "    return edge_indices"
   ]
  },
  {
   "cell_type": "code",
   "execution_count": 11,
   "metadata": {},
   "outputs": [],
   "source": [
    "# Helper functions for grabbing row indices for subgraphs\n",
    "\n",
    "# need to turn list of pnts into edges\n",
    "# use this for enumerate_all_cliques!\n",
    "def find_subgraph_from_pnts(A,pnts):\n",
    "    edge_indices = []\n",
    "    for j in range(len(pnts)-1):\n",
    "        for i in range(A.shape[0]):\n",
    "            if A[i, pnts[j]] != 0 and A[i, pnts[j+1]]:\n",
    "                edge_indices.append(i)\n",
    "            if A[i, pnts[0]] != 0 and A[i, pnts[len(pnts)-1]] !=0:\n",
    "                if i not in edge_indices:\n",
    "                    edge_indices.append(i)\n",
    "    if (len(pnts)) != len(edge_indices):\n",
    "        print(\"Did not find all edges of subgraph in incidence matrix.\")\n",
    "    return edge_indices"
   ]
  },
  {
   "cell_type": "code",
   "execution_count": 12,
   "metadata": {},
   "outputs": [],
   "source": [
    "# Given a list of points, grabs blocks and makes a list\n",
    "\n",
    "def blocks_pnts(A, subgraphs):\n",
    "    blocks = []\n",
    "    for subgraph in subgraphs:\n",
    "        blocks.append(find_subgraph_from_pnts(A, subgraph))\n",
    "    return blocks"
   ]
  },
  {
   "cell_type": "markdown",
   "metadata": {},
   "source": [
    "## Graphing Helper Functions\n",
    "These graph the output of a specific Block RK function"
   ]
  },
  {
   "cell_type": "code",
   "execution_count": 69,
   "metadata": {},
   "outputs": [],
   "source": [
    "# n is number of nodes in graph! \n",
    "\n",
    "def collapse_plt(x_list, n, N):\n",
    "    for i in range (N):\n",
    "        x_list[i] = np.concatenate(x_list[i])\n",
    "    for i in range (n):\n",
    "        plt.plot(range(N+1), [test_iter[f][i] for f in range(N+1)])"
   ]
  },
  {
   "cell_type": "code",
   "execution_count": 14,
   "metadata": {},
   "outputs": [],
   "source": [
    "def error_plt(errors):\n",
    "    plt.semilogy(range(np.shape(errors)[0]),errors)"
   ]
  },
  {
   "cell_type": "markdown",
   "metadata": {},
   "source": [
    "## Conditioning Specific Helper Functions\n",
    "These wrap the above functions and apply them to specific conditions: e.g. cliques"
   ]
  },
  {
   "cell_type": "code",
   "execution_count": 15,
   "metadata": {},
   "outputs": [],
   "source": [
    "# Grabs subgraphs that correspond to cliques within a graph\n",
    "# Input: Incidence matrix, graph\n",
    "\n",
    "def blocks_from_cliques(G, A):\n",
    "    cliques = list(enumerate_all_cliques(G))\n",
    "    fill_cliques = remove_trivial_subgraphs(cliques)\n",
    "    blks = blocks_pnts(A, fill_cliques)\n",
    "    return blks"
   ]
  },
  {
   "cell_type": "markdown",
   "metadata": {},
   "source": [
    "# Experiments\n",
    "Run all experiments here"
   ]
  },
  {
   "cell_type": "markdown",
   "metadata": {},
   "source": [
    "### Graph and Problem Set-Up"
   ]
  },
  {
   "cell_type": "code",
   "execution_count": 16,
   "metadata": {},
   "outputs": [],
   "source": [
    "# Initialize Graph\n",
    "n = 10\n",
    "m = 20\n",
    "\n",
    "G = nx.gnm_random_graph(n,m)\n",
    "\n",
    "#Get incidence matrix\n",
    "A = nx.linalg.graphmatrix.incidence_matrix(G)\n",
    "A = sp.sparse.csr_matrix.todense(A).transpose()"
   ]
  },
  {
   "cell_type": "code",
   "execution_count": 17,
   "metadata": {},
   "outputs": [
    {
     "data": {
      "image/png": "[encoded data removed]",
      "text/plain": [
       "<Figure size 432x288 with 1 Axes>"
      ]
     },
     "metadata": {},
     "output_type": "display_data"
    }
   ],
   "source": [
    "# Draw graph\n",
    "nx.draw(G)\n",
    "plt.show()"
   ]
  },
  {
   "cell_type": "code",
   "execution_count": 18,
   "metadata": {},
   "outputs": [
    {
     "data": {
      "text/plain": [
       "<matplotlib.image.AxesImage at 0x2c902aecd60>"
      ]
     },
     "execution_count": 18,
     "metadata": {},
     "output_type": "execute_result"
    },
    {
     "data": {
      "image/png": "[encoded data removed]",
      "text/plain": [
       "<Figure size 432x288 with 1 Axes>"
      ]
     },
     "metadata": {
      "needs_background": "light"
     },
     "output_type": "display_data"
    }
   ],
   "source": [
    "# Initialize Incidence Matrix\n",
    "A = nx.linalg.graphmatrix.incidence_matrix(G)\n",
    "A = sp.sparse.csr_matrix.todense(A).transpose()\n",
    "plt.imshow(A)  # their incidence matrix is binary, we need to convert one of the ones to a -1"
   ]
  },
  {
   "cell_type": "code",
   "execution_count": 19,
   "metadata": {},
   "outputs": [
    {
     "data": {
      "text/plain": [
       "<matplotlib.image.AxesImage at 0x2c903b341f0>"
      ]
     },
     "execution_count": 19,
     "metadata": {},
     "output_type": "execute_result"
    },
    {
     "data": {
      "image/png": "[encoded data removed]",
      "text/plain": [
       "<Figure size 432x288 with 1 Axes>"
      ]
     },
     "metadata": {
      "needs_background": "light"
     },
     "output_type": "display_data"
    }
   ],
   "source": [
    "for i in range(np.shape(A)[0]):\n",
    "    negindex = np.where(A[i,:] == 1)\n",
    "    A[i,negindex[1][0]] = -1\n",
    "plt.imshow(A)"
   ]
  },
  {
   "cell_type": "code",
   "execution_count": 20,
   "metadata": {},
   "outputs": [
    {
     "data": {
      "image/png": "[encoded data removed]",
      "text/plain": [
       "<Figure size 432x288 with 1 Axes>"
      ]
     },
     "metadata": {
      "needs_background": "light"
     },
     "output_type": "display_data"
    }
   ],
   "source": [
    "# Fix x, b\n",
    "# Secret initial vector x\n",
    "x = np.random.rand(n,1)\n",
    "plt.imshow(x)\n",
    "# Zero Vector b\n",
    "b = np.zeros((m,1))"
   ]
  },
  {
   "cell_type": "code",
   "execution_count": 21,
   "metadata": {},
   "outputs": [
    {
     "data": {
      "text/plain": [
       "array([[0.60188949],\n",
       "       [0.60188949],\n",
       "       [0.60188949],\n",
       "       [0.60188949],\n",
       "       [0.60188949],\n",
       "       [0.60188949],\n",
       "       [0.60188949],\n",
       "       [0.60188949],\n",
       "       [0.60188949],\n",
       "       [0.60188949]])"
      ]
     },
     "execution_count": 21,
     "metadata": {},
     "output_type": "execute_result"
    }
   ],
   "source": [
    "# Find mean of x\n",
    "xbar = np.mean(x)\n",
    "# Create solution vector (vector with just xbar as values)\n",
    "sol = np.full((n,1), xbar)\n",
    "sol"
   ]
  },
  {
   "cell_type": "markdown",
   "metadata": {},
   "source": [
    "## Testing"
   ]
  },
  {
   "cell_type": "code",
   "execution_count": 22,
   "metadata": {},
   "outputs": [
    {
     "data": {
      "text/plain": [
       "[[1, 3, 7],\n",
       " [2, 3, 10],\n",
       " [0, 3, 9],\n",
       " [1, 2, 13],\n",
       " [4, 5, 10],\n",
       " [7, 10, 13],\n",
       " [6, 7, 14],\n",
       " [7, 8, 12],\n",
       " [8, 10, 16],\n",
       " [6, 9, 17],\n",
       " [12, 13, 16],\n",
       " [17, 18, 19],\n",
       " [2, 3, 7, 13],\n",
       " [7, 8, 13, 16]]"
      ]
     },
     "execution_count": 22,
     "metadata": {},
     "output_type": "execute_result"
    }
   ],
   "source": [
    "# Grab Cliques\n",
    "cliques = blocks_from_cliques(G,A)\n",
    "cliques"
   ]
  },
  {
   "cell_type": "code",
   "execution_count": 78,
   "metadata": {},
   "outputs": [],
   "source": [
    "test_x, test_iter, test_errs = blockRK(A, sol, b, cliques, 150, x)"
   ]
  },
  {
   "cell_type": "code",
   "execution_count": 79,
   "metadata": {},
   "outputs": [
    {
     "data": {
      "image/png": "[encoded data removed]",
      "text/plain": [
       "<Figure size 432x288 with 1 Axes>"
      ]
     },
     "metadata": {
      "needs_background": "light"
     },
     "output_type": "display_data"
    }
   ],
   "source": [
    "error_plt(test_errs)"
   ]
  },
  {
   "cell_type": "code",
   "execution_count": 80,
   "metadata": {},
   "outputs": [
    {
     "data": {
      "image/png": "[encoded data removed]",
      "text/plain": [
       "<Figure size 432x288 with 1 Axes>"
      ]
     },
     "metadata": {
      "needs_background": "light"
     },
     "output_type": "display_data"
    }
   ],
   "source": [
    "collapse_plt(test_iter, n, 100)"
   ]
  },
  {
   "cell_type": "markdown",
   "metadata": {},
   "source": [
    "# Debugging Corner\n",
    "Where bad code goes to die"
   ]
  },
  {
   "cell_type": "code",
   "execution_count": 48,
   "metadata": {},
   "outputs": [
    {
     "data": {
      "text/plain": [
       "[array([0.1462053 , 0.3401473 , 0.33307706, 0.6316088 , 0.56113444,\n",
       "        0.8806873 , 0.9825548 , 0.67558337, 0.99957913, 0.46831739]),\n",
       " array([0.1462053 , 0.3401473 , 0.33307706, 0.6316088 , 0.63671304,\n",
       "        0.63671304, 0.9825548 , 0.67558337, 0.99957913, 0.63671304]),\n",
       " array([0.1462053 , 0.3401473 , 0.56080405, 0.6316088 , 0.56080405,\n",
       "        0.56080405, 0.9825548 , 0.67558337, 0.99957913, 0.56080405]),\n",
       " array([0.42260447, 0.3401473 , 0.56080405, 0.6316088 , 0.42260447,\n",
       "        0.42260447, 0.9825548 , 0.67558337, 0.99957913, 0.56080405]),\n",
       " array([0.46867099, 0.3401473 , 0.46867099, 0.6316088 , 0.46867099,\n",
       "        0.42260447, 0.9825548 , 0.67558337, 0.99957913, 0.56080405]),\n",
       " array([0.46867099, 0.3401473 , 0.4840265 , 0.6316088 , 0.46867099,\n",
       "        0.4840265 , 0.9825548 , 0.67558337, 0.99957913, 0.4840265 ]),\n",
       " array([0.4737895 , 0.3401473 , 0.4737895 , 0.6316088 , 0.4737895 ,\n",
       "        0.4840265 , 0.9825548 , 0.67558337, 0.99957913, 0.4840265 ]),\n",
       " array([0.4737895 , 0.3401473 , 0.71064255, 0.6316088 , 0.4737895 ,\n",
       "        0.4840265 , 0.71064255, 0.71064255, 0.99957913, 0.4840265 ]),\n",
       " array([0.55615285, 0.3401473 , 0.55615285, 0.6316088 , 0.4737895 ,\n",
       "        0.55615285, 0.71064255, 0.71064255, 0.99957913, 0.4840265 ]),\n",
       " array([0.55615285, 0.3401473 , 0.55615285, 0.6316088 , 0.4737895 ,\n",
       "        0.55615285, 0.80695475, 0.80695475, 0.80695475, 0.4840265 ]),\n",
       " array([0.55615285, 0.3401473 , 0.5286984 , 0.6316088 , 0.5286984 ,\n",
       "        0.5286984 , 0.80695475, 0.80695475, 0.80695475, 0.4840265 ]),\n",
       " array([0.53784988, 0.3401473 , 0.5286984 , 0.6316088 , 0.53784988,\n",
       "        0.53784988, 0.80695475, 0.80695475, 0.80695475, 0.4840265 ]),\n",
       " array([0.53784988, 0.3401473 , 0.71420263, 0.6316088 , 0.53784988,\n",
       "        0.53784988, 0.71420263, 0.71420263, 0.80695475, 0.4840265 ]),\n",
       " array([0.53784988, 0.3401473 , 0.57869301, 0.6316088 , 0.57869301,\n",
       "        0.53784988, 0.71420263, 0.71420263, 0.80695475, 0.57869301]),\n",
       " array([0.53784988, 0.4855634 , 0.4855634 , 0.6316088 , 0.57869301,\n",
       "        0.4855634 , 0.71420263, 0.71420263, 0.80695475, 0.57869301]),\n",
       " array([0.53403543, 0.4855634 , 0.4855634 , 0.6316088 , 0.53403543,\n",
       "        0.53403543, 0.71420263, 0.71420263, 0.80695475, 0.57869301]),\n",
       " array([0.53403543, 0.4855634 , 0.4855634 , 0.6316088 , 0.53403543,\n",
       "        0.53403543, 0.74512   , 0.74512   , 0.74512   , 0.57869301]),\n",
       " array([0.53403543, 0.4855634 , 0.53276394, 0.6316088 , 0.53276394,\n",
       "        0.53403543, 0.74512   , 0.74512   , 0.74512   , 0.53276394]),\n",
       " array([0.53403543, 0.4855634 , 0.53308182, 0.6316088 , 0.53308182,\n",
       "        0.53308182, 0.74512   , 0.74512   , 0.74512   , 0.53308182]),\n",
       " array([0.53339969, 0.4855634 , 0.53339969, 0.6316088 , 0.53339969,\n",
       "        0.53308182, 0.74512   , 0.74512   , 0.74512   , 0.53308182]),\n",
       " array([0.60397313, 0.4855634 , 0.60397313, 0.6316088 , 0.53339969,\n",
       "        0.53308182, 0.60397313, 0.74512   , 0.74512   , 0.53308182]),\n",
       " array([0.60397313, 0.4855634 , 0.55088411, 0.6316088 , 0.55088411,\n",
       "        0.55088411, 0.60397313, 0.74512   , 0.74512   , 0.55088411]),\n",
       " array([0.58627679, 0.4855634 , 0.58627679, 0.6316088 , 0.55088411,\n",
       "        0.55088411, 0.58627679, 0.74512   , 0.74512   , 0.55088411]),\n",
       " array([0.58627679, 0.4855634 , 0.63922453, 0.6316088 , 0.55088411,\n",
       "        0.55088411, 0.63922453, 0.63922453, 0.74512   , 0.55088411]),\n",
       " array([0.58627679, 0.4855634 , 0.60977772, 0.6316088 , 0.60977772,\n",
       "        0.55088411, 0.63922453, 0.60977772, 0.74512   , 0.55088411]),\n",
       " array([0.58627679, 0.4855634 , 0.59014652, 0.6316088 , 0.59014652,\n",
       "        0.55088411, 0.63922453, 0.60977772, 0.74512   , 0.59014652]),\n",
       " array([0.58627679, 0.4855634 , 0.59014652, 0.6316088 , 0.57705905,\n",
       "        0.57705905, 0.63922453, 0.60977772, 0.74512   , 0.57705905]),\n",
       " array([0.58449412, 0.4855634 , 0.58449412, 0.6316088 , 0.58449412,\n",
       "        0.57705905, 0.63922453, 0.60977772, 0.74512   , 0.57705905]),\n",
       " array([0.60273759, 0.4855634 , 0.60273759, 0.6316088 , 0.58449412,\n",
       "        0.57705905, 0.60273759, 0.60977772, 0.74512   , 0.57705905]),\n",
       " array([0.60273759, 0.4855634 , 0.60273759, 0.6316088 , 0.58449412,\n",
       "        0.57705905, 0.6525451 , 0.6525451 , 0.6525451 , 0.57705905]),\n",
       " array([0.60273759, 0.4855634 , 0.58533745, 0.6316088 , 0.58533745,\n",
       "        0.58533745, 0.6525451 , 0.6525451 , 0.6525451 , 0.58533745]),\n",
       " array([0.58968748, 0.4855634 , 0.58968748, 0.6316088 , 0.58968748,\n",
       "        0.58968748, 0.6525451 , 0.6525451 , 0.6525451 , 0.58533745]),\n",
       " array([0.58968748, 0.4855634 , 0.58968748, 0.6316088 , 0.58968748,\n",
       "        0.58968748, 0.6525451 , 0.6525451 , 0.6525451 , 0.58533745]),\n",
       " array([0.58968748, 0.4855634 , 0.58823747, 0.6316088 , 0.58823747,\n",
       "        0.58968748, 0.6525451 , 0.6525451 , 0.6525451 , 0.58823747]),\n",
       " array([0.58920415, 0.4855634 , 0.58920415, 0.6316088 , 0.58823747,\n",
       "        0.58920415, 0.6525451 , 0.6525451 , 0.6525451 , 0.58823747]),\n",
       " array([0.58896248, 0.4855634 , 0.58896248, 0.6316088 , 0.58896248,\n",
       "        0.58896248, 0.6525451 , 0.6525451 , 0.6525451 , 0.58823747]),\n",
       " array([0.58896248, 0.4855634 , 0.58896248, 0.6316088 , 0.58896248,\n",
       "        0.58896248, 0.6525451 , 0.6525451 , 0.6525451 , 0.58823747]),\n",
       " array([0.58896248, 0.4855634 , 0.6313509 , 0.6316088 , 0.58896248,\n",
       "        0.58896248, 0.6313509 , 0.6313509 , 0.6525451 , 0.58823747]),\n",
       " array([0.58896248, 0.4855634 , 0.6313509 , 0.6316088 , 0.58896248,\n",
       "        0.58896248, 0.63841563, 0.63841563, 0.63841563, 0.58823747]),\n",
       " array([0.58896248, 0.4855634 , 0.6313509 , 0.6316088 , 0.58872081,\n",
       "        0.58872081, 0.63841563, 0.63841563, 0.63841563, 0.58872081]),\n",
       " array([0.58896248, 0.4855634 , 0.60293084, 0.6316088 , 0.60293084,\n",
       "        0.58872081, 0.63841563, 0.63841563, 0.63841563, 0.60293084]),\n",
       " array([0.59353804, 0.4855634 , 0.59353804, 0.6316088 , 0.60293084,\n",
       "        0.59353804, 0.63841563, 0.63841563, 0.63841563, 0.60293084]),\n",
       " array([0.59666897, 0.4855634 , 0.59353804, 0.6316088 , 0.59666897,\n",
       "        0.59666897, 0.63841563, 0.63841563, 0.63841563, 0.60293084]),\n",
       " array([0.59666897, 0.4855634 , 0.59771262, 0.6316088 , 0.59666897,\n",
       "        0.59771262, 0.63841563, 0.63841563, 0.63841563, 0.59771262]),\n",
       " array([0.59736474, 0.4855634 , 0.59736474, 0.6316088 , 0.59666897,\n",
       "        0.59736474, 0.63841563, 0.63841563, 0.63841563, 0.59771262]),\n",
       " array([0.59736474, 0.4855634 , 0.59736474, 0.6316088 , 0.59666897,\n",
       "        0.59736474, 0.63841563, 0.63841563, 0.63841563, 0.59771262]),\n",
       " array([0.59736474, 0.4855634 , 0.59724878, 0.6316088 , 0.59724878,\n",
       "        0.59736474, 0.63841563, 0.63841563, 0.63841563, 0.59724878]),\n",
       " array([0.59736474, 0.4855634 , 0.59724878, 0.6316088 , 0.59724878,\n",
       "        0.59736474, 0.63841563, 0.63841563, 0.63841563, 0.59724878]),\n",
       " array([0.59736474, 0.4855634 , 0.59727777, 0.6316088 , 0.59727777,\n",
       "        0.59727777, 0.63841563, 0.63841563, 0.63841563, 0.59727777]),\n",
       " array([0.59736474, 0.4855634 , 0.59727777, 0.6316088 , 0.59727777,\n",
       "        0.59727777, 0.63841563, 0.63841563, 0.63841563, 0.59727777]),\n",
       " array([[0.59730676],\n",
       "        [0.4855634 ],\n",
       "        [0.59727777],\n",
       "        [0.6316088 ],\n",
       "        [0.59730676],\n",
       "        [0.59730676],\n",
       "        [0.63841563],\n",
       "        [0.63841563],\n",
       "        [0.63841563],\n",
       "        [0.59727777]])]"
      ]
     },
     "execution_count": 48,
     "metadata": {},
     "output_type": "execute_result"
    }
   ],
   "source": [
    "for i in range (n):\n",
    "    print(range(np.shape(pls)[0]), pls[i,:])"
   ]
  },
  {
   "cell_type": "code",
   "execution_count": 54,
   "metadata": {},
   "outputs": [
    {
     "ename": "ValueError",
     "evalue": "could not broadcast input array from shape (10,1) into shape (10)",
     "output_type": "error",
     "traceback": [
      "\u001b[1;31m---------------------------------------------------------------------------\u001b[0m",
      "\u001b[1;31mValueError\u001b[0m                                Traceback (most recent call last)",
      "\u001b[1;32m<ipython-input-54-cc29e53b7718>\u001b[0m in \u001b[0;36m<module>\u001b[1;34m\u001b[0m\n\u001b[1;32m----> 1\u001b[1;33m \u001b[0mtest_iter\u001b[0m\u001b[1;33m=\u001b[0m\u001b[0mnp\u001b[0m\u001b[1;33m.\u001b[0m\u001b[0masmatrix\u001b[0m\u001b[1;33m(\u001b[0m\u001b[0mtest_iter\u001b[0m\u001b[1;33m)\u001b[0m\u001b[1;33m\u001b[0m\u001b[1;33m\u001b[0m\u001b[0m\n\u001b[0m\u001b[0;32m      2\u001b[0m \u001b[0mtest_iter\u001b[0m\u001b[1;33m\u001b[0m\u001b[1;33m\u001b[0m\u001b[0m\n",
      "\u001b[1;32m~\\anaconda3\\lib\\site-packages\\numpy\\matrixlib\\defmatrix.py\u001b[0m in \u001b[0;36masmatrix\u001b[1;34m(data, dtype)\u001b[0m\n\u001b[0;32m     69\u001b[0m \u001b[1;33m\u001b[0m\u001b[0m\n\u001b[0;32m     70\u001b[0m     \"\"\"\n\u001b[1;32m---> 71\u001b[1;33m     \u001b[1;32mreturn\u001b[0m \u001b[0mmatrix\u001b[0m\u001b[1;33m(\u001b[0m\u001b[0mdata\u001b[0m\u001b[1;33m,\u001b[0m \u001b[0mdtype\u001b[0m\u001b[1;33m=\u001b[0m\u001b[0mdtype\u001b[0m\u001b[1;33m,\u001b[0m \u001b[0mcopy\u001b[0m\u001b[1;33m=\u001b[0m\u001b[1;32mFalse\u001b[0m\u001b[1;33m)\u001b[0m\u001b[1;33m\u001b[0m\u001b[1;33m\u001b[0m\u001b[0m\n\u001b[0m\u001b[0;32m     72\u001b[0m \u001b[1;33m\u001b[0m\u001b[0m\n\u001b[0;32m     73\u001b[0m \u001b[1;33m\u001b[0m\u001b[0m\n",
      "\u001b[1;32m~\\anaconda3\\lib\\site-packages\\numpy\\matrixlib\\defmatrix.py\u001b[0m in \u001b[0;36m__new__\u001b[1;34m(subtype, data, dtype, copy)\u001b[0m\n\u001b[0;32m    145\u001b[0m \u001b[1;33m\u001b[0m\u001b[0m\n\u001b[0;32m    146\u001b[0m         \u001b[1;31m# now convert data to an array\u001b[0m\u001b[1;33m\u001b[0m\u001b[1;33m\u001b[0m\u001b[1;33m\u001b[0m\u001b[0m\n\u001b[1;32m--> 147\u001b[1;33m         \u001b[0marr\u001b[0m \u001b[1;33m=\u001b[0m \u001b[0mN\u001b[0m\u001b[1;33m.\u001b[0m\u001b[0marray\u001b[0m\u001b[1;33m(\u001b[0m\u001b[0mdata\u001b[0m\u001b[1;33m,\u001b[0m \u001b[0mdtype\u001b[0m\u001b[1;33m=\u001b[0m\u001b[0mdtype\u001b[0m\u001b[1;33m,\u001b[0m \u001b[0mcopy\u001b[0m\u001b[1;33m=\u001b[0m\u001b[0mcopy\u001b[0m\u001b[1;33m)\u001b[0m\u001b[1;33m\u001b[0m\u001b[1;33m\u001b[0m\u001b[0m\n\u001b[0m\u001b[0;32m    148\u001b[0m         \u001b[0mndim\u001b[0m \u001b[1;33m=\u001b[0m \u001b[0marr\u001b[0m\u001b[1;33m.\u001b[0m\u001b[0mndim\u001b[0m\u001b[1;33m\u001b[0m\u001b[1;33m\u001b[0m\u001b[0m\n\u001b[0;32m    149\u001b[0m         \u001b[0mshape\u001b[0m \u001b[1;33m=\u001b[0m \u001b[0marr\u001b[0m\u001b[1;33m.\u001b[0m\u001b[0mshape\u001b[0m\u001b[1;33m\u001b[0m\u001b[1;33m\u001b[0m\u001b[0m\n",
      "\u001b[1;31mValueError\u001b[0m: could not broadcast input array from shape (10,1) into shape (10)"
     ]
    }
   ],
   "source": [
    "test_iter=np.asmatrix(test_iter)\n",
    "test_iter"
   ]
  },
  {
   "cell_type": "code",
   "execution_count": 81,
   "metadata": {},
   "outputs": [
    {
     "name": "stdout",
     "output_type": "stream",
     "text": [
      "range(0, 151) [0.14620530431757872, 0.5293423475225101, 0.5293423475225101, 0.5293423475225101, 0.5293423475225101, 0.5293423475225101, 0.5293423475225101, 0.46892666939161026, 0.46892666939161026, 0.46892666939161026, 0.46892666939161026, 0.46892666939161026, 0.6012578990974343, 0.6012578990974343, 0.5865619295923751, 0.5914605860940615, 0.5898277005934993, 0.5887391102597912, 0.5887391102597912, 0.5887391102597912, 0.5887391102597912, 0.5707062064859376, 0.5707062064859376, 0.5707062064859376, 0.5546363262621112, 0.5677561681277629, 0.563382887505879, 0.5604673670912897, 0.5604673670912897, 0.5604673670912897, 0.5587952387004432, 0.5587952387004432, 0.5587952387004432, 0.5587952387004432, 0.5587952387004432, 0.5756779779585994, 0.5756779779585994, 0.5743771270222257, 0.5735098930646432, 0.5735098930646432, 0.5735098930646432, 0.5735098930646432, 0.5735098930646432, 0.5714230479412493, 0.5710752404206837, 0.5710752404206837, 0.5710752404206837, 0.5710269338206051, 0.5944513368666426, 0.5944513368666426, 0.5892459139675232, 0.5892459139675232, 0.5892459139675232, 0.5880861453324854, 0.5880861453324854, 0.5880861453324854, 0.5880861453324854, 0.5861788691067017, 0.5861788691067017, 0.6036404811824112, 0.5978199438238414, 0.5978199438238414, 0.5979453178805291, 0.5979453178805291, 0.5979453178805291, 0.5979453178805291, 0.5997414920488819, 0.5947704275264718, 0.5947704275264718, 0.5952624754933611, 0.5952624754933611, 0.5968374890063496, 0.5968374890063496, 0.5953788451601028, 0.5953788451601028, 0.5953788451601028, 0.5953788451601028, 0.5965300168065565, 0.5965300168065565, 0.5979370043744443, 0.5979370043744443, 0.5979370043744443, 0.5979370043744443, 0.5979370043744443, 0.5979370043744443, 0.5979370043744443, 0.5979370043744443, 0.5970998756844066, 0.5970998756844066, 0.5970998756844066, 0.5970998756844066, 0.5970998756844066, 0.5970998756844066, 0.5970998756844066, 0.5970998756844066, 0.5970998756844066, 0.5983828262188987, 0.5982050839531233, 0.5982050839531233, 0.5981754602421607, array([0.59817546]), array([0.59817546]), array([0.59817546]), array([0.59817546]), array([0.59847086]), array([0.59847086]), array([0.59847086]), array([0.59760214]), array([0.59789172]), array([0.59789172]), array([0.59789172]), array([0.59789172]), array([0.59821331]), array([0.59821331]), array([0.59824904]), array([0.59824904]), array([0.59826492]), array([0.59826492]), array([0.59860816]), array([0.59860816]), array([0.59839345]), array([0.59844713]), array([0.59874739]), array([0.59874739]), array([0.59862941]), array([0.59866873]), array([0.59866873]), array([0.59857697]), array([0.59857697]), array([0.59855512]), array([0.59855512]), array([0.59855512]), array([0.59855512]), array([0.59855512]), array([0.59855512]), array([0.59855512]), array([0.59855512]), array([0.59865344]), array([0.59865344]), array([0.59868233]), array([0.59868233]), array([0.59868233]), array([0.59868233]), array([0.59868375]), array([0.59875573]), array([0.59875573]), array([0.59871579]), array([0.59871579]), array([0.59871579]), array([0.59873179]), array([0.59873179])]\n",
      "range(0, 151) [0.34014729795508236, 0.3401472979550824, 0.3401472979550824, 0.4091017227537749, 0.4091017227537749, 0.4091017227537749, 0.4091017227537749, 0.4091017227537749, 0.44495730863693844, 0.44495730863693844, 0.44495730863693844, 0.4489412626239566, 0.4489412626239566, 0.4489412626239566, 0.4489412626239566, 0.4489412626239566, 0.4489412626239566, 0.4489412626239566, 0.5425026911590823, 0.5425026911590823, 0.5425026911590823, 0.5425026911590823, 0.5425026911590823, 0.5425026911590823, 0.5425026911590823, 0.5425026911590823, 0.5425026911590823, 0.5425026911590823, 0.5554509819187503, 0.5554509819187503, 0.5554509819187503, 0.5554509819187503, 0.5554509819187503, 0.5554509819187503, 0.5554509819187503, 0.5554509819187503, 0.5554509819187503, 0.5554509819187503, 0.5554509819187503, 0.5554509819187503, 0.5671048187015312, 0.5671048187015312, 0.5671048187015312, 0.5671048187015312, 0.5671048187015312, 0.5671048187015312, 0.5671048187015312, 0.5671048187015312, 0.5671048187015312, 0.5671048187015312, 0.5671048187015312, 0.5671048187015312, 0.5847574504894811, 0.5847574504894811, 0.5847574504894811, 0.5847574504894811, 0.5847574504894811, 0.5847574504894811, 0.5847574504894811, 0.5847574504894811, 0.5847574504894811, 0.5847574504894811, 0.5847574504894811, 0.5847574504894811, 0.5918181397251359, 0.5918181397251359, 0.5918181397251359, 0.5918181397251359, 0.5918181397251359, 0.5918181397251359, 0.5918181397251359, 0.5918181397251359, 0.5946667040731094, 0.5946667040731094, 0.5946667040731094, 0.5946667040731094, 0.5946667040731094, 0.5946667040731094, 0.5946667040731094, 0.5946667040731094, 0.5946667040731094, 0.5946667040731094, 0.5946667040731094, 0.5946667040731094, 0.5946667040731094, 0.5946667040731094, 0.5946667040731094, 0.5946667040731094, 0.5946667040731094, 0.5946667040731094, 0.5946667040731094, 0.5946667040731094, 0.5946667040731094, 0.5946667040731094, 0.5946667040731094, 0.5946667040731094, 0.5946667040731094, 0.5946667040731094, 0.5946667040731094, 0.5946667040731094, array([0.5946667]), array([0.5946667]), array([0.5946667]), array([0.5946667]), array([0.5946667]), array([0.5946667]), array([0.59716779]), array([0.59716779]), array([0.59716779]), array([0.59716779]), array([0.59716779]), array([0.59716779]), array([0.59716779]), array([0.59716779]), array([0.59716779]), array([0.59716779]), array([0.59716779]), array([0.59716779]), array([0.59716779]), array([0.59716779]), array([0.59716779]), array([0.59716779]), array([0.59716779]), array([0.59716779]), array([0.59716779]), array([0.59716779]), array([0.59716779]), array([0.59716779]), array([0.59716779]), array([0.59716779]), array([0.59716779]), array([0.59716779]), array([0.59716779]), array([0.59716779]), array([0.59716779]), array([0.59716779]), array([0.59716779]), array([0.59716779]), array([0.59716779]), array([0.59716779]), array([0.59716779]), array([0.59716779]), array([0.59716779]), array([0.59716779]), array([0.59716779]), array([0.59716779]), array([0.59716779]), array([0.59716779]), array([0.59716779]), array([0.59716779]), array([0.59821312])]\n",
      "range(0, 151) [0.3330770647729778, 0.3330770647729778, 0.4435789351531211, 0.4091017227537749, 0.4205941268868903, 0.4568435337654303, 0.4568435337654303, 0.4568435337654303, 0.44495730863693844, 0.44495730863693844, 0.44495730863693844, 0.4489412626239566, 0.6012578990974344, 0.6480242783240545, 0.5865619295923751, 0.5914605860940615, 0.5898277005934993, 0.5898277005934993, 0.5425026911590823, 0.5425026911590823, 0.5939958518590661, 0.5707062064859376, 0.5707062064859376, 0.5523406290872789, 0.5546363262621112, 0.5677561681277629, 0.563382887505879, 0.563382887505879, 0.5554509819187503, 0.5554509819187503, 0.5587952387004432, 0.5587952387004432, 0.5587952387004432, 0.6413001429587177, 0.5841193475876776, 0.5841193475876776, 0.5717754251494782, 0.5717754251494782, 0.5735098930646432, 0.5729317370929216, 0.5671048187015312, 0.5671048187015312, 0.5703796253795523, 0.5703796253795523, 0.5710752404206837, 0.5711911762608722, 0.5709206593004322, 0.5710269338206051, 0.5944513368666426, 0.6022594712153219, 0.5892459139675232, 0.5935837663834561, 0.5847574504894811, 0.5880861453324854, 0.5880861453324854, 0.5880861453324854, 0.5823643166551343, 0.5823643166551343, 0.598321440050592, 0.6036404811824112, 0.5978199438238414, 0.5978199438238414, 0.5979453178805291, 0.5927516508053975, 0.5918181397251359, 0.5918181397251359, 0.5997414920488819, 0.5997414920488819, 0.5955084994768057, 0.5955084994768057, 0.5955084994768057, 0.5968374890063496, 0.5946667040731094, 0.5953788451601028, 0.5953788451601028, 0.6005591175691445, 0.5971056026297833, 0.5965300168065565, 0.596721878747632, 0.5979370043744443, 0.5979370043744443, 0.596667788869973, 0.5966858188291927, 0.5966813113393877, 0.5966813113393877, 0.5966813113393877, 0.5966813113393877, 0.5970998756844066, 0.596960354236067, 0.596960354236067, 0.5968983447034716, 0.6007343683421726, 0.6007343683421726, 0.6007343683421726, 0.5978495994215725, 0.6001990035507171, 0.5983828262188987, 0.5982050839531233, 0.5981606483866795, 0.5981754602421607, array([0.59817546]), array([0.59952449]), array([0.59861855]), array([0.59861855]), array([0.59847086]), array([0.59841833]), array([0.59716779]), array([0.59760214]), array([0.59760214]), array([0.59760214]), array([0.59929464]), array([0.5983741]), array([0.59821331]), array([0.5983205]), array([0.5983205]), array([0.59827286]), array([0.59826492]), array([0.59826492]), array([0.59860816]), array([0.59860816]), array([0.59860816]), array([0.59844713]), array([0.59874739]), array([0.59874739]), array([0.59862941]), array([0.59866873]), array([0.59866873]), array([0.59857697]), array([0.5985442]), array([0.5985442]), array([0.59881574]), array([0.5986827]), array([0.59872705]), array([0.59869748]), array([0.59869748]), array([0.59869776]), array([0.59870743]), array([0.59865344]), array([0.59868612]), array([0.59868612]), array([0.59868612]), array([0.59868422]), array([0.59868422]), array([0.59868375]), array([0.59875573]), array([0.5987079]), array([0.5987079]), array([0.59878778]), array([0.59873979]), array([0.59873979]), array([0.59821312])]\n",
      "range(0, 151) [0.631608799470432, 0.631608799470432, 0.631608799470432, 0.631608799470432, 0.631608799470432, 0.631608799470432, 0.631608799470432, 0.631608799470432, 0.631608799470432, 0.631608799470432, 0.631608799470432, 0.631608799470432, 0.631608799470432, 0.631608799470432, 0.631608799470432, 0.631608799470432, 0.631608799470432, 0.631608799470432, 0.631608799470432, 0.631608799470432, 0.631608799470432, 0.631608799470432, 0.631608799470432, 0.631608799470432, 0.631608799470432, 0.631608799470432, 0.631608799470432, 0.631608799470432, 0.631608799470432, 0.631608799470432, 0.631608799470432, 0.631608799470432, 0.631608799470432, 0.631608799470432, 0.631608799470432, 0.631608799470432, 0.631608799470432, 0.631608799470432, 0.631608799470432, 0.631608799470432, 0.631608799470432, 0.631608799470432, 0.631608799470432, 0.631608799470432, 0.631608799470432, 0.631608799470432, 0.631608799470432, 0.631608799470432, 0.631608799470432, 0.631608799470432, 0.631608799470432, 0.631608799470432, 0.631608799470432, 0.631608799470432, 0.631608799470432, 0.631608799470432, 0.631608799470432, 0.631608799470432, 0.631608799470432, 0.631608799470432, 0.631608799470432, 0.631608799470432, 0.631608799470432, 0.631608799470432, 0.631608799470432, 0.631608799470432, 0.631608799470432, 0.631608799470432, 0.631608799470432, 0.631608799470432, 0.631608799470432, 0.631608799470432, 0.631608799470432, 0.631608799470432, 0.631608799470432, 0.631608799470432, 0.631608799470432, 0.631608799470432, 0.631608799470432, 0.631608799470432, 0.631608799470432, 0.631608799470432, 0.631608799470432, 0.631608799470432, 0.631608799470432, 0.631608799470432, 0.631608799470432, 0.631608799470432, 0.631608799470432, 0.631608799470432, 0.631608799470432, 0.631608799470432, 0.631608799470432, 0.631608799470432, 0.631608799470432, 0.631608799470432, 0.631608799470432, 0.631608799470432, 0.631608799470432, 0.631608799470432, array([0.6316088]), array([0.6316088]), array([0.6316088]), array([0.6316088]), array([0.6316088]), array([0.6316088]), array([0.6316088]), array([0.6316088]), array([0.6316088]), array([0.6316088]), array([0.6316088]), array([0.6316088]), array([0.6316088]), array([0.6316088]), array([0.6316088]), array([0.6316088]), array([0.6316088]), array([0.6316088]), array([0.6316088]), array([0.6316088]), array([0.6316088]), array([0.6316088]), array([0.6316088]), array([0.6316088]), array([0.6316088]), array([0.6316088]), array([0.6316088]), array([0.6316088]), array([0.6316088]), array([0.6316088]), array([0.6316088]), array([0.6316088]), array([0.6316088]), array([0.6316088]), array([0.6316088]), array([0.6316088]), array([0.6316088]), array([0.6316088]), array([0.6316088]), array([0.6316088]), array([0.6316088]), array([0.6316088]), array([0.6316088]), array([0.6316088]), array([0.6316088]), array([0.6316088]), array([0.6316088]), array([0.6316088]), array([0.6316088]), array([0.6316088]), array([0.6316088])]\n",
      "range(0, 151) [0.5611344393361974, 0.5293423475225103, 0.5293423475225103, 0.5293423475225103, 0.5293423475225103, 0.4568435337654303, 0.4568435337654303, 0.4689266693916102, 0.4689266693916102, 0.456909170597993, 0.456909170597993, 0.456909170597993, 0.456909170597993, 0.6480242783240546, 0.586561929592375, 0.586561929592375, 0.586561929592375, 0.5887391102597912, 0.5887391102597912, 0.5293836573389555, 0.5293836573389555, 0.5293836573389555, 0.5431578403879496, 0.5431578403879496, 0.5546363262621112, 0.5546363262621112, 0.5546363262621112, 0.5604673670912897, 0.5604673670912897, 0.5604673670912897, 0.5587952387004432, 0.5555289499021575, 0.5555289499021575, 0.5555289499021575, 0.5841193475876776, 0.5756779779585994, 0.5756779779585994, 0.5743771270222257, 0.5743771270222257, 0.5743771270222257, 0.5743771270222257, 0.5743771270222257, 0.5703796253795524, 0.5714230479412493, 0.5710752404206837, 0.5711911762608722, 0.5709206593004322, 0.5710269338206051, 0.5710269338206051, 0.6022594712153219, 0.6022594712153219, 0.5935837663834561, 0.5935837663834561, 0.5880861453324854, 0.5880861453324854, 0.5880861453324854, 0.5880861453324854, 0.5861788691067017, 0.598321440050592, 0.598321440050592, 0.598321440050592, 0.598321440050592, 0.5979453178805291, 0.5927516508053975, 0.5927516508053975, 0.5927516508053975, 0.5927516508053975, 0.5947704275264718, 0.5955084994768057, 0.5952624754933611, 0.5953444834878426, 0.5953444834878426, 0.5953444834878426, 0.5953788451601028, 0.5953788451601028, 0.5953788451601028, 0.5971056026297833, 0.5971056026297833, 0.596721878747632, 0.596721878747632, 0.596721878747632, 0.596721878747632, 0.5966858188291927, 0.5966813113393877, 0.5966813113393877, 0.5966813113393877, 0.5966813113393877, 0.5966813113393877, 0.596960354236067, 0.5968673399371739, 0.5968983447034716, 0.5968983447034716, 0.5968880097813724, 0.5968880097813724, 0.5978495994215725, 0.5978495994215725, 0.5983828262188987, 0.5983828262188987, 0.5981606483866795, 0.5981606483866795, array([0.59816559]), array([0.59816559]), array([0.59861855]), array([0.59861855]), array([0.59847086]), array([0.59847086]), array([0.59847086]), array([0.59847086]), array([0.59789172]), array([0.59789172]), array([0.59789172]), array([0.5983741]), array([0.5983741]), array([0.5983205]), array([0.59824904]), array([0.59827286]), array([0.59826492]), array([0.59828609]), array([0.59828609]), array([0.59828609]), array([0.59839345]), array([0.59844713]), array([0.59844713]), array([0.59839345]), array([0.59862941]), array([0.59862941]), array([0.59862941]), array([0.59862941]), array([0.5985442]), array([0.59855512]), array([0.59881574]), array([0.5986827]), array([0.59872705]), array([0.59872705]), array([0.59872705]), array([0.59872705]), array([0.59870743]), array([0.59870743]), array([0.59870743]), array([0.59868233]), array([0.59868233]), array([0.59868422]), array([0.59868422]), array([0.59868375]), array([0.59868375]), array([0.5987079]), array([0.59871579]), array([0.59871579]), array([0.59873979]), array([0.59873179]), array([0.59873179])]\n",
      "range(0, 151) [0.8806872989137546, 0.5293423475225103, 0.4435789351531211, 0.4091017227537749, 0.4205941268868903, 0.4205941268868903, 0.4205941268868903, 0.4689266693916102, 0.4449573086369385, 0.456909170597993, 0.456909170597993, 0.4489412626239566, 0.4489412626239566, 0.4489412626239566, 0.586561929592375, 0.586561929592375, 0.5898277005934993, 0.5887391102597912, 0.5425026911590825, 0.5293836573389555, 0.5293836573389555, 0.5707062064859376, 0.5431578403879496, 0.5523406290872789, 0.5546363262621112, 0.5546363262621112, 0.563382887505879, 0.5604673670912897, 0.5554509819187503, 0.5554509819187503, 0.5554509819187503, 0.5555289499021575, 0.5555289499021575, 0.5555289499021575, 0.5841193475876776, 0.5756779779585994, 0.5717754251494782, 0.5743771270222257, 0.5735098930646432, 0.5729317370929216, 0.5671048187015312, 0.5671048187015312, 0.5703796253795524, 0.5714230479412493, 0.5714230479412493, 0.5711911762608722, 0.5711911762608722, 0.5710269338206051, 0.5710269338206051, 0.5710269338206051, 0.5892459139675232, 0.5935837663834561, 0.5847574504894811, 0.5880861453324854, 0.5880861453324854, 0.5880861453324854, 0.5823643166551343, 0.5861788691067017, 0.5861788691067017, 0.5861788691067017, 0.5978199438238414, 0.5978199438238414, 0.5979453178805291, 0.5979453178805291, 0.5918181397251359, 0.5918181397251359, 0.5918181397251359, 0.5947704275264718, 0.5955084994768057, 0.5952624754933611, 0.5953444834878426, 0.5953444834878426, 0.5946667040731094, 0.5953788451601028, 0.5953788451601028, 0.5953788451601028, 0.5971056026297833, 0.5965300168065565, 0.596721878747632, 0.596721878747632, 0.596721878747632, 0.596667788869973, 0.596667788869973, 0.5966813113393877, 0.5966813113393877, 0.5966813113393877, 0.5966813113393877, 0.5970998756844066, 0.596960354236067, 0.5968673399371739, 0.5968673399371739, 0.5968673399371739, 0.5968880097813724, 0.5968880097813724, 0.5978495994215725, 0.5978495994215725, 0.5978495994215725, 0.5982050839531233, 0.5981606483866795, 0.5981754602421607, array([0.59816559]), array([0.59816559]), array([0.59861855]), array([0.59861855]), array([0.59861855]), array([0.59841833]), array([0.59716779]), array([0.59760214]), array([0.59789172]), array([0.59789172]), array([0.59789172]), array([0.5983741]), array([0.59821331]), array([0.59821331]), array([0.59824904]), array([0.59827286]), array([0.59827286]), array([0.59828609]), array([0.59828609]), array([0.59828609]), array([0.59839345]), array([0.59844713]), array([0.59844713]), array([0.59839345]), array([0.59839345]), array([0.59839345]), array([0.59839345]), array([0.59857697]), array([0.5985442]), array([0.59855512]), array([0.59855512]), array([0.5986827]), array([0.5986827]), array([0.59869748]), array([0.59869748]), array([0.59869748]), array([0.59870743]), array([0.59870743]), array([0.59868612]), array([0.59868233]), array([0.59868233]), array([0.59868422]), array([0.59868422]), array([0.59868375]), array([0.59868375]), array([0.59868375]), array([0.59871579]), array([0.59871579]), array([0.59873979]), array([0.59873179]), array([0.59821312])]\n",
      "range(0, 151) [0.9825547966495632, 0.9825547966495632, 0.9825547966495632, 0.9825547966495632, 0.9825547966495632, 0.9825547966495632, 0.8859057652767364, 0.8859057652767364, 0.8859057652767364, 0.8859057652767364, 0.8859057652767364, 0.8859057652767364, 0.6012578990974344, 0.6012578990974344, 0.6012578990974344, 0.5914605860940615, 0.5914605860940615, 0.5914605860940615, 0.5914605860940615, 0.5914605860940615, 0.5939958518590661, 0.5939958518590661, 0.5939958518590661, 0.5939958518590661, 0.5939958518590661, 0.5677561681277629, 0.5677561681277629, 0.5677561681277629, 0.5677561681277629, 0.5677561681277629, 0.5677561681277629, 0.5677561681277629, 0.682552595087855, 0.6413001429587177, 0.6413001429587177, 0.6413001429587177, 0.6413001429587177, 0.6413001429587177, 0.6413001429587177, 0.6413001429587177, 0.6413001429587177, 0.6413001429587177, 0.6413001429587177, 0.6413001429587177, 0.6413001429587177, 0.6413001429587177, 0.6413001429587177, 0.6413001429587177, 0.5944513368666426, 0.5944513368666426, 0.5944513368666426, 0.5944513368666426, 0.5944513368666426, 0.5944513368666426, 0.5944513368666426, 0.6264211343899398, 0.6264211343899398, 0.6264211343899398, 0.6264211343899398, 0.6036404811824112, 0.6036404811824112, 0.6036404811824112, 0.6036404811824112, 0.6036404811824112, 0.6036404811824112, 0.609461018540981, 0.5997414920488819, 0.5997414920488819, 0.5997414920488819, 0.5997414920488819, 0.5997414920488819, 0.5968374890063496, 0.5968374890063496, 0.5968374890063496, 0.5968374890063496, 0.6005591175691445, 0.6005591175691445, 0.6005591175691445, 0.6005591175691445, 0.5979370043744443, 0.6026523801615232, 0.6026523801615232, 0.6026523801615232, 0.6026523801615232, 0.6026523801615232, 0.6026523801615232, 0.6026523801615232, 0.6026523801615232, 0.6026523801615232, 0.6026523801615232, 0.6026523801615232, 0.6007343683421726, 0.6007343683421726, 0.6013737056152895, 0.6013737056152895, 0.6001990035507171, 0.6001990035507171, 0.6001990035507171, 0.6001990035507171, 0.6001990035507171, array([0.600199]), array([0.59952449]), array([0.59952449]), array([0.59952449]), array([0.59952449]), array([0.59952449]), array([0.59952449]), array([0.59952449]), array([0.59952449]), array([0.60014089]), array([0.59929464]), array([0.59929464]), array([0.59929464]), array([0.59929464]), array([0.59929464]), array([0.59929464]), array([0.59929464]), array([0.59929464]), array([0.59860816]), array([0.5993479]), array([0.5993479]), array([0.5993479]), array([0.59874739]), array([0.59874739]), array([0.59874739]), array([0.59866873]), array([0.59866873]), array([0.59866873]), array([0.59866873]), array([0.59866873]), array([0.59866873]), array([0.59866873]), array([0.59866873]), array([0.59866873]), array([0.59866873]), array([0.59869776]), array([0.59869776]), array([0.59865344]), array([0.59865344]), array([0.59865344]), array([0.5988997]), array([0.5988997]), array([0.5988997]), array([0.5988997]), array([0.59875573]), array([0.59875573]), array([0.59875573]), array([0.59878778]), array([0.59878778]), array([0.59878778]), array([0.59878778])]\n",
      "range(0, 151) [0.675583367645132, 0.675583367645132, 0.675583367645132, 0.675583367645132, 0.675583367645132, 0.675583367645132, 0.8859057652767363, 0.8859057652767363, 0.8859057652767363, 0.8859057652767363, 0.8859057652767363, 0.8859057652767363, 0.8859057652767363, 0.6480242783240546, 0.6480242783240546, 0.6480242783240546, 0.6480242783240546, 0.6480242783240546, 0.6480242783240546, 0.6480242783240546, 0.5939958518590661, 0.5939958518590661, 0.5939958518590661, 0.5939958518590661, 0.5939958518590661, 0.5939958518590661, 0.5939958518590661, 0.5939958518590661, 0.5939958518590661, 0.5939958518590661, 0.5939958518590661, 0.5939958518590661, 0.682552595087855, 0.6413001429587177, 0.6413001429587177, 0.6413001429587177, 0.6413001429587177, 0.6413001429587177, 0.6413001429587177, 0.6413001429587177, 0.6413001429587177, 0.6413001429587177, 0.6413001429587177, 0.6413001429587177, 0.6413001429587177, 0.6413001429587177, 0.6413001429587177, 0.6413001429587177, 0.6413001429587177, 0.6022594712153219, 0.6022594712153219, 0.6022594712153219, 0.6022594712153219, 0.6022594712153219, 0.6022594712153219, 0.6264211343899398, 0.6264211343899398, 0.6264211343899398, 0.598321440050592, 0.598321440050592, 0.598321440050592, 0.598321440050592, 0.598321440050592, 0.598321440050592, 0.598321440050592, 0.609461018540981, 0.609461018540981, 0.609461018540981, 0.609461018540981, 0.609461018540981, 0.609461018540981, 0.609461018540981, 0.609461018540981, 0.609461018540981, 0.609461018540981, 0.6005591175691445, 0.6005591175691445, 0.6005591175691445, 0.6005591175691445, 0.6005591175691445, 0.6026523801615232, 0.6026523801615232, 0.6026523801615232, 0.6026523801615232, 0.6026523801615232, 0.6026523801615232, 0.6026523801615232, 0.6026523801615232, 0.6026523801615232, 0.6026523801615232, 0.6026523801615232, 0.6007343683421726, 0.6007343683421726, 0.6013737056152895, 0.6013737056152895, 0.6001990035507171, 0.6001990035507171, 0.6001990035507171, 0.6001990035507171, 0.6001990035507171, array([0.600199]), array([0.59952449]), array([0.59952449]), array([0.59952449]), array([0.59952449]), array([0.59952449]), array([0.59952449]), array([0.59952449]), array([0.59952449]), array([0.60014089]), array([0.59929464]), array([0.59929464]), array([0.59929464]), array([0.59929464]), array([0.59929464]), array([0.59929464]), array([0.59929464]), array([0.59929464]), array([0.59929464]), array([0.5993479]), array([0.5993479]), array([0.5993479]), array([0.5993479]), array([0.5993479]), array([0.5993479]), array([0.5993479]), array([0.5993479]), array([0.5993479]), array([0.5993479]), array([0.5993479]), array([0.59881574]), array([0.59881574]), array([0.59872705]), array([0.59872705]), array([0.59872705]), array([0.59869776]), array([0.59869776]), array([0.59869776]), array([0.59869776]), array([0.59869776]), array([0.5988997]), array([0.5988997]), array([0.5988997]), array([0.5988997]), array([0.5988997]), array([0.5988997]), array([0.5988997]), array([0.59878778]), array([0.59878778]), array([0.59878778]), array([0.59878778])]\n",
      "range(0, 151) [0.9995791315355135, 0.9995791315355135, 0.9995791315355135, 0.9995791315355135, 0.9995791315355135, 0.9995791315355135, 0.8859057652767363, 0.8859057652767363, 0.8859057652767363, 0.8859057652767363, 0.8859057652767363, 0.8859057652767363, 0.8859057652767363, 0.8859057652767363, 0.8859057652767363, 0.8859057652767363, 0.8859057652767363, 0.8859057652767363, 0.8859057652767363, 0.8859057652767363, 0.8859057652767363, 0.8859057652767363, 0.8859057652767363, 0.8859057652767363, 0.8859057652767363, 0.8859057652767363, 0.8859057652767363, 0.8859057652767363, 0.8859057652767363, 0.8859057652767363, 0.8859057652767363, 0.8859057652767363, 0.682552595087855, 0.682552595087855, 0.682552595087855, 0.682552595087855, 0.682552595087855, 0.682552595087855, 0.682552595087855, 0.682552595087855, 0.682552595087855, 0.682552595087855, 0.682552595087855, 0.682552595087855, 0.682552595087855, 0.682552595087855, 0.682552595087855, 0.682552595087855, 0.682552595087855, 0.682552595087855, 0.682552595087855, 0.682552595087855, 0.682552595087855, 0.682552595087855, 0.682552595087855, 0.6264211343899398, 0.6264211343899398, 0.6264211343899398, 0.6264211343899398, 0.6264211343899398, 0.6264211343899398, 0.6264211343899398, 0.6264211343899398, 0.6264211343899398, 0.6264211343899398, 0.609461018540981, 0.609461018540981, 0.609461018540981, 0.609461018540981, 0.609461018540981, 0.609461018540981, 0.609461018540981, 0.609461018540981, 0.609461018540981, 0.609461018540981, 0.609461018540981, 0.609461018540981, 0.609461018540981, 0.609461018540981, 0.609461018540981, 0.6026523801615232, 0.6026523801615232, 0.6026523801615232, 0.6026523801615232, 0.6026523801615232, 0.6026523801615232, 0.6026523801615232, 0.6026523801615232, 0.6026523801615232, 0.6026523801615232, 0.6026523801615232, 0.6026523801615232, 0.6026523801615232, 0.6013737056152895, 0.6013737056152895, 0.6013737056152895, 0.6013737056152895, 0.6013737056152895, 0.6013737056152895, 0.6013737056152895, array([0.60137371]), array([0.60137371]), array([0.60137371]), array([0.60137371]), array([0.60137371]), array([0.60137371]), array([0.60137371]), array([0.60137371]), array([0.60137371]), array([0.60014089]), array([0.60014089]), array([0.60014089]), array([0.60014089]), array([0.60014089]), array([0.60014089]), array([0.60014089]), array([0.60014089]), array([0.60014089]), array([0.60014089]), array([0.5993479]), array([0.5993479]), array([0.5993479]), array([0.5993479]), array([0.5993479]), array([0.5993479]), array([0.5993479]), array([0.5993479]), array([0.5993479]), array([0.5993479]), array([0.5993479]), array([0.5993479]), array([0.5993479]), array([0.5993479]), array([0.5993479]), array([0.5993479]), array([0.5993479]), array([0.5993479]), array([0.5993479]), array([0.5993479]), array([0.5993479]), array([0.5988997]), array([0.5988997]), array([0.5988997]), array([0.5988997]), array([0.5988997]), array([0.5988997]), array([0.5988997]), array([0.5988997]), array([0.5988997]), array([0.5988997]), array([0.5988997])]\n",
      "range(0, 151) [0.4683173931638751, 0.4683173931638751, 0.4435789351531211, 0.4435789351531211, 0.4205941268868903, 0.4568435337654303, 0.4568435337654303, 0.4568435337654303, 0.4568435337654303, 0.456909170597993, 0.456909170597993, 0.456909170597993, 0.456909170597993, 0.456909170597993, 0.456909170597993, 0.456909170597993, 0.456909170597993, 0.456909170597993, 0.456909170597993, 0.5293836573389555, 0.5293836573389555, 0.5293836573389555, 0.5431578403879496, 0.5523406290872789, 0.5523406290872789, 0.5523406290872789, 0.5523406290872789, 0.5523406290872789, 0.5523406290872789, 0.5523406290872789, 0.5523406290872789, 0.5555289499021575, 0.5555289499021575, 0.5555289499021575, 0.5555289499021575, 0.5555289499021575, 0.5717754251494782, 0.5717754251494782, 0.5717754251494782, 0.5729317370929216, 0.5729317370929216, 0.5729317370929216, 0.5703796253795523, 0.5703796253795523, 0.5703796253795523, 0.5703796253795523, 0.5709206593004322, 0.5709206593004322, 0.5709206593004322, 0.5709206593004322, 0.5709206593004322, 0.5709206593004322, 0.5709206593004322, 0.5709206593004322, 0.5709206593004322, 0.5709206593004322, 0.5823643166551343, 0.5823643166551343, 0.5823643166551343, 0.5823643166551343, 0.5823643166551343, 0.5823643166551343, 0.5823643166551343, 0.5927516508053975, 0.5927516508053975, 0.5927516508053975, 0.5927516508053975, 0.5927516508053975, 0.5955084994768057, 0.5955084994768057, 0.5953444834878426, 0.5953444834878426, 0.5953444834878426, 0.5953444834878426, 0.5953444834878426, 0.5953444834878426, 0.5953444834878426, 0.5953444834878426, 0.5953444834878426, 0.5953444834878426, 0.5953444834878426, 0.596667788869973, 0.5966858188291927, 0.5966813113393877, 0.5966813113393877, 0.5966813113393877, 0.5966813113393877, 0.5966813113393877, 0.5966813113393877, 0.5968673399371739, 0.5968983447034716, 0.5968983447034716, 0.5968880097813724, 0.5968880097813724, 0.5978495994215725, 0.5978495994215725, 0.5978495994215725, 0.5978495994215725, 0.5981606483866795, 0.5981606483866795, array([0.59816559]), array([0.59816559]), array([0.59816559]), array([0.59816559]), array([0.59816559]), array([0.59841833]), array([0.59841833]), array([0.59841833]), array([0.59841833]), array([0.59841833]), array([0.59841833]), array([0.5983741]), array([0.5983741]), array([0.5983205]), array([0.5983205]), array([0.5983205]), array([0.5983205]), array([0.59828609]), array([0.59828609]), array([0.59828609]), array([0.59828609]), array([0.59828609]), array([0.59828609]), array([0.59839345]), array([0.59839345]), array([0.59839345]), array([0.59839345]), array([0.59839345]), array([0.5985442]), array([0.5985442]), array([0.5985442]), array([0.5986827]), array([0.5986827]), array([0.59869748]), array([0.59869748]), array([0.59869748]), array([0.59869748]), array([0.59869748]), array([0.59868612]), array([0.59868612]), array([0.59868612]), array([0.59868422]), array([0.59868422]), array([0.59868422]), array([0.59868422]), array([0.5987079]), array([0.5987079]), array([0.5987079]), array([0.5987079]), array([0.5987079]), array([0.5987079])]\n"
     ]
    }
   ],
   "source": [
    "for i in range (10):\n",
    "    print(range(151), [test_iter[f][i] for f in range(151)])"
   ]
  },
  {
   "cell_type": "code",
   "execution_count": 40,
   "metadata": {},
   "outputs": [],
   "source": [
    "hell = np.concatenate(test_iter[0])\n",
    "hell2 = np.concatenate(test_iter[1])"
   ]
  },
  {
   "cell_type": "code",
   "execution_count": 41,
   "metadata": {},
   "outputs": [
    {
     "data": {
      "text/plain": [
       "(array([0.1462053 , 0.3401473 , 0.33307706, 0.6316088 , 0.56113444,\n",
       "        0.8806873 , 0.9825548 , 0.67558337, 0.99957913, 0.46831739]),\n",
       " array([0.1462053 , 0.3401473 , 0.33307706, 0.6316088 , 0.63671304,\n",
       "        0.63671304, 0.9825548 , 0.67558337, 0.99957913, 0.63671304]))"
      ]
     },
     "execution_count": 41,
     "metadata": {},
     "output_type": "execute_result"
    }
   ],
   "source": [
    "hell, hell2"
   ]
  },
  {
   "cell_type": "code",
   "execution_count": 36,
   "metadata": {},
   "outputs": [
    {
     "data": {
      "text/plain": [
       "array([[0.1462053 ],\n",
       "       [0.3401473 ],\n",
       "       [0.33307706],\n",
       "       [0.6316088 ],\n",
       "       [0.56113444],\n",
       "       [0.8806873 ],\n",
       "       [0.9825548 ],\n",
       "       [0.67558337],\n",
       "       [0.99957913],\n",
       "       [0.46831739]])"
      ]
     },
     "execution_count": 36,
     "metadata": {},
     "output_type": "execute_result"
    }
   ],
   "source": [
    "test_iter[0]"
   ]
  },
  {
   "cell_type": "code",
   "execution_count": null,
   "metadata": {},
   "outputs": [],
   "source": [
    "uwu = np.stack((hell, hell2))\n",
    "uwu"
   ]
  },
  {
   "cell_type": "code",
   "execution_count": 87,
   "metadata": {},
   "outputs": [
    {
     "data": {
      "text/plain": [
       "[[0],\n",
       " [1],\n",
       " [2],\n",
       " [3],\n",
       " [4],\n",
       " [5],\n",
       " [6],\n",
       " [7],\n",
       " [8],\n",
       " [9],\n",
       " [0, 2],\n",
       " [0, 4],\n",
       " [0, 5],\n",
       " [0, 6],\n",
       " [1, 2],\n",
       " [1, 5],\n",
       " [2, 4],\n",
       " [2, 5],\n",
       " [2, 6],\n",
       " [2, 7],\n",
       " [2, 9],\n",
       " [3, 8],\n",
       " [4, 5],\n",
       " [4, 7],\n",
       " [4, 9],\n",
       " [5, 8],\n",
       " [5, 9],\n",
       " [6, 7],\n",
       " [6, 8],\n",
       " [7, 8],\n",
       " [0, 2, 4],\n",
       " [0, 2, 5],\n",
       " [0, 2, 6],\n",
       " [0, 4, 5],\n",
       " [1, 2, 5],\n",
       " [2, 4, 5],\n",
       " [2, 4, 7],\n",
       " [2, 4, 9],\n",
       " [2, 5, 9],\n",
       " [2, 6, 7],\n",
       " [4, 5, 9],\n",
       " [6, 7, 8],\n",
       " [0, 2, 4, 5],\n",
       " [2, 4, 5, 9]]"
      ]
     },
     "execution_count": 87,
     "metadata": {},
     "output_type": "execute_result"
    }
   ],
   "source": [
    "list(enumerate_all_cliques(G))"
   ]
  },
  {
   "cell_type": "code",
   "execution_count": null,
   "metadata": {},
   "outputs": [],
   "source": []
  }
 ],
 "metadata": {
  "kernelspec": {
   "display_name": "Python 3",
   "language": "python",
   "name": "python3"
  },
  "language_info": {
   "codemirror_mode": {
    "name": "ipython",
    "version": 3
   },
   "file_extension": ".py",
   "mimetype": "text/x-python",
   "name": "python",
   "nbconvert_exporter": "python",
   "pygments_lexer": "ipython3",
   "version": "3.8.3"
  }
 },
 "nbformat": 4,
 "nbformat_minor": 4
}
