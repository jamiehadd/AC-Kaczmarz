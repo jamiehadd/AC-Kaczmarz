{
 "cells": [
  {
   "cell_type": "code",
   "execution_count": 4,
   "metadata": {},
   "outputs": [],
   "source": [
    "# Import Libraries\n",
    "import matplotlib.pyplot as plt\n",
    "from networkx import nx\n",
    "import itertools\n",
    "import numpy as np\n",
    "import scipy as sp\n",
    "from numpy.linalg import pinv\n",
    "from numpy.random import randint, normal\n",
    "from networkx.algorithms.clique import find_cliques, enumerate_all_cliques\n",
    "from networkx.algorithms.approximation import maximum_independent_set\n",
    "from networkx.algorithms.operators.unary import complement\n",
    "from scipy import stats"
   ]
  },
  {
   "cell_type": "markdown",
   "metadata": {},
   "source": [
    "# Block RK Functions\n",
    "These are our block RK functions with different varations, but they all return the same items"
   ]
  },
  {
   "cell_type": "code",
   "execution_count": 5,
   "metadata": {},
   "outputs": [],
   "source": [
    "# Standard Block RK\n",
    "# x_list allows us to track evolution of x and its individual components (for \"collapse\" graph?)\n",
    "# Takes in c: initial vector, b: Ax=b (column of zeros), A: incidence matrix, and sol: solution to Ax=b\n",
    "# Also takes in list of lists (Blocks) where each block is a list of rows within the incidence matrix corresponding to\n",
    "# specific subgraphs and N, number of maximum iterations\n",
    "# Returns: final value of x, list of x over iterations, and error over iterations\n",
    "\n",
    "def blockRK(A, sol, b, blocks, N, c):\n",
    "    k = len(blocks)\n",
    "    x = c\n",
    "    x_list = [x]\n",
    "    errors = []\n",
    "    for j in range (1, N+1):\n",
    "        i = randint(k);\n",
    "        x = x + np.linalg.pinv(A[blocks[i],:])@(b[blocks[i]] - A[blocks[i],:]@x)\n",
    "        errors.append(np.linalg.norm(x-sol))\n",
    "        x_list.append(np.asarray(x))\n",
    "    return x, x_list, errors"
   ]
  },
  {
   "cell_type": "code",
   "execution_count": 6,
   "metadata": {},
   "outputs": [],
   "source": [
    "# Corrupted block RK with random link failure (RLF)\n",
    "# Fails on each block randomly from a normal distribution\n",
    "# Independent but not identical probability of failure\n",
    "# Accepts fixed failure probability (Bernoulli)\n",
    "\n",
    "def blockRK_RLF(A, sol, b, blocks, N, c, p=0.3):\n",
    "    k = len(blocks)\n",
    "    x = c\n",
    "    x_list = [x]\n",
    "    errors = []\n",
    "    for j in range (1, N+1):\n",
    "        r = stats.bernoulli.rvs(p, size = 1);\n",
    "        i = randint(k)\n",
    "        if r[0] == 1:\n",
    "            x = x + np.linalg.pinv(A[blocks[i],:])@(b[blocks[i]] - A[blocks[i],:]@x)\n",
    "        errors.append(np.linalg.norm(x-sol))\n",
    "        x_list.append(x)\n",
    "    return x, x_list, errors"
   ]
  },
  {
   "cell_type": "code",
   "execution_count": 7,
   "metadata": {},
   "outputs": [],
   "source": [
    "# Corrupted block RK with one-off random additive noise (Gaussian)\n",
    "# Adds a Gaussian noise vector to b at first\n",
    "\n",
    "def blockRK_AGN(A, sol, b, blocks, N, c, s=0.05, m=0):\n",
    "    k = len(blocks)\n",
    "    x = c\n",
    "    errors = []\n",
    "    x_list = [x]\n",
    "    err = normal(m, s, b.shape)\n",
    "    b = b + err\n",
    "    for j in range (1, N+1):\n",
    "        x = x + np.linalg.pinv(A[blocks[i],:])@(b[blocks[i]] - A[blocks[i],:]@x) + err\n",
    "    errors.append(np.linalg.norm(x-sol))\n",
    "    x_list.append(x)\n",
    "    return x, errors"
   ]
  },
  {
   "cell_type": "code",
   "execution_count": 8,
   "metadata": {},
   "outputs": [],
   "source": [
    "# Corrupted block RK with two modes of failure: ONE-OFF additive gaussian noise and\n",
    "# random link failure\n",
    "\n",
    "def blockRK_cor(A, sol, b, blocks, N, c, p=0.3, m=0, s=0.1):\n",
    "    k = len(blocks)\n",
    "    x = c\n",
    "    errors = []\n",
    "    x_list = []\n",
    "    err = normal(m, s, b.shape)\n",
    "    b = b + err\n",
    "    for j in range (1, N+1):\n",
    "        r = stats.bernoulli.rvs(p, size = 1);\n",
    "        i = randint(k)\n",
    "        if r[0] == 1:\n",
    "            x = x + np.linalg.pinv(A[blocks[i],:])@(b[blocks[i]] - A[blocks[i],:]@x)\n",
    "            errors.append(np.linalg.norm(x-sol))\n",
    "    return x, x_list, errors"
   ]
  },
  {
   "cell_type": "markdown",
   "metadata": {},
   "source": [
    "# Helper Functions\n",
    "These are various helper functions for use; some of them are wrapped and will not be used standalone"
   ]
  },
  {
   "cell_type": "code",
   "execution_count": 9,
   "metadata": {},
   "outputs": [],
   "source": [
    "# Helper Functions for Size\n",
    "\n",
    "# NOT TO BE USED STANDALONE\n",
    "def trivial(x):\n",
    "    if len(x)<=1: #MAYBE CHANGE THIS?\n",
    "        return False\n",
    "    return True"
   ]
  },
  {
   "cell_type": "code",
   "execution_count": 10,
   "metadata": {},
   "outputs": [],
   "source": [
    "# Helper Functions for Size\n",
    "\n",
    "# NOT TO BE USED STANDALONE\n",
    "def max_size(x, n):\n",
    "    if len(x)>n:\n",
    "        return False\n",
    "    return True"
   ]
  },
  {
   "cell_type": "code",
   "execution_count": 40,
   "metadata": {},
   "outputs": [],
   "source": [
    "# Removes all trivial subgraphs and subgraphs that are too big according to some specified maximum size\n",
    "# Takes in a list of lists (list of subgraphs by nodes e.g. [1, 2] is the subgraph with the nodes 1, 2; [2, 4, 5] is the\n",
    "# subgraph with nodes 2, 4 and 5)\n",
    "# If no maximum size is given, only removes trivial cliques\n",
    "\n",
    "def remove_trivial_subgraphs(sgs, n=0):\n",
    "    fil_sg = list(filter(trivial, sgs))\n",
    "    if n == 0:\n",
    "        return fil_sg\n",
    "    else:\n",
    "        fil_sg = list(filter(max_size, fil_sg))\n",
    "        return fil_sg"
   ]
  },
  {
   "cell_type": "code",
   "execution_count": 12,
   "metadata": {},
   "outputs": [],
   "source": [
    "# Helper functions for grabbing row indices for subgraphs\n",
    "\n",
    "# Converts sets of edges into row indices in the incidence matrix\n",
    "def find_subgraph_from_edges(A,edges):\n",
    "    edge_indices = []\n",
    "    for edge in edges:\n",
    "        for i in range(A.shape[0]):\n",
    "            if A[i,edge[0]] != 0 and A[i,edge[1]] != 0:\n",
    "                edge_indices.append(i)\n",
    "    if len(edges) != len(edge_indices):\n",
    "        print(\"Did not find all edges of subgraph in incidence matrix.\")\n",
    "    return edge_indices"
   ]
  },
  {
   "cell_type": "code",
   "execution_count": 13,
   "metadata": {},
   "outputs": [],
   "source": [
    "# Helper functions for grabbing row indices for subgraphs\n",
    "\n",
    "# need to turn list of pnts into edges\n",
    "# use this for enumerate_all_cliques!\n",
    "def find_subgraph_from_pnts(A,pnts):\n",
    "    edge_indices = []\n",
    "    for j in range(len(pnts)-1):\n",
    "        for i in range(A.shape[0]):\n",
    "            if A[i, pnts[j]] != 0 and A[i, pnts[j+1]]:\n",
    "                edge_indices.append(i)\n",
    "            if A[i, pnts[0]] != 0 and A[i, pnts[len(pnts)-1]] !=0:\n",
    "                if i not in edge_indices:\n",
    "                    edge_indices.append(i)\n",
    "    if (len(pnts)) != len(edge_indices):\n",
    "        print(\"Did not find all edges of subgraph in incidence matrix.\")\n",
    "    return edge_indices"
   ]
  },
  {
   "cell_type": "code",
   "execution_count": 14,
   "metadata": {},
   "outputs": [],
   "source": [
    "# Given a list of points, grabs blocks and makes a list\n",
    "\n",
    "def blocks_pnts(A, subgraphs):\n",
    "    blocks = []\n",
    "    for subgraph in subgraphs:\n",
    "        blocks.append(find_subgraph_from_pnts(A, subgraph))\n",
    "    return blocks"
   ]
  },
  {
   "cell_type": "code",
   "execution_count": 15,
   "metadata": {},
   "outputs": [],
   "source": [
    "# Turns a list of points into a list of edges\n",
    "def edges_from_pnts(subgraph):\n",
    "    edges = []\n",
    "    n = len(subgraph)\n",
    "    for i in range(n-1):\n",
    "        edges.append((subgraph[i], subgraph[i+1]))\n",
    "    return edges"
   ]
  },
  {
   "cell_type": "code",
   "execution_count": 16,
   "metadata": {},
   "outputs": [],
   "source": [
    "# An overlap function\n",
    "# Takes in a limit input of number of maximum overlapping edges\n",
    "# How do we choose which edge? Choose the subgraph with a larger number of edges?\n",
    "# TO-DO: Ensures every vertex is covered\n",
    "\n",
    "# def overlap(subgraphs, vertex, limit=1):\n",
    "    "
   ]
  },
  {
   "cell_type": "code",
   "execution_count": null,
   "metadata": {},
   "outputs": [],
   "source": [
    "def alpha(block):\n",
    "    A_t = np.concatenate()"
   ]
  },
  {
   "cell_type": "markdown",
   "metadata": {},
   "source": [
    "## Graphing Helper Functions\n",
    "These graph the output of a specific Block RK function"
   ]
  },
  {
   "cell_type": "code",
   "execution_count": 17,
   "metadata": {},
   "outputs": [],
   "source": [
    "# n is number of nodes in graph! \n",
    "\n",
    "def collapse_plt(x_list, n, N):\n",
    "    for i in range (N):\n",
    "        x_list[i] = np.concatenate(x_list[i])\n",
    "    for i in range (n):\n",
    "        plt.plot(range(N+1), [test_iter[f][i] for f in range(N+1)])"
   ]
  },
  {
   "cell_type": "code",
   "execution_count": 18,
   "metadata": {},
   "outputs": [],
   "source": [
    "def error_plt(errors):\n",
    "    plt.semilogy(range(np.shape(errors)[0]),errors)"
   ]
  },
  {
   "cell_type": "markdown",
   "metadata": {},
   "source": [
    "## Conditioning Specific Helper Functions\n",
    "These wrap the above functions and apply them to specific conditions: e.g. cliques"
   ]
  },
  {
   "cell_type": "code",
   "execution_count": 19,
   "metadata": {},
   "outputs": [],
   "source": [
    "# Grabs subgraphs that correspond to cliques within a graph\n",
    "# Input: Incidence matrix, graph\n",
    "\n",
    "def blocks_from_cliques(G, A):\n",
    "    cliques = list(enumerate_all_cliques(G))\n",
    "    fill_cliques = remove_trivial_subgraphs(cliques)\n",
    "    blks = blocks_pnts(A, fill_cliques)\n",
    "    return blks\n"
   ]
  },
  {
   "cell_type": "markdown",
   "metadata": {},
   "source": [
    "# Experiments\n",
    "Run all experiments here"
   ]
  },
  {
   "cell_type": "markdown",
   "metadata": {},
   "source": [
    "### Graph and Problem Set-Up"
   ]
  },
  {
   "cell_type": "code",
   "execution_count": 20,
   "metadata": {},
   "outputs": [],
   "source": [
    "# Initialize Graph\n",
    "n = 10\n",
    "m = 20\n",
    "\n",
    "G = nx.gnm_random_graph(n,m)\n",
    "\n",
    "#Get incidence matrix\n",
    "A = nx.linalg.graphmatrix.incidence_matrix(G)\n",
    "A = sp.sparse.csr_matrix.todense(A).transpose()"
   ]
  },
  {
   "cell_type": "code",
   "execution_count": 21,
   "metadata": {},
   "outputs": [
    {
     "data": {
      "image/png": "[encoded data removed]",
      "text/plain": [
       "<Figure size 432x288 with 1 Axes>"
      ]
     },
     "metadata": {},
     "output_type": "display_data"
    }
   ],
   "source": [
    "# Draw graph\n",
    "nx.draw(G)\n",
    "plt.show()"
   ]
  },
  {
   "cell_type": "code",
   "execution_count": 22,
   "metadata": {},
   "outputs": [
    {
     "data": {
      "text/plain": [
       "<matplotlib.image.AxesImage at 0x192f059cb50>"
      ]
     },
     "execution_count": 22,
     "metadata": {},
     "output_type": "execute_result"
    },
    {
     "data": {
      "image/png": "[encoded data removed]",
      "text/plain": [
       "<Figure size 432x288 with 1 Axes>"
      ]
     },
     "metadata": {
      "needs_background": "light"
     },
     "output_type": "display_data"
    }
   ],
   "source": [
    "# Initialize Incidence Matrix\n",
    "A = nx.linalg.graphmatrix.incidence_matrix(G)\n",
    "A = sp.sparse.csr_matrix.todense(A).transpose()\n",
    "plt.imshow(A)  # their incidence matrix is binary, we need to convert one of the ones to a -1"
   ]
  },
  {
   "cell_type": "code",
   "execution_count": 23,
   "metadata": {},
   "outputs": [
    {
     "data": {
      "text/plain": [
       "<matplotlib.image.AxesImage at 0x192f060dfd0>"
      ]
     },
     "execution_count": 23,
     "metadata": {},
     "output_type": "execute_result"
    },
    {
     "data": {
      "image/png": "[encoded data removed]",
      "text/plain": [
       "<Figure size 432x288 with 1 Axes>"
      ]
     },
     "metadata": {
      "needs_background": "light"
     },
     "output_type": "display_data"
    }
   ],
   "source": [
    "for i in range(np.shape(A)[0]):\n",
    "    negindex = np.where(A[i,:] == 1)\n",
    "    A[i,negindex[1][0]] = -1\n",
    "plt.imshow(A)"
   ]
  },
  {
   "cell_type": "code",
   "execution_count": 24,
   "metadata": {},
   "outputs": [
    {
     "data": {
      "image/png": "[encoded data removed]",
      "text/plain": [
       "<Figure size 432x288 with 1 Axes>"
      ]
     },
     "metadata": {
      "needs_background": "light"
     },
     "output_type": "display_data"
    }
   ],
   "source": [
    "# Fix x, b\n",
    "# Secret initial vector x\n",
    "x = np.random.rand(n,1)\n",
    "plt.imshow(x)\n",
    "# Zero Vector b\n",
    "b = np.zeros((m,1))"
   ]
  },
  {
   "cell_type": "code",
   "execution_count": 25,
   "metadata": {},
   "outputs": [
    {
     "data": {
      "text/plain": [
       "array([[0.54577893],\n",
       "       [0.54577893],\n",
       "       [0.54577893],\n",
       "       [0.54577893],\n",
       "       [0.54577893],\n",
       "       [0.54577893],\n",
       "       [0.54577893],\n",
       "       [0.54577893],\n",
       "       [0.54577893],\n",
       "       [0.54577893]])"
      ]
     },
     "execution_count": 25,
     "metadata": {},
     "output_type": "execute_result"
    }
   ],
   "source": [
    "# Find mean of x\n",
    "xbar = np.mean(x)\n",
    "# Create solution vector (vector with just xbar as values)\n",
    "sol = np.full((n,1), xbar)\n",
    "sol"
   ]
  },
  {
   "cell_type": "markdown",
   "metadata": {},
   "source": [
    "## Testing"
   ]
  },
  {
   "cell_type": "code",
   "execution_count": 26,
   "metadata": {},
   "outputs": [],
   "source": [
    "# Grab Cliques\n",
    "def convert(subgraphs):\n",
    "    prod = []\n",
    "    for subgraph in subgraphs:\n",
    "        prod.append(edges_from_pnts(subgraph))\n",
    "    return prod"
   ]
  },
  {
   "cell_type": "code",
   "execution_count": 105,
   "metadata": {},
   "outputs": [],
   "source": [
    "def overlap(x, target):\n",
    "    x_set = set(x)\n",
    "    target_set = set(target)\n",
    "    intersection = target_set.intersection(x_set)\n",
    "    if len(intersection) > 0:\n",
    "        return True\n",
    "    else:\n",
    "        return False"
   ]
  },
  {
   "cell_type": "code",
   "execution_count": 28,
   "metadata": {},
   "outputs": [],
   "source": [
    "test1 = [(0,1), (0, 2), (1, 3)]\n",
    "test2 = [(0,1), (0, 2), (2, 3)]\n",
    "test3 = [(0,3), (0, 5), (3, 3)]"
   ]
  },
  {
   "cell_type": "code",
   "execution_count": 137,
   "metadata": {},
   "outputs": [],
   "source": [
    "cliques = enumerate_all_cliques(G)\n",
    "cliques = remove_trivial_subgraphs(cliques)"
   ]
  },
  {
   "cell_type": "code",
   "execution_count": 111,
   "metadata": {},
   "outputs": [],
   "source": [
    "index = []\n",
    "for j in range(20):\n",
    "    if overlap(cliques[j], cliques[20]):\n",
    "        index.append(j)"
   ]
  },
  {
   "cell_type": "code",
   "execution_count": 136,
   "metadata": {},
   "outputs": [],
   "source": [
    "def clique_cover_v1(cliques):\n",
    "    # No knowledge of G is needed given enumerate_all_cliques returns ALL edges in G\n",
    "    cliques = convert(cliques)\n",
    "    n = len(cliques)\n",
    "    i = n-1\n",
    "    m = 1\n",
    "    remove_index = []\n",
    "    while i > 1:\n",
    "        test = cliques[i]\n",
    "        for j in range(i):\n",
    "            if overlap(cliques[j], cliques[i]):\n",
    "                remove_index.append(j)\n",
    "        for k in remove_index:\n",
    "            print(test, cliques[k])\n",
    "            cliques.remove(cliques[k])\n",
    "        n = len(cliques)\n",
    "        if remove_index != []:\n",
    "            i = n - (m+1)\n",
    "        else:\n",
    "            i = i - 1\n",
    "        remove_index = []\n",
    "        m = m + 1\n",
    "    return cliques"
   ]
  },
  {
   "cell_type": "code",
   "execution_count": 138,
   "metadata": {},
   "outputs": [
    {
     "name": "stdout",
     "output_type": "stream",
     "text": [
      "[(3, 5), (5, 8)] [(3, 5)]\n",
      "[(3, 5), (5, 8)] [(5, 9)]\n",
      "[(2, 5), (5, 9)] [(2, 5)]\n",
      "[(2, 5), (5, 9)] [(2, 5), (5, 9)]\n",
      "[(1, 4), (4, 6)] [(1, 4)]\n",
      "[(1, 4), (4, 6)] [(5, 6)]\n",
      "[(1, 2), (2, 9)] [(1, 2)]\n",
      "[(1, 2), (2, 9)] [(3, 4)]\n",
      "[(1, 2), (2, 9)] [(1, 4), (4, 6)]\n",
      "[(0, 3), (3, 8)] [(0, 3)]\n",
      "[(0, 3), (3, 8)] [(4, 6)]\n",
      "[(0, 1), (1, 8)] [(0, 1)]\n",
      "[(0, 1), (1, 8)] [(1, 9)]\n",
      "[(0, 1), (1, 8)] [(0, 3), (3, 8)]\n"
     ]
    },
    {
     "data": {
      "text/plain": [
       "[[(0, 6)],\n",
       " [(0, 8)],\n",
       " [(1, 6)],\n",
       " [(1, 8)],\n",
       " [(2, 6)],\n",
       " [(2, 9)],\n",
       " [(3, 8)],\n",
       " [(5, 7)],\n",
       " [(5, 8)],\n",
       " [(0, 1), (1, 6)],\n",
       " [(0, 1), (1, 8)],\n",
       " [(1, 2), (2, 6)],\n",
       " [(1, 2), (2, 9)],\n",
       " [(2, 5), (5, 6)],\n",
       " [(3, 5), (5, 8)]]"
      ]
     },
     "execution_count": 138,
     "metadata": {},
     "output_type": "execute_result"
    }
   ],
   "source": [
    "clique_cover_v1(cliques)\n",
    "\n",
    "# REMOVING THE WRONG THINGS"
   ]
  },
  {
   "cell_type": "markdown",
   "metadata": {},
   "source": [
    "# Debugging Corner\n",
    "Where bad code goes to die"
   ]
  },
  {
   "cell_type": "code",
   "execution_count": 31,
   "metadata": {},
   "outputs": [],
   "source": [
    "def blocks_from_cliques_test(G, A):\n",
    "    cliques = list(enumerate_all_cliques(G))\n",
    "    blks = blocks_pnts(A, cliques)\n",
    "    return blks"
   ]
  },
  {
   "cell_type": "code",
   "execution_count": 42,
   "metadata": {},
   "outputs": [
    {
     "ename": "TypeError",
     "evalue": "max_size() missing 1 required positional argument: 'n'",
     "output_type": "error",
     "traceback": [
      "\u001b[1;31m---------------------------------------------------------------------------\u001b[0m",
      "\u001b[1;31mTypeError\u001b[0m                                 Traceback (most recent call last)",
      "\u001b[1;32m<ipython-input-42-968b55b41365>\u001b[0m in \u001b[0;36m<module>\u001b[1;34m\u001b[0m\n\u001b[1;32m----> 1\u001b[1;33m \u001b[0mremove_trivial_subgraphs\u001b[0m\u001b[1;33m(\u001b[0m\u001b[0mcliques\u001b[0m\u001b[1;33m,\u001b[0m \u001b[1;36m2\u001b[0m\u001b[1;33m)\u001b[0m\u001b[1;33m\u001b[0m\u001b[1;33m\u001b[0m\u001b[0m\n\u001b[0m",
      "\u001b[1;32m<ipython-input-40-64b04989dbb6>\u001b[0m in \u001b[0;36mremove_trivial_subgraphs\u001b[1;34m(sgs, n)\u001b[0m\n\u001b[0;32m      9\u001b[0m         \u001b[1;32mreturn\u001b[0m \u001b[0mfil_sg\u001b[0m\u001b[1;33m\u001b[0m\u001b[1;33m\u001b[0m\u001b[0m\n\u001b[0;32m     10\u001b[0m     \u001b[1;32melse\u001b[0m\u001b[1;33m:\u001b[0m\u001b[1;33m\u001b[0m\u001b[1;33m\u001b[0m\u001b[0m\n\u001b[1;32m---> 11\u001b[1;33m         \u001b[0mfil_sg\u001b[0m \u001b[1;33m=\u001b[0m \u001b[0mlist\u001b[0m\u001b[1;33m(\u001b[0m\u001b[0mfilter\u001b[0m\u001b[1;33m(\u001b[0m\u001b[0mmax_size\u001b[0m\u001b[1;33m,\u001b[0m \u001b[0mfil_sg\u001b[0m\u001b[1;33m)\u001b[0m\u001b[1;33m)\u001b[0m\u001b[1;33m\u001b[0m\u001b[1;33m\u001b[0m\u001b[0m\n\u001b[0m\u001b[0;32m     12\u001b[0m         \u001b[1;32mreturn\u001b[0m \u001b[0mfil_sg\u001b[0m\u001b[1;33m\u001b[0m\u001b[1;33m\u001b[0m\u001b[0m\n",
      "\u001b[1;31mTypeError\u001b[0m: max_size() missing 1 required positional argument: 'n'"
     ]
    }
   ],
   "source": []
  },
  {
   "cell_type": "code",
   "execution_count": 32,
   "metadata": {},
   "outputs": [
    {
     "data": {
      "text/plain": [
       "EdgeView([(0, 6), (0, 7), (0, 8), (0, 3), (1, 8), (1, 4), (1, 5), (1, 7), (2, 7), (2, 5), (3, 5), (3, 8), (4, 5), (4, 9), (4, 7), (5, 6), (5, 8), (6, 9), (7, 8), (8, 9)])"
      ]
     },
     "execution_count": 32,
     "metadata": {},
     "output_type": "execute_result"
    }
   ],
   "source": [
    "G.edges"
   ]
  },
  {
   "cell_type": "code",
   "execution_count": 40,
   "metadata": {},
   "outputs": [],
   "source": [
    "hell = np.concatenate(test_iter[0])\n",
    "hell2 = np.concatenate(test_iter[1])"
   ]
  },
  {
   "cell_type": "code",
   "execution_count": 41,
   "metadata": {},
   "outputs": [
    {
     "data": {
      "text/plain": [
       "(array([0.1462053 , 0.3401473 , 0.33307706, 0.6316088 , 0.56113444,\n",
       "        0.8806873 , 0.9825548 , 0.67558337, 0.99957913, 0.46831739]),\n",
       " array([0.1462053 , 0.3401473 , 0.33307706, 0.6316088 , 0.63671304,\n",
       "        0.63671304, 0.9825548 , 0.67558337, 0.99957913, 0.63671304]))"
      ]
     },
     "execution_count": 41,
     "metadata": {},
     "output_type": "execute_result"
    }
   ],
   "source": [
    "hell, hell2"
   ]
  },
  {
   "cell_type": "code",
   "execution_count": 36,
   "metadata": {},
   "outputs": [
    {
     "data": {
      "text/plain": [
       "array([[0.1462053 ],\n",
       "       [0.3401473 ],\n",
       "       [0.33307706],\n",
       "       [0.6316088 ],\n",
       "       [0.56113444],\n",
       "       [0.8806873 ],\n",
       "       [0.9825548 ],\n",
       "       [0.67558337],\n",
       "       [0.99957913],\n",
       "       [0.46831739]])"
      ]
     },
     "execution_count": 36,
     "metadata": {},
     "output_type": "execute_result"
    }
   ],
   "source": [
    "test_iter[0]"
   ]
  },
  {
   "cell_type": "code",
   "execution_count": null,
   "metadata": {},
   "outputs": [],
   "source": [
    "uwu = np.stack((hell, hell2))\n",
    "uwu"
   ]
  },
  {
   "cell_type": "code",
   "execution_count": 87,
   "metadata": {},
   "outputs": [
    {
     "data": {
      "text/plain": [
       "[[0],\n",
       " [1],\n",
       " [2],\n",
       " [3],\n",
       " [4],\n",
       " [5],\n",
       " [6],\n",
       " [7],\n",
       " [8],\n",
       " [9],\n",
       " [0, 2],\n",
       " [0, 4],\n",
       " [0, 5],\n",
       " [0, 6],\n",
       " [1, 2],\n",
       " [1, 5],\n",
       " [2, 4],\n",
       " [2, 5],\n",
       " [2, 6],\n",
       " [2, 7],\n",
       " [2, 9],\n",
       " [3, 8],\n",
       " [4, 5],\n",
       " [4, 7],\n",
       " [4, 9],\n",
       " [5, 8],\n",
       " [5, 9],\n",
       " [6, 7],\n",
       " [6, 8],\n",
       " [7, 8],\n",
       " [0, 2, 4],\n",
       " [0, 2, 5],\n",
       " [0, 2, 6],\n",
       " [0, 4, 5],\n",
       " [1, 2, 5],\n",
       " [2, 4, 5],\n",
       " [2, 4, 7],\n",
       " [2, 4, 9],\n",
       " [2, 5, 9],\n",
       " [2, 6, 7],\n",
       " [4, 5, 9],\n",
       " [6, 7, 8],\n",
       " [0, 2, 4, 5],\n",
       " [2, 4, 5, 9]]"
      ]
     },
     "execution_count": 87,
     "metadata": {},
     "output_type": "execute_result"
    }
   ],
   "source": [
    "list(enumerate_all_cliques(G))"
   ]
  },
  {
   "cell_type": "code",
   "execution_count": null,
   "metadata": {},
   "outputs": [],
   "source": []
  }
 ],
 "metadata": {
  "kernelspec": {
   "display_name": "Python 3",
   "language": "python",
   "name": "python3"
  },
  "language_info": {
   "codemirror_mode": {
    "name": "ipython",
    "version": 3
   },
   "file_extension": ".py",
   "mimetype": "text/x-python",
   "name": "python",
   "nbconvert_exporter": "python",
   "pygments_lexer": "ipython3",
   "version": "3.8.3"
  }
 },
 "nbformat": 4,
 "nbformat_minor": 4
}
