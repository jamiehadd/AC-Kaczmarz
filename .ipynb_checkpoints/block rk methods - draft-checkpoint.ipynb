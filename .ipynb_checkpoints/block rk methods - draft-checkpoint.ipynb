{
 "cells": [
  {
   "cell_type": "code",
   "execution_count": 10,
   "metadata": {},
   "outputs": [],
   "source": [
    "# Import Libraries\n",
    "import matplotlib.pyplot as plt\n",
    "from networkx import nx\n",
    "import itertools\n",
    "import numpy as np\n",
    "import scipy as sp\n",
    "from numpy.linalg import pinv\n",
    "from numpy.random import randint, normal\n",
    "from networkx.algorithms.clique import find_cliques, enumerate_all_cliques\n",
    "from networkx.algorithms.approximation import maximum_independent_set\n",
    "from networkx.algorithms.operators.unary import complement\n",
    "from scipy import stats"
   ]
  },
  {
   "cell_type": "code",
   "execution_count": 11,
   "metadata": {},
   "outputs": [],
   "source": [
    "# Initialize Graph\n",
    "n = 10\n",
    "m = 20\n",
    "\n",
    "G = nx.gnm_random_graph(n,m)\n",
    "\n",
    "#Get incidence matrix\n",
    "A = nx.linalg.graphmatrix.incidence_matrix(G)\n",
    "A = sp.sparse.csr_matrix.todense(A).transpose()"
   ]
  },
  {
   "cell_type": "code",
   "execution_count": 12,
   "metadata": {},
   "outputs": [
    {
     "data": {
      "image/png": "[encoded data removed]",
      "text/plain": [
       "<Figure size 432x288 with 1 Axes>"
      ]
     },
     "metadata": {},
     "output_type": "display_data"
    }
   ],
   "source": [
    "# Draw graph\n",
    "nx.draw(G)\n",
    "plt.show()"
   ]
  },
  {
   "cell_type": "code",
   "execution_count": 13,
   "metadata": {},
   "outputs": [
    {
     "data": {
      "text/plain": [
       "(20, 10)"
      ]
     },
     "execution_count": 13,
     "metadata": {},
     "output_type": "execute_result"
    }
   ],
   "source": [
    "A.shape"
   ]
  },
  {
   "cell_type": "markdown",
   "metadata": {},
   "source": [
    "## Finding Subgraphs"
   ]
  },
  {
   "cell_type": "code",
   "execution_count": 14,
   "metadata": {},
   "outputs": [],
   "source": [
    "# Converts sets of edges into row indices in the incidence matrix\n",
    "def find_subgraph_from_edges(A,edges):\n",
    "    edge_indices = []\n",
    "    for edge in edges:\n",
    "        for i in range(A.shape[0]):\n",
    "            if A[i,edge[0]] != 0 and A[i,edge[1]] != 0:\n",
    "                edge_indices.append(i)\n",
    "    if len(edges) != len(edge_indices):\n",
    "        print(\"Did not find all edges of subgraph in incidence matrix.\")\n",
    "    return edge_indices"
   ]
  },
  {
   "cell_type": "code",
   "execution_count": 15,
   "metadata": {},
   "outputs": [],
   "source": [
    "# need to turn list of pnts into edges\n",
    "# use this for enumerate_all_cliques!\n",
    "def find_subgraph_from_pnts(A,pnts):\n",
    "    edge_indices = []\n",
    "    for j in range(len(pnts)-1):\n",
    "        for i in range(A.shape[0]):\n",
    "            if A[i, pnts[j]] != 0 and A[i, pnts[j+1]]:\n",
    "                edge_indices.append(i)\n",
    "            if A[i, pnts[0]] != 0 and A[i, pnts[len(pnts)-1]] !=0:\n",
    "                if i not in edge_indices:\n",
    "                    edge_indices.append(i)\n",
    "    if (len(pnts)) != len(edge_indices):\n",
    "        print(\"Did not find all edges of subgraph in incidence matrix.\")\n",
    "    return edge_indices"
   ]
  },
  {
   "cell_type": "markdown",
   "metadata": {},
   "source": [
    "## Cliques"
   ]
  },
  {
   "cell_type": "code",
   "execution_count": 7,
   "metadata": {},
   "outputs": [
    {
     "data": {
      "text/plain": [
       "[[0],\n",
       " [1],\n",
       " [2],\n",
       " [3],\n",
       " [4],\n",
       " [5],\n",
       " [6],\n",
       " [7],\n",
       " [8],\n",
       " [9],\n",
       " [0, 2],\n",
       " [0, 3],\n",
       " [0, 4],\n",
       " [0, 7],\n",
       " [0, 8],\n",
       " [1, 2],\n",
       " [1, 4],\n",
       " [1, 5],\n",
       " [1, 6],\n",
       " [2, 5],\n",
       " [2, 9],\n",
       " [3, 7],\n",
       " [3, 9],\n",
       " [4, 5],\n",
       " [5, 6],\n",
       " [5, 8],\n",
       " [5, 9],\n",
       " [6, 8],\n",
       " [7, 8],\n",
       " [7, 9],\n",
       " [0, 3, 7],\n",
       " [0, 7, 8],\n",
       " [1, 2, 5],\n",
       " [1, 4, 5],\n",
       " [1, 5, 6],\n",
       " [2, 5, 9],\n",
       " [3, 7, 9],\n",
       " [5, 6, 8]]"
      ]
     },
     "execution_count": 7,
     "metadata": {},
     "output_type": "execute_result"
    }
   ],
   "source": [
    "# Grab Cliques\n",
    "cliques = list(enumerate_all_cliques(G)) # this is a generator!\n",
    "cliques"
   ]
  },
  {
   "cell_type": "code",
   "execution_count": 16,
   "metadata": {},
   "outputs": [],
   "source": [
    "# Remove trivial cliques, i.e. cliques with n<= 2:\n",
    "def trivial(x):\n",
    "    if len(x)<=2:\n",
    "        return False\n",
    "    return True"
   ]
  },
  {
   "cell_type": "code",
   "execution_count": 17,
   "metadata": {},
   "outputs": [],
   "source": [
    "# Remove trivial cliques, i.e. cliques with n<= 2:\n",
    "def remove_trivial_cliques(cliques):\n",
    "    fil_cliques = list(filter(trivial, cliques))\n",
    "    return fil_cliques"
   ]
  },
  {
   "cell_type": "code",
   "execution_count": 18,
   "metadata": {},
   "outputs": [],
   "source": [
    "def blocks(A, subgraphs):\n",
    "    blocks = []\n",
    "    for subgraph in subgraphs:\n",
    "        blocks.append(find_subgraph_from_pnts(A, subgraph))\n",
    "    return blocks"
   ]
  },
  {
   "cell_type": "code",
   "execution_count": 13,
   "metadata": {},
   "outputs": [
    {
     "data": {
      "text/plain": [
       "[[0, 1, 11],\n",
       " [1, 4, 19],\n",
       " [5, 6, 9],\n",
       " [5, 7, 13],\n",
       " [5, 8, 14],\n",
       " [9, 10, 16],\n",
       " [11, 12, 18],\n",
       " [14, 15, 17]]"
      ]
     },
     "execution_count": 13,
     "metadata": {},
     "output_type": "execute_result"
    }
   ],
   "source": [
    "fil_cliques = remove_trivial_cliques(cliques)\n",
    "\n",
    "#Grab blocks\n",
    "blk = blocks(A, fil_cliques)\n",
    "blk"
   ]
  },
  {
   "cell_type": "code",
   "execution_count": 19,
   "metadata": {},
   "outputs": [],
   "source": [
    "# Wraps the above processes in one function\n",
    "def blocks_from_cliques(G, A):\n",
    "    cliques = list(enumerate_all_cliques(G))\n",
    "    fill_cliques = remove_trivial_cliques(cliques)\n",
    "    blks = blocks(A, fill_cliques)\n",
    "    return blks"
   ]
  },
  {
   "cell_type": "code",
   "execution_count": 21,
   "metadata": {},
   "outputs": [],
   "source": [
    "blk = blocks_from_cliques(G,A)"
   ]
  },
  {
   "cell_type": "markdown",
   "metadata": {},
   "source": [
    "## Independent Edge Sets"
   ]
  },
  {
   "cell_type": "code",
   "execution_count": 8,
   "metadata": {},
   "outputs": [],
   "source": []
  },
  {
   "cell_type": "code",
   "execution_count": 9,
   "metadata": {},
   "outputs": [
    {
     "data": {
      "text/plain": [
       "array([0, 0, 0, 0, 1, 1, 0, 0, 0, 0])"
      ]
     },
     "execution_count": 9,
     "metadata": {},
     "output_type": "execute_result"
    }
   ],
   "source": []
  },
  {
   "cell_type": "code",
   "execution_count": 22,
   "metadata": {},
   "outputs": [],
   "source": [
    "# Block RK\n",
    "def blockRK(A, sol, b, blocks, N, c):\n",
    "    k = len(blocks)\n",
    "    x = c\n",
    "    errors = []\n",
    "    for j in range (1, N+1):\n",
    "        i = randint(k);\n",
    "        x = x + np.linalg.pinv(A[blocks[i],:])@(b[blocks[i]] - A[blocks[i],:]@x)\n",
    "        errors.append(np.linalg.norm(x-sol))\n",
    "    return x, errors"
   ]
  },
  {
   "cell_type": "code",
   "execution_count": null,
   "metadata": {},
   "outputs": [],
   "source": [
    "# Test Block RK algorithm with cliques\n",
    "for i in range(np.shape(A)[0]):\n",
    "    negindex = np.where(A[i,:] == 1)\n",
    "    A[i,negindex[1][0]] = -1\n",
    "plt.imshow(A)"
   ]
  },
  {
   "cell_type": "code",
   "execution_count": 23,
   "metadata": {},
   "outputs": [
    {
     "data": {
      "text/plain": [
       "0.5208567059985229"
      ]
     },
     "execution_count": 23,
     "metadata": {},
     "output_type": "execute_result"
    },
    {
     "data": {
      "image/png": "[encoded data removed]",
      "text/plain": [
       "<Figure size 432x288 with 1 Axes>"
      ]
     },
     "metadata": {
      "needs_background": "light"
     },
     "output_type": "display_data"
    }
   ],
   "source": [
    "x = np.random.rand(n,1)\n",
    "plt.imshow(x)\n",
    "b = np.zeros((m,1))\n",
    "xbar = np.mean(x)\n",
    "xbar"
   ]
  },
  {
   "cell_type": "code",
   "execution_count": 33,
   "metadata": {},
   "outputs": [
    {
     "data": {
      "text/plain": [
       "(matrix([[ 0.00000000e+00],\n",
       "         [-1.36845553e-48],\n",
       "         [ 1.00000000e+00],\n",
       "         [-2.05268330e-48],\n",
       "         [ 1.36845553e-48],\n",
       "         [ 1.00000000e+00],\n",
       "         [ 8.21073319e-48],\n",
       "         [ 1.00000000e+00],\n",
       "         [ 1.11022302e-16],\n",
       "         [-6.84227766e-49]]),\n",
       " [1.8620714087008687,\n",
       "  2.0884882816901524,\n",
       "  2.0930341756987234,\n",
       "  2.0930341756987234,\n",
       "  2.0930341756987234,\n",
       "  1.9238895877556577,\n",
       "  1.9238895877556577,\n",
       "  1.9238895877556577,\n",
       "  1.9238895877556577,\n",
       "  1.9238895877556577])"
      ]
     },
     "execution_count": 33,
     "metadata": {},
     "output_type": "execute_result"
    }
   ],
   "source": [
    "# Check this\n",
    "\n",
    "blockRK(A, x, b, blk, 10, np.ones((n,1)))"
   ]
  },
  {
   "cell_type": "code",
   "execution_count": 43,
   "metadata": {},
   "outputs": [],
   "source": [
    "# Corrupted block RK with two modes of failure: additive gaussian noise and\n",
    "# random link failure\n",
    "\n",
    "def blockRK_cor(A, sol, b, blocks, N, c, p=0.3, m=0, s=0.1):\n",
    "    k = len(blocks)\n",
    "    x = c\n",
    "    errors = []\n",
    "    for j in range (1, N+1):\n",
    "        r = stats.bernoulli.rvs(p, size = 1);\n",
    "        i = randint(k)\n",
    "        err = normal(m, s, x.shape)\n",
    "        if r[0] == 1:\n",
    "            x = x + np.linalg.pinv(A[blocks[i],:])@(b[blocks[i]] - A[blocks[i],:]@x) + err\n",
    "            errors.append(np.linalg.norm(x-sol))\n",
    "    return x, errors"
   ]
  },
  {
   "cell_type": "code",
   "execution_count": 51,
   "metadata": {},
   "outputs": [],
   "source": [
    "# Corrupted block RK with random link failure (RLF)\n",
    "# Fails on each block randomly from a normal distribution\n",
    "# Independent but not identical probability of failure\n",
    "# Accepts fixed failure probability (Bernoulli)\n",
    "\n",
    "def blockRK_RLF(A, sol, b, blocks, N, c, p=0.3):\n",
    "    k = len(blocks)\n",
    "    x = c\n",
    "    x_list = [x]\n",
    "    errors = []\n",
    "    for j in range (1, N+1):\n",
    "        r = stats.bernoulli.rvs(p, size = 1);\n",
    "        i = randint(k)\n",
    "        if r[0] == 1:\n",
    "            x = x + np.linalg.pinv(A[blocks[i],:])@(b[blocks[i]] - A[blocks[i],:]@x)\n",
    "        errors.append(np.linalg.norm(x-sol))\n",
    "        x_list.append(x)\n",
    "    return x, x_list, errors"
   ]
  },
  {
   "cell_type": "code",
   "execution_count": 52,
   "metadata": {},
   "outputs": [],
   "source": [
    "# Corrupted block RK with iterative random additive noise (Gaussian)\n",
    "# Noise added in conjunction with the block update\n",
    "# Different from noise on the block? \n",
    "# Accepts standard deviation and mean\n",
    "\n",
    "def blockRK_iAGN(A, sol, b, blocks, N, c, s=0.05, m=0):\n",
    "    k = len(blocks)\n",
    "    x = c\n",
    "    errors = []\n",
    "    x_list = [x]\n",
    "    for j in range (1, N+1):\n",
    "        err = normal(m, s, x.shape)\n",
    "        x = x + np.linalg.pinv(A[blocks[i],:])@(b[blocks[i]] - A[blocks[i],:]@x) + err\n",
    "        errors.append(np.linalg.norm(x-sol))\n",
    "        x_list.append(x)\n",
    "    return x, x_list, errors"
   ]
  },
  {
   "cell_type": "code",
   "execution_count": null,
   "metadata": {},
   "outputs": [],
   "source": [
    "# Corrupted block RK with one-off random additive noise (Gaussian)\n",
    "# Adds a Gaussian noise vector to b at first\n",
    "\n",
    "def blockRK_AGN(A, sol, b, blocks, N, c, s=0.05, m=0):\n",
    "    k = len(blocks)\n",
    "    x = c\n",
    "    errors = []\n",
    "    err = normal(m, s, b.shape)\n",
    "    b = b + err\n",
    "    x_list = [x]\n",
    "    for j in range (1, N+1):\n",
    "        x = x + np.linalg.pinv(A[blocks[i],:])@(b[blocks[i]] - A[blocks[i],:]@x) + err\n",
    "        errors.append(np.linalg.norm(x-sol))\n",
    "    return x, x_list, errors"
   ]
  },
  {
   "cell_type": "code",
   "execution_count": 34,
   "metadata": {},
   "outputs": [
    {
     "data": {
      "text/plain": [
       "1.0"
      ]
     },
     "execution_count": 34,
     "metadata": {},
     "output_type": "execute_result"
    }
   ],
   "source": [
    "A = np.random.randn(10,2)\n",
    "sum_of_rows = np.sqrt((A * A).sum(axis=1))\n",
    "A = A / sum_of_rows[:, np.newaxis]\n",
    "x = np.ones([2,1])\n",
    "b = A @ x\n",
    "np.linalg.norm(A[3,:])"
   ]
  },
  {
   "cell_type": "code",
   "execution_count": 36,
   "metadata": {},
   "outputs": [
    {
     "data": {
      "text/plain": [
       "(array([[1.],\n",
       "        [1.]]),\n",
       " [6.280369834735101e-16,\n",
       "  2.220446049250313e-16,\n",
       "  0.0,\n",
       "  0.0,\n",
       "  0.0,\n",
       "  0.0,\n",
       "  0.0,\n",
       "  0.0,\n",
       "  0.0,\n",
       "  0.0])"
      ]
     },
     "execution_count": 36,
     "metadata": {},
     "output_type": "execute_result"
    }
   ],
   "source": [
    "blockRK(A, x, b, [[0,1],[2,5],[4,5],[6,7],[8,9], [1,2,3]], 10, np.zeros([2,1]))"
   ]
  },
  {
   "cell_type": "code",
   "execution_count": 46,
   "metadata": {},
   "outputs": [
    {
     "data": {
      "text/plain": [
       "(array([[1.],\n",
       "        [1.]]),\n",
       " [1.4142135623730951,\n",
       "  2.220446049250313e-16,\n",
       "  1.1102230246251565e-16,\n",
       "  1.1102230246251565e-16,\n",
       "  1.1102230246251565e-16,\n",
       "  2.220446049250313e-16,\n",
       "  2.220446049250313e-16,\n",
       "  2.220446049250313e-16,\n",
       "  2.220446049250313e-16,\n",
       "  0.0,\n",
       "  0.0,\n",
       "  0.0,\n",
       "  0.0,\n",
       "  0.0,\n",
       "  0.0,\n",
       "  0.0,\n",
       "  0.0,\n",
       "  0.0,\n",
       "  0.0,\n",
       "  0.0,\n",
       "  0.0,\n",
       "  0.0,\n",
       "  0.0,\n",
       "  0.0,\n",
       "  0.0,\n",
       "  0.0,\n",
       "  0.0,\n",
       "  0.0,\n",
       "  0.0,\n",
       "  0.0,\n",
       "  0.0,\n",
       "  0.0,\n",
       "  0.0,\n",
       "  0.0,\n",
       "  0.0,\n",
       "  0.0,\n",
       "  0.0,\n",
       "  0.0,\n",
       "  0.0,\n",
       "  0.0,\n",
       "  0.0,\n",
       "  0.0,\n",
       "  0.0,\n",
       "  0.0,\n",
       "  0.0,\n",
       "  0.0,\n",
       "  0.0,\n",
       "  0.0,\n",
       "  0.0,\n",
       "  0.0])"
      ]
     },
     "execution_count": 46,
     "metadata": {},
     "output_type": "execute_result"
    }
   ],
   "source": [
    "blockRK_RLF(A, x, b, [[0,1],[2,5],[4,5],[6,7],[8,9], [1,2,3]], 50, np.zeros([2,1]))"
   ]
  },
  {
   "cell_type": "code",
   "execution_count": 53,
   "metadata": {},
   "outputs": [
    {
     "data": {
      "text/plain": [
       "(array([[0.99119299],\n",
       "        [0.99014411]]),\n",
       " [0.12112179914833517,\n",
       "  0.17042472282216362,\n",
       "  0.1833497295845547,\n",
       "  0.021146077482507554,\n",
       "  0.05114912931891877,\n",
       "  0.11433892815739506,\n",
       "  0.06488344869723593,\n",
       "  0.12931927459160628,\n",
       "  0.12356888026627331,\n",
       "  0.12226487127624565,\n",
       "  0.16658156993309464,\n",
       "  0.16707408823515477,\n",
       "  0.08593108640774588,\n",
       "  0.15269478759838634,\n",
       "  0.060334516348631254,\n",
       "  0.12402227830640321,\n",
       "  0.0462772834360223,\n",
       "  0.2888466479247189,\n",
       "  0.15896184301195307,\n",
       "  0.17544856282166754,\n",
       "  0.1334161754708242,\n",
       "  0.22416944316304876,\n",
       "  0.08481100430907149,\n",
       "  0.03222808325093005,\n",
       "  0.26040468705887493,\n",
       "  0.01666479836271931,\n",
       "  0.0926038917295217,\n",
       "  0.12160864675963001,\n",
       "  0.07264343986660762,\n",
       "  0.0526236857264042,\n",
       "  0.05213877201608533,\n",
       "  0.1514692831740659,\n",
       "  0.0431778229456901,\n",
       "  0.05532925682047478,\n",
       "  0.15242028544343217,\n",
       "  0.2423320231481935,\n",
       "  0.07833202246036072,\n",
       "  0.03953093586542832,\n",
       "  0.17170074114728806,\n",
       "  0.09075869895273452,\n",
       "  0.1787081121407392,\n",
       "  0.18242798757940853,\n",
       "  0.11441030127681515,\n",
       "  0.1564101766114197,\n",
       "  0.17949338121959232,\n",
       "  0.21178503693065767,\n",
       "  0.21273252961731984,\n",
       "  0.07525630243146697,\n",
       "  0.08930569352408659,\n",
       "  0.013217485171240472])"
      ]
     },
     "execution_count": 53,
     "metadata": {},
     "output_type": "execute_result"
    }
   ],
   "source": [
    "blockRK_AGN(A, x, b, [[0,1],[2,5],[4,5],[6,7],[8,9], [1,2,3]], 50, np.zeros([2,1]))"
   ]
  },
  {
   "cell_type": "code",
   "execution_count": null,
   "metadata": {},
   "outputs": [],
   "source": []
  }
 ],
 "metadata": {
  "kernelspec": {
   "display_name": "Python 3",
   "language": "python",
   "name": "python3"
  },
  "language_info": {
   "codemirror_mode": {
    "name": "ipython",
    "version": 3
   },
   "file_extension": ".py",
   "mimetype": "text/x-python",
   "name": "python",
   "nbconvert_exporter": "python",
   "pygments_lexer": "ipython3",
   "version": "3.8.3"
  }
 },
 "nbformat": 4,
 "nbformat_minor": 4
}
