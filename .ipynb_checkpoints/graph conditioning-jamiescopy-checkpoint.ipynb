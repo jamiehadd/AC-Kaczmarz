{
 "cells": [
  {
   "cell_type": "markdown",
   "metadata": {},
   "source": []
  },
  {
   "cell_type": "code",
   "execution_count": 2,
   "metadata": {},
   "outputs": [],
   "source": [
    "import matplotlib.pyplot as plt\n",
    "from networkx import nx\n",
    "import itertools\n",
    "import numpy as np\n",
    "import scipy as sp\n",
    "from numpy.linalg import pinv\n",
    "from numpy.random import randint"
   ]
  },
  {
   "cell_type": "code",
   "execution_count": 2,
   "metadata": {},
   "outputs": [],
   "source": [
    "n = 50\n",
    "m = 100\n",
    "\n",
    "G = nx.gnm_random_graph(n,m)"
   ]
  },
  {
   "cell_type": "code",
   "execution_count": 3,
   "metadata": {},
   "outputs": [
    {
     "data": {
      "image/png": "[encoded data removed]",
      "text/plain": [
       "<Figure size 432x288 with 1 Axes>"
      ]
     },
     "metadata": {},
     "output_type": "display_data"
    }
   ],
   "source": [
    "nx.draw(G)\n",
    "plt.show()"
   ]
  },
  {
   "cell_type": "code",
   "execution_count": null,
   "metadata": {},
   "outputs": [],
   "source": [
    "# Conditioning based on trees\n",
    "# We can use BFS, choose different starting nodes to create trees\n",
    "# Similarly with DFS\n",
    "# Collect all these trees into an array\n",
    "# Remove duplicates"
   ]
  },
  {
   "cell_type": "code",
   "execution_count": null,
   "metadata": {},
   "outputs": [],
   "source": [
    "# Conditoning based on complete graphs\n",
    "# Use clique algorithm? Better than brute force\n",
    "def k_cliques(graph):\n",
    "    cliques = [{i, j} for i, j in graph.edges() if i!=j]\n",
    "    k=2\n",
    "    \n",
    "    while cliques:\n",
    "        yield k, cliques\n",
    "        cliques_1 = set()\n",
    "        for u,v in combinations(cliques, 2):\n",
    "            w = u ^ v\n",
    "            if len(w) == 2 and graph.has_edge(*w):\n",
    "                cliques_1.add(tuple(u | w))\n",
    "            # remove duplicates\n",
    "            cliques = list(map(set, cliques_1))\n",
    "            k = k+1"
   ]
  },
  {
   "cell_type": "code",
   "execution_count": null,
   "metadata": {},
   "outputs": [],
   "source": [
    "def print_cliques(graph):\n",
    "    for k, cliques in k_cliques(graph):\n",
    "        print('$d-cliques: size %d, %s' % (k, len(cliques), cliques[]))"
   ]
  },
  {
   "cell_type": "code",
   "execution_count": null,
   "metadata": {},
   "outputs": [],
   "source": [
    "# Conditioning based on connectedness\n",
    "all_connected_subgraphs = []\n",
    "min_size = 5\n",
    "max_size = 10\n",
    "# look at components with at least 3 nodes (2 nodes is trivial)\n",
    "for nb_nodes in range(min_size, max_size):\n",
    "    for SG in (G.subgraph(selected_nodes) for selected_nodes in itertools.combinations(G, nb_nodes)):\n",
    "        if nx.is_connected(SG):\n",
    "            all_connected_subgraphs.append(SG)\n",
    "            \n",
    "# Takes a long time to run, should set a limit on size!"
   ]
  },
  {
   "cell_type": "code",
   "execution_count": null,
   "metadata": {},
   "outputs": [],
   "source": [
    "# Use connectedness to find tree; check if there are any cycles\n",
    "# Use the fact that tree is connected graph with no cycles\n",
    "all_trees = []\n",
    "\n",
    "for subgraph in all_connected_subgraphs:\n",
    "    if nx.algorithms.find_cycle(e):\n",
    "        all_trees.append(subgraph)"
   ]
  },
  {
   "cell_type": "code",
   "execution_count": 76,
   "metadata": {},
   "outputs": [
    {
     "ename": "NameError",
     "evalue": "name 'G' is not defined",
     "output_type": "error",
     "traceback": [
      "\u001b[0;31m---------------------------------------------------------------------------\u001b[0m",
      "\u001b[0;31mNameError\u001b[0m                                 Traceback (most recent call last)",
      "\u001b[0;32m<ipython-input-76-247e124a2846>\u001b[0m in \u001b[0;36m<module>\u001b[0;34m\u001b[0m\n\u001b[0;32m----> 1\u001b[0;31m \u001b[0mnx\u001b[0m\u001b[0;34m.\u001b[0m\u001b[0malgorithms\u001b[0m\u001b[0;34m.\u001b[0m\u001b[0mfind_cycle\u001b[0m\u001b[0;34m(\u001b[0m\u001b[0mG\u001b[0m\u001b[0;34m)\u001b[0m\u001b[0;34m\u001b[0m\u001b[0;34m\u001b[0m\u001b[0m\n\u001b[0m\u001b[1;32m      2\u001b[0m \u001b[0mA\u001b[0m \u001b[0;34m=\u001b[0m \u001b[0mnx\u001b[0m\u001b[0;34m.\u001b[0m\u001b[0mlinalg\u001b[0m\u001b[0;34m.\u001b[0m\u001b[0mgraphmatrix\u001b[0m\u001b[0;34m.\u001b[0m\u001b[0mincidence_matrix\u001b[0m\u001b[0;34m(\u001b[0m\u001b[0mG\u001b[0m\u001b[0;34m)\u001b[0m\u001b[0;34m\u001b[0m\u001b[0;34m\u001b[0m\u001b[0m\n\u001b[1;32m      3\u001b[0m \u001b[0mA\u001b[0m \u001b[0;34m=\u001b[0m \u001b[0msp\u001b[0m\u001b[0;34m.\u001b[0m\u001b[0msparse\u001b[0m\u001b[0;34m.\u001b[0m\u001b[0mcsr_matrix\u001b[0m\u001b[0;34m.\u001b[0m\u001b[0mtodense\u001b[0m\u001b[0;34m(\u001b[0m\u001b[0mA\u001b[0m\u001b[0;34m)\u001b[0m\u001b[0;34m.\u001b[0m\u001b[0mtranspose\u001b[0m\u001b[0;34m(\u001b[0m\u001b[0;34m)\u001b[0m\u001b[0;34m\u001b[0m\u001b[0;34m\u001b[0m\u001b[0m\n",
      "\u001b[0;31mNameError\u001b[0m: name 'G' is not defined"
     ]
    }
   ],
   "source": [
    "nx.algorithms.find_cycle(G)\n",
    "A = nx.linalg.graphmatrix.incidence_matrix(G)\n",
    "A = sp.sparse.csr_matrix.todense(A).transpose()"
   ]
  },
  {
   "cell_type": "code",
   "execution_count": null,
   "metadata": {},
   "outputs": [],
   "source": [
    "def find_subgraph(A,edges):\n",
    "    edge_indices = []\n",
    "    for edge in edges:\n",
    "        for i in range(np.shape(A,0)):\n",
    "            if A[i,edge[0]] != 0 and A[i,edge[1]] != 0:\n",
    "                edge_indices.append(i)\n",
    "                \n",
    "    if len(edges) != len(edge_indices):\n",
    "        print(\"Did not find all edges of subgraph in incidence matrix.\")\n",
    "    return edge_indices"
   ]
  },
  {
   "cell_type": "code",
   "execution_count": 70,
   "metadata": {},
   "outputs": [],
   "source": [
    "# Block RK?\n",
    "def block(A, sol, b, blocks, N, c):\n",
    "    k = len(blocks)\n",
    "    x = c\n",
    "    errors = []\n",
    "    for j in range (1, N+1):\n",
    "        i = randint(k);\n",
    "        x = x + np.linalg.pinv(A[blocks[i],:])@(b[blocks[i]] - A[blocks[i],:]@x)\n",
    "        errors.append(np.linalg.norm(x-sol))\n",
    "    return x, errors"
   ]
  },
  {
   "cell_type": "code",
   "execution_count": 71,
   "metadata": {},
   "outputs": [
    {
     "data": {
      "text/plain": [
       "1.0"
      ]
     },
     "execution_count": 71,
     "metadata": {},
     "output_type": "execute_result"
    }
   ],
   "source": [
    "A = np.random.randn(10,2)\n",
    "sum_of_rows = np.sqrt((A * A).sum(axis=1))\n",
    "A = A / sum_of_rows[:, np.newaxis]\n",
    "x = np.ones([2,1])\n",
    "b = A @ x\n",
    "np.linalg.norm(A[3,:])"
   ]
  },
  {
   "cell_type": "code",
   "execution_count": 74,
   "metadata": {},
   "outputs": [
    {
     "name": "stdout",
     "output_type": "stream",
     "text": [
      "x: [[0.]\n",
      " [0.]]\n",
      "[[1.]\n",
      " [1.]]\n",
      "x: [[1.]\n",
      " [1.]]\n",
      "[[-8.04295735e-17]\n",
      " [ 3.64955396e-16]]\n",
      "x: [[1.]\n",
      " [1.]]\n",
      "[[1.39770160e-16]\n",
      " [1.36403586e-16]]\n",
      "x: [[1.]\n",
      " [1.]]\n",
      "[[0.]\n",
      " [0.]]\n",
      "x: [[1.]\n",
      " [1.]]\n",
      "[[0.]\n",
      " [0.]]\n",
      "x: [[1.]\n",
      " [1.]]\n",
      "[[0.]\n",
      " [0.]]\n",
      "x: [[1.]\n",
      " [1.]]\n",
      "[[0.]\n",
      " [0.]]\n",
      "x: [[1.]\n",
      " [1.]]\n",
      "[[0.]\n",
      " [0.]]\n",
      "x: [[1.]\n",
      " [1.]]\n",
      "[[0.]\n",
      " [0.]]\n",
      "x: [[1.]\n",
      " [1.]]\n",
      "[[0.]\n",
      " [0.]]\n"
     ]
    }
   ],
   "source": [
    "test_x, test_errs = block(A,x,b,[[0,1],[2,3],[4,5],[6,7],[8,9]],10,np.zeros([2,1]))"
   ]
  },
  {
   "cell_type": "code",
   "execution_count": 75,
   "metadata": {},
   "outputs": [
    {
     "data": {
      "text/plain": [
       "[4.440892098500626e-16,\n",
       " 1.5700924586837752e-16,\n",
       " 0.0,\n",
       " 0.0,\n",
       " 0.0,\n",
       " 0.0,\n",
       " 0.0,\n",
       " 0.0,\n",
       " 0.0,\n",
       " 0.0]"
      ]
     },
     "execution_count": 75,
     "metadata": {},
     "output_type": "execute_result"
    }
   ],
   "source": [
    "test_errs"
   ]
  },
  {
   "cell_type": "code",
   "execution_count": null,
   "metadata": {},
   "outputs": [],
   "source": [
    "A"
   ]
  }
 ],
 "metadata": {
  "kernelspec": {
   "display_name": "Python 3",
   "language": "python",
   "name": "python3"
  },
  "language_info": {
   "codemirror_mode": {
    "name": "ipython",
    "version": 3
   },
   "file_extension": ".py",
   "mimetype": "text/x-python",
   "name": "python",
   "nbconvert_exporter": "python",
   "pygments_lexer": "ipython3",
   "version": "3.8.2"
  }
 },
 "nbformat": 4,
 "nbformat_minor": 4
}
